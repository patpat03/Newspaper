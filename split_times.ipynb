{
 "cells": [
  {
   "cell_type": "code",
   "execution_count": 1,
   "id": "informed-equipment",
   "metadata": {},
   "outputs": [],
   "source": [
    "import pandas as pd\n",
    "import os"
   ]
  },
  {
   "cell_type": "code",
   "execution_count": 2,
   "id": "posted-concentrate",
   "metadata": {},
   "outputs": [],
   "source": [
    "import glob\n",
    "\n",
    "def list_files(dir):                                                                                                  \n",
    "    r = []                                                                                                            \n",
    "    subdirs = [x[0] for x in os.walk(dir)]                                                                            \n",
    "    for subdir in subdirs:                                                                                            \n",
    "        files = os.walk(subdir).__next__()[2]                                                                             \n",
    "        if (len(files) > 0):                                                                                          \n",
    "            for file in files:\n",
    "                if \"Bibliography\" in file:\n",
    "                    continue\n",
    "                if(\"doclist\" in file):\n",
    "                    continue\n",
    "                if(\".docx\" in file):\n",
    "                    r.append(os.path.join(subdir, file))                                                                         \n",
    "    return r                                                                                                          \n",
    "\n"
   ]
  },
  {
   "cell_type": "code",
   "execution_count": 3,
   "id": "experienced-mitchell",
   "metadata": {},
   "outputs": [],
   "source": [
    "file_list = list_files(\"/Users/Mihir/Downloads/Sample/\")"
   ]
  },
  {
   "cell_type": "code",
   "execution_count": 4,
   "id": "baking-debate",
   "metadata": {},
   "outputs": [],
   "source": [
    "import docx\n",
    "import pandas as pd\n",
    "words = []\n",
    "for i in file_list:\n",
    "    doc = docx.Document(i)\n",
    "    words.append([p.text for p in doc.paragraphs])\n",
    "xml = \"/Users/Mihir/Downloads/Sample/wsj.xlsx\"\n",
    "for i in range(len(words)):\n",
    "    words[i] = ' '.join(words[i])\n",
    "    words[i] = words[i][words[0].index(\"Body\"):]"
   ]
  },
  {
   "cell_type": "code",
   "execution_count": 7,
   "id": "proprietary-composer",
   "metadata": {},
   "outputs": [],
   "source": [
    "from dateutil.parser import parse\n",
    "import DataFra z\n",
    "import re\n",
    "one = []\n",
    "two = [] \n",
    "three = []\n",
    "for i in words:\n",
    "    date =parse(i[i.index(\"Load-Date:\") + 11:i.index(\"End of Document\")])\n",
    "    if(date.year<=2012):\n",
    "        one.append(i)\n",
    "    elif(date.year <= 2016):\n",
    "        two.append(i)\n",
    "    else:\n",
    "        three.append(i)\n",
    "df_one = DataFrame(one, columns = ['text'])\n",
    "df_two = DataFrame(two, columns = ['text'])\n",
    "df_three = DataFrame(three, columns = ['text'])\n",
    "df_one['processed'] = df_one['text'].map(lambda x: re.sub('[,\\.!?]', '', x))\n",
    "# Convert the titles to lowercase\n",
    "df_one['processed'] = df_one['text'].map(lambda x: x.lower())\n",
    "\n",
    "df_two['processed'] = df_two['text'].map(lambda x: re.sub('[,\\.!?]', '', x))\n",
    "# Convert the titles to lowercase\n",
    "df_two['processed'] = df_two['text'].map(lambda x: x.lower())\n",
    "\n",
    "df_three['processed'] = df_three['text'].map(lambda x: re.sub('[,\\.!?]', '', x))\n",
    "# Convert the titles to lowercase\n",
    "df_three['processed'] = df_three['text'].map(lambda x: x.lower())"
   ]
  },
  {
   "cell_type": "code",
   "execution_count": 26,
   "id": "major-squad",
   "metadata": {},
   "outputs": [
    {
     "name": "stderr",
     "output_type": "stream",
     "text": [
      "/usr/local/lib/python3.9/site-packages/ipykernel/ipkernel.py:283: DeprecationWarning: `should_run_async` will not call `transform_cell` automatically in the future. Please pass the result to `transformed_cell` argument and any exception that happen during thetransform in `preprocessing_exc_tuple` in IPython 7.17 and above.\n",
      "  and should_run_async(code)\n"
     ]
    },
    {
     "name": "stdout",
     "output_type": "stream",
     "text": [
      "['usa', 'today', 'may', 'wednesday', 'first', 'edition', 'copyright', 'gannett', 'company', 'inc', 'all', 'rights', 'reserved', 'section', 'money', 'pg', 'length', 'words', 'byline', 'jefferson', 'graham', 'jeffersongraham', 'usa', 'today', 'body', 'drone', 'controlled', 'by', 'hand', 'gestures']\n"
     ]
    }
   ],
   "source": [
    "import gensim\n",
    "from gensim.utils import simple_preprocess\n",
    "def sent_to_words(sentences):\n",
    "    for sentence in sentences:\n",
    "        yield(gensim.utils.simple_preprocess(str(sentence), deacc=True))  # deacc=True removes punctuations\n",
    "data = df_three.processed.values.tolist()\n",
    "data_words = list(sent_to_words(data))\n",
    "print(data_words[:1][0][:30])\n"
   ]
  },
  {
   "cell_type": "code",
   "execution_count": 27,
   "id": "immediate-series",
   "metadata": {},
   "outputs": [
    {
     "name": "stderr",
     "output_type": "stream",
     "text": [
      "/usr/local/lib/python3.9/site-packages/ipykernel/ipkernel.py:283: DeprecationWarning: `should_run_async` will not call `transform_cell` automatically in the future. Please pass the result to `transformed_cell` argument and any exception that happen during thetransform in `preprocessing_exc_tuple` in IPython 7.17 and above.\n",
      "  and should_run_async(code)\n"
     ]
    }
   ],
   "source": [
    "bigram = gensim.models.Phrases(data_words, min_count=5, threshold=100) # higher threshold fewer phrases.\n",
    "trigram = gensim.models.Phrases(bigram[data_words], threshold=100)\n",
    "# Faster way to get a sentence clubbed as a trigram/bigram\n",
    "bigram_mod = gensim.models.phrases.Phraser(bigram)\n",
    "trigram_mod = gensim.models.phrases.Phraser(trigram)"
   ]
  },
  {
   "cell_type": "code",
   "execution_count": 28,
   "id": "greatest-omaha",
   "metadata": {},
   "outputs": [
    {
     "name": "stderr",
     "output_type": "stream",
     "text": [
      "/usr/local/lib/python3.9/site-packages/ipykernel/ipkernel.py:283: DeprecationWarning: `should_run_async` will not call `transform_cell` automatically in the future. Please pass the result to `transformed_cell` argument and any exception that happen during thetransform in `preprocessing_exc_tuple` in IPython 7.17 and above.\n",
      "  and should_run_async(code)\n"
     ]
    }
   ],
   "source": [
    "from nltk.corpus import stopwords\n",
    "stop_words = stopwords.words('english')\n",
    "stop_words.extend(['from', 'subject', 're', 'edu', 'use'])\n",
    "# Define functions for stopwords, bigrams, trigrams and lemmatization\n",
    "def remove_stopwords(texts):\n",
    "    return [[word for word in simple_preprocess(str(doc)) if word not in stop_words] for doc in texts]\n",
    "def make_bigrams(texts):\n",
    "    return [bigram_mod[doc] for doc in texts]\n",
    "def make_trigrams(texts):\n",
    "    return [trigram_mod[bigram_mod[doc]] for doc in texts]\n",
    "def lemmatization(texts, allowed_postags=['NOUN', 'ADJ', 'VERB', 'ADV']):\n",
    "    \"\"\"https://spacy.io/api/annotation\"\"\"\n",
    "    texts_out = []\n",
    "    for sent in texts:\n",
    "        doc = \" \".join(sent)\n",
    "        texts_out.append([token.lemma_ for token in doc])\n",
    "    return texts_out"
   ]
  },
  {
   "cell_type": "code",
   "execution_count": null,
   "id": "oriental-accreditation",
   "metadata": {},
   "outputs": [],
   "source": []
  },
  {
   "cell_type": "code",
   "execution_count": 30,
   "id": "expressed-blink",
   "metadata": {},
   "outputs": [
    {
     "name": "stderr",
     "output_type": "stream",
     "text": [
      "/usr/local/lib/python3.9/site-packages/ipykernel/ipkernel.py:283: DeprecationWarning: `should_run_async` will not call `transform_cell` automatically in the future. Please pass the result to `transformed_cell` argument and any exception that happen during thetransform in `preprocessing_exc_tuple` in IPython 7.17 and above.\n",
      "  and should_run_async(code)\n"
     ]
    }
   ],
   "source": [
    "import spacy\n",
    "# Remove Stop Words\n",
    "data_words_nostops = remove_stopwords(data_words)\n",
    "# Form Bigrams\n",
    "data_words_bigrams = make_trigrams(data_words_nostops)\n",
    "import spacy\n",
    "# Remove Stop Words\n",
    "data_words_nostops = remove_stopwords(data_words)\n",
    "# Form Bigrams\n",
    "data_words_bigrams = make_trigrams(data_words_nostops)\n",
    "# Initialize spacy 'en' model, keeping only tagger component (for efficiency)"
   ]
  },
  {
   "cell_type": "code",
   "execution_count": 31,
   "id": "honey-trader",
   "metadata": {},
   "outputs": [
    {
     "name": "stderr",
     "output_type": "stream",
     "text": [
      "/usr/local/lib/python3.9/site-packages/ipykernel/ipkernel.py:283: DeprecationWarning: `should_run_async` will not call `transform_cell` automatically in the future. Please pass the result to `transformed_cell` argument and any exception that happen during thetransform in `preprocessing_exc_tuple` in IPython 7.17 and above.\n",
      "  and should_run_async(code)\n"
     ]
    }
   ],
   "source": [
    "import nltk\n",
    "words = []\n",
    "for i in range(len(data_words_bigrams)):\n",
    "    wn = nltk.WordNetLemmatizer()\n",
    "    words.append([wn.lemmatize(word) for word in data_words_bigrams[i]])"
   ]
  },
  {
   "cell_type": "code",
   "execution_count": 32,
   "id": "stretch-employee",
   "metadata": {},
   "outputs": [
    {
     "name": "stderr",
     "output_type": "stream",
     "text": [
      "/usr/local/lib/python3.9/site-packages/ipykernel/ipkernel.py:283: DeprecationWarning: `should_run_async` will not call `transform_cell` automatically in the future. Please pass the result to `transformed_cell` argument and any exception that happen during thetransform in `preprocessing_exc_tuple` in IPython 7.17 and above.\n",
      "  and should_run_async(code)\n"
     ]
    }
   ],
   "source": [
    "import re\n",
    "import string\n",
    "import nltk\n",
    "stopwords = nltk.corpus.stopwords.words('english')\n",
    "from nltk.stem.porter import PorterStemmer"
   ]
  },
  {
   "cell_type": "code",
   "execution_count": 33,
   "id": "moderate-excitement",
   "metadata": {},
   "outputs": [
    {
     "name": "stderr",
     "output_type": "stream",
     "text": [
      "/usr/local/lib/python3.9/site-packages/ipykernel/ipkernel.py:283: DeprecationWarning: `should_run_async` will not call `transform_cell` automatically in the future. Please pass the result to `transformed_cell` argument and any exception that happen during thetransform in `preprocessing_exc_tuple` in IPython 7.17 and above.\n",
      "  and should_run_async(code)\n"
     ]
    }
   ],
   "source": [
    "from nltk.corpus import wordnet as wn\n",
    "nouns = {x.name().split('.', 1)[0] for x in wn.all_synsets('n')}\n",
    "verbs = {x.name().split('.', 1)[0] for x in wn.all_synsets('v')}"
   ]
  },
  {
   "cell_type": "code",
   "execution_count": 34,
   "id": "played-preference",
   "metadata": {},
   "outputs": [
    {
     "name": "stderr",
     "output_type": "stream",
     "text": [
      "/usr/local/lib/python3.9/site-packages/ipykernel/ipkernel.py:283: DeprecationWarning: `should_run_async` will not call `transform_cell` automatically in the future. Please pass the result to `transformed_cell` argument and any exception that happen during thetransform in `preprocessing_exc_tuple` in IPython 7.17 and above.\n",
      "  and should_run_async(code)\n"
     ]
    }
   ],
   "source": [
    "from nltk.corpus import wordnet\n",
    "dictionary = {}\n",
    "for i in range(len(words)):\n",
    "    s = set(words[i])\n",
    "    for w in s:\n",
    "        if(w in dictionary):\n",
    "            dictionary[w]+=1\n",
    "        else:\n",
    "            dictionary[w] = 0\n",
    "for i in range(len(words)):\n",
    "    temp = []\n",
    "    for w in words[i]:\n",
    "        temp.append(w)\n",
    "    for w in words[i]:\n",
    "        if(dictionary[w]>=(len(words) * 0.85) or len(w)<=2 or (w not in nouns)):\n",
    "            temp.remove(w)\n",
    "    words[i] = temp"
   ]
  },
  {
   "cell_type": "code",
   "execution_count": 35,
   "id": "immediate-equality",
   "metadata": {},
   "outputs": [
    {
     "name": "stderr",
     "output_type": "stream",
     "text": [
      "/usr/local/lib/python3.9/site-packages/ipykernel/ipkernel.py:283: DeprecationWarning: `should_run_async` will not call `transform_cell` automatically in the future. Please pass the result to `transformed_cell` argument and any exception that happen during thetransform in `preprocessing_exc_tuple` in IPython 7.17 and above.\n",
      "  and should_run_async(code)\n"
     ]
    }
   ],
   "source": [
    "import gensim\n",
    "from gensim.utils import simple_preprocess\n",
    "import gensim.corpora as corpora\n",
    "\n",
    "id2word = corpora.Dictionary(words)\n",
    "texts = words\n",
    "corpus = [id2word.doc2bow(text) for text in words]"
   ]
  },
  {
   "cell_type": "code",
   "execution_count": 36,
   "id": "oriented-improvement",
   "metadata": {},
   "outputs": [
    {
     "name": "stderr",
     "output_type": "stream",
     "text": [
      "/usr/local/lib/python3.9/site-packages/ipykernel/ipkernel.py:283: DeprecationWarning: `should_run_async` will not call `transform_cell` automatically in the future. Please pass the result to `transformed_cell` argument and any exception that happen during thetransform in `preprocessing_exc_tuple` in IPython 7.17 and above.\n",
      "  and should_run_async(code)\n"
     ]
    },
    {
     "name": "stdout",
     "output_type": "stream",
     "text": [
      "[(0,\n",
      "  '0.009*\"company\" + 0.008*\"military\" + 0.006*\"technology\" + 0.006*\"one\" + '\n",
      "  '0.005*\"government\" + 0.005*\"official\" + 0.005*\"time\" + 0.004*\"american\" + '\n",
      "  '0.004*\"china\" + 0.004*\"year\"'),\n",
      " (1,\n",
      "  '0.008*\"military\" + 0.007*\"american\" + 0.007*\"one\" + 0.006*\"official\" + '\n",
      "  '0.006*\"time\" + 0.005*\"company\" + 0.005*\"year\" + 0.005*\"syria\" + '\n",
      "  '0.004*\"technology\" + 0.004*\"attack\"'),\n",
      " (2,\n",
      "  '0.008*\"company\" + 0.008*\"military\" + 0.006*\"technology\" + 0.006*\"israel\" + '\n",
      "  '0.006*\"official\" + 0.006*\"one\" + 0.005*\"government\" + 0.005*\"iran\" + '\n",
      "  '0.004*\"time\" + 0.004*\"people\"'),\n",
      " (3,\n",
      "  '0.009*\"company\" + 0.006*\"one\" + 0.006*\"technology\" + 0.006*\"say\" + '\n",
      "  '0.005*\"military\" + 0.005*\"work\" + 0.005*\"year\" + 0.005*\"two\" + 0.004*\"war\" '\n",
      "  '+ 0.004*\"first\"'),\n",
      " (4,\n",
      "  '0.007*\"military\" + 0.007*\"company\" + 0.005*\"one\" + 0.005*\"government\" + '\n",
      "  '0.005*\"technology\" + 0.004*\"airport\" + 0.004*\"aircraft\" + 0.004*\"official\" '\n",
      "  '+ 0.004*\"first\" + 0.004*\"syria\"'),\n",
      " (5,\n",
      "  '0.009*\"military\" + 0.008*\"one\" + 0.006*\"company\" + 0.006*\"say\" + '\n",
      "  '0.005*\"technology\" + 0.005*\"official\" + 0.005*\"year\" + 0.005*\"war\" + '\n",
      "  '0.005*\"government\" + 0.005*\"force\"')]\n"
     ]
    }
   ],
   "source": [
    "from pprint import pprint\n",
    "# number of topics\n",
    "num_topics = 6\n",
    "# Build LDA model\n",
    "lda_model = gensim.models.LdaMulticore(corpus=corpus,\n",
    "                                       id2word=id2word,\n",
    "                                       num_topics=num_topics)\n",
    "# Print the Keyword in the 10 topics\n",
    "pprint(lda_model.print_topics())\n",
    "doc_lda = lda_model[corpus]"
   ]
  },
  {
   "cell_type": "code",
   "execution_count": 37,
   "id": "reverse-quilt",
   "metadata": {},
   "outputs": [
    {
     "name": "stderr",
     "output_type": "stream",
     "text": [
      "/usr/local/lib/python3.9/site-packages/ipykernel/ipkernel.py:283: DeprecationWarning: `should_run_async` will not call `transform_cell` automatically in the future. Please pass the result to `transformed_cell` argument and any exception that happen during thetransform in `preprocessing_exc_tuple` in IPython 7.17 and above.\n",
      "  and should_run_async(code)\n"
     ]
    },
    {
     "data": {
      "text/html": [
       "\n",
       "<link rel=\"stylesheet\" type=\"text/css\" href=\"https://cdn.rawgit.com/bmabey/pyLDAvis/files/ldavis.v1.0.0.css\">\n",
       "\n",
       "\n",
       "<div id=\"ldavis_el250160391280964924127996\"></div>\n",
       "<script type=\"text/javascript\">\n",
       "\n",
       "var ldavis_el250160391280964924127996_data = {\"mdsDat\": {\"x\": [-0.017923208355368602, 0.0028435914441500925, -0.001267316976766339, 0.013260361522360002, 0.005068816255980685, -0.0019822438903558197], \"y\": [0.0032633695241556853, 0.001958190793084379, -0.00020794819993075542, -0.0029061972032428606, 0.012341128068570574, -0.01444854298263706], \"topics\": [1, 2, 3, 4, 5, 6], \"cluster\": [1, 1, 1, 1, 1, 1], \"Freq\": [23.95528746892643, 21.28418002589066, 16.192119339072526, 15.722739183924286, 13.103585592932903, 9.742088389253194]}, \"tinfo\": {\"Term\": [\"israel\", \"military\", \"iran\", \"american\", \"israeli\", \"airport\", \"official\", \"syria\", \"operation\", \"area\", \"company\", \"iranian\", \"united_states\", \"aircraft\", \"force\", \"strike\", \"china\", \"amazon\", \"prison\", \"air\", \"friday\", \"work\", \"government\", \"time\", \"iraq\", \"russian\", \"one\", \"snap\", \"video\", \"passenger\", \"dock\", \"caribou\", \"northrop\", \"extension\", \"referendum\", \"clive\", \"campbell\", \"lease\", \"servicing\", \"dolphin\", \"plea\", \"heron\", \"bacteria\", \"rodin\", \"pier\", \"satellite\", \"wheeler\", \"huntington\", \"animal\", \"fjord\", \"allegiance\", \"stingray\", \"belgium\", \"calf\", \"breeding\", \"quarterly\", \"interceptor\", \"shore\", \"trunk\", \"sensing\", \"mining\", \"oslo\", \"tail\", \"migration\", \"carrier\", \"tree\", \"andrew\", \"work\", \"space\", \"life\", \"image\", \"found\", \"aaron\", \"say\", \"two\", \"business\", \"missile\", \"system\", \"industry\", \"company\", \"christmas\", \"need\", \"team\", \"video\", \"technology\", \"way\", \"war\", \"first\", \"year\", \"aircraft\", \"one\", \"like\", \"effort\", \"camera\", \"end\", \"group\", \"people\", \"government\", \"may\", \"military\", \"official\", \"time\", \"pilot\", \"defense\", \"attack\", \"day\", \"part\", \"purveyor\", \"bernard\", \"riyadh\", \"raider\", \"leaflet\", \"vanuatu\", \"consistency\", \"garrison\", \"norman\", \"abu_dhabi\", \"bartender\", \"shah\", \"workhorse\", \"blacksburg\", \"nonresident\", \"yuan\", \"damned\", \"stadium\", \"hudson\", \"extortion\", \"oakland\", \"lament\", \"seoul\", \"thanksgiving\", \"bogota\", \"taliban\", \"artificial_intelligence\", \"columnist\", \"charity\", \"airliner\", \"militiaman\", \"detection\", \"observer\", \"customer\", \"china\", \"security\", \"adviser\", \"operator\", \"delivery\", \"google\", \"sighting\", \"weapon\", \"data\", \"policy\", \"local\", \"company\", \"million\", \"airspace\", \"government\", \"military\", \"test\", \"technology\", \"country\", \"power\", \"american\", \"airport\", \"get\", \"police\", \"iran\", \"time\", \"israel\", \"force\", \"defense\", \"world\", \"people\", \"one\", \"body\", \"official\", \"like\", \"year\", \"flight\", \"say\", \"attack\", \"war\", \"day\", \"first\", \"two\", \"syria\", \"aircraft\", \"group\", \"poetry\", \"steep\", \"firework\", \"poem\", \"braun\", \"aspen\", \"lingerie\", \"durango\", \"charm\", \"saint\", \"refuge\", \"contingent\", \"utah\", \"obliviousness\", \"drifting\", \"shaheed\", \"breakfast\", \"dubai\", \"brook\", \"norm\", \"needle\", \"liability\", \"euphemism\", \"sightseeing\", \"chocolate\", \"ridge\", \"tang\", \"mountainside\", \"pancake\", \"midnight\", \"wildfire\", \"runway\", \"town\", \"richards\", \"poacher\", \"bubble\", \"councilman\", \"display\", \"city\", \"south_africa\", \"force\", \"department\", \"smoke\", \"iraq\", \"authorization\", \"county\", \"teach\", \"military\", \"resident\", \"police\", \"one\", \"war\", \"pentagon\", \"officer\", \"say\", \"spark\", \"area\", \"like\", \"china\", \"airport\", \"google\", \"show\", \"fly\", \"state\", \"syria\", \"year\", \"technology\", \"may\", \"government\", \"official\", \"day\", \"two\", \"company\", \"small\", \"country\", \"world\", \"time\", \"group\", \"people\", \"operation\", \"body\", \"first\", \"american\", \"tucson\", \"allentown\", \"baltimore\", \"beaumont\", \"portsmouth\", \"kodiak\", \"pennsylvania\", \"pollock\", \"yazoo\", \"tobacco\", \"inmate\", \"heroin\", \"clinton\", \"lovell\", \"penitentiary\", \"coffee\", \"vest\", \"competence\", \"florence\", \"prison\", \"cutter\", \"java\", \"austria\", \"sleepiness\", \"mill\", \"instrument\", \"yogurt\", \"indiana\", \"hamburg\", \"illinois\", \"sanction\", \"schubert\", \"nielsen\", \"yard\", \"niamey\", \"libya\", \"russian\", \"facility\", \"american\", \"federal\", \"niger\", \"operation\", \"time\", \"proposal\", \"president\", \"strike\", \"law\", \"syria\", \"person\", \"official\", \"attack\", \"united_states\", \"military\", \"one\", \"israel\", \"safety\", \"iran\", \"july\", \"country\", \"year\", \"authority\", \"group\", \"small\", \"fighter\", \"get\", \"place\", \"people\", \"aircraft\", \"force\", \"company\", \"pilot\", \"technology\", \"government\", \"war\", \"first\", \"like\", \"say\", \"part\", \"dane\", \"yorkshire\", \"leash\", \"retrieval\", \"settlement\", \"pup\", \"egg\", \"wale\", \"climate_change\", \"glass\", \"guess\", \"jackson\", \"guest\", \"junction\", \"dog\", \"swimmer\", \"tel_aviv\", \"accomplishment\", \"burger\", \"naught\", \"kuwait\", \"rover\", \"jordan\", \"afghan\", \"proof\", \"sheridan\", \"amos\", \"tomato\", \"assertiveness\", \"slope\", \"refugee\", \"iranian\", \"israeli\", \"trip\", \"israel\", \"traveler\", \"cooper\", \"civil_war\", \"grape\", \"escalation\", \"wine\", \"little\", \"photographer\", \"unit\", \"iran\", \"vineyard\", \"pakistan\", \"strike\", \"video\", \"white_house\", \"official\", \"company\", \"military\", \"technology\", \"concern\", \"government\", \"people\", \"footage\", \"group\", \"day\", \"time\", \"camera\", \"one\", \"united_states\", \"saturday\", \"year\", \"syria\", \"program\", \"american\", \"say\", \"take\", \"back\", \"way\", \"first\", \"body\", \"country\", \"attack\", \"world\", \"like\", \"two\", \"system\", \"snap\", \"landmass\", \"disposable\", \"guitarist\", \"lunchtime\", \"payroll\", \"authentication\", \"prospectus\", \"steal\", \"detective\", \"cambridge\", \"song\", \"constable\", \"festival\", \"grocer\", \"reassurance\", \"unveiling\", \"schubert\", \"pantry\", \"chord\", \"album\", \"truffle\", \"sunglass\", \"americanism\", \"parker\", \"lineage\", \"helium\", \"composer\", \"harmonica\", \"brooklyn\", \"music\", \"grocery\", \"retail\", \"amazon\", \"friday\", \"instrument\", \"product\", \"art\", \"collision\", \"airport\", \"passenger\", \"report\", \"sighting\", \"air\", \"airfield\", \"area\", \"aircraft\", \"test\", \"border\", \"measure\", \"iraq\", \"number\", \"network\", \"iran\", \"work\", \"first\", \"operation\", \"system\", \"flight\", \"military\", \"company\", \"united_states\", \"syria\", \"government\", \"plan\", \"may\", \"body\", \"people\", \"one\", \"official\", \"group\", \"technology\", \"two\", \"year\", \"say\", \"attack\", \"time\", \"china\", \"american\", \"like\"], \"Freq\": [209.0, 529.0, 198.0, 271.0, 132.0, 189.0, 333.0, 241.0, 179.0, 168.0, 532.0, 91.0, 202.0, 215.0, 195.0, 181.0, 191.0, 69.0, 68.0, 143.0, 69.0, 218.0, 313.0, 300.0, 100.0, 83.0, 448.0, 18.0, 181.0, 66.0, 4.771210464345698, 22.228629915691332, 3.32407767225409, 4.604686368378766, 1.2953499145254266, 1.2923122184157332, 1.2911934526996256, 1.2605208396043923, 1.2585346489915403, 3.1642300380522204, 5.390441001639089, 2.278612899932827, 1.6865221662867835, 2.2030158314197195, 1.677265036108821, 31.876383033279698, 1.6598403668911368, 1.6522837850155305, 10.604175369288894, 8.876725908890723, 1.0846309717260187, 1.5917266386355595, 2.0273740084878957, 1.5683950329200627, 1.5548415494257743, 0.9967665425320337, 1.4861285826649737, 4.046433872630555, 1.4905495688013919, 3.5950452921520064, 2.0243227626788585, 8.992540438166701, 4.327657760446351, 5.446854625545785, 10.718290693025514, 13.797469878642131, 4.6890909856042144, 82.16239247034657, 40.73313253497898, 48.68238713896217, 33.33006899707927, 28.208595142609724, 24.227536249996167, 101.72400601164571, 77.74988771330159, 37.62485982555284, 33.24651105295878, 62.36930807239052, 59.75337137899929, 144.84638950240662, 12.86073302077056, 44.070633930994, 39.59655152769053, 55.42674095431582, 105.5819369552797, 59.20061395771658, 67.87773009036826, 67.25538336636448, 81.60175620406872, 60.27837901602545, 105.69824073856442, 66.71499694265222, 36.14841036685531, 40.81447174634923, 43.075290106893085, 63.276832266753836, 64.69474311806556, 65.8417146695717, 45.54566933818521, 87.42727341300852, 60.943983216219706, 57.76400403303265, 45.31551487754385, 43.21843352526041, 47.33403434061447, 45.658816896008325, 42.61647726772892, 1.1371716193056758, 2.1175645879016844, 1.4117304046228845, 1.4114055724453904, 2.7578321282458784, 5.373532879762244, 1.2770695172267967, 2.495703515282002, 1.2821173767276064, 2.799432338596326, 1.6660182521084397, 1.5669099482791387, 3.049368519485023, 1.213202413598144, 1.1743397955656014, 1.939307968541222, 0.7929684355302115, 5.652474242250797, 1.9721304434028741, 1.8589291952292024, 3.2006238301375753, 1.573617109109992, 2.5915627381292703, 1.144723018423545, 2.614040257146605, 10.568025638444421, 25.245421485373644, 1.0761714985751452, 1.4728165326711957, 4.922099231993179, 1.4762781916391674, 5.59573631013835, 2.5899495315155656, 15.361077885658963, 65.93663795596193, 54.19118536899692, 9.657687745114709, 31.74231145218388, 22.053036353689087, 39.310615292094155, 12.857975571884712, 43.02792575194798, 35.38623478529997, 31.45581879903561, 25.984864898978383, 133.7514865812267, 26.238247446235043, 17.620615284465956, 78.35852237083827, 122.98060948428126, 27.099386116965913, 93.32789277995725, 52.13700871659027, 31.494089777826677, 66.45407186237365, 49.05505828243381, 41.7912424729305, 44.13310221520667, 49.748406112034424, 69.3658176106779, 51.96207004914096, 48.92494667239498, 40.831504058664244, 46.439877045485126, 62.28085190356517, 89.82907084171708, 46.307481740511626, 69.79559650300173, 55.58363885478873, 65.21208194269492, 43.90001262278735, 65.03570989225472, 49.986090859611025, 52.76386215218908, 47.69304249356751, 51.29366586011089, 50.69088492917291, 48.90370969776702, 46.20045349675006, 45.35989411038861, 3.480496994460835, 1.7874263259556977, 9.202269079967794, 2.4181705785577323, 2.004974220242593, 1.9484357452666121, 3.0301905682819377, 1.3496859947457989, 2.031059735993126, 0.8022010633840854, 1.2352575235190113, 0.8104109363002316, 2.017744693611942, 0.7716328370511328, 0.7788317918562186, 0.7651455349319674, 0.7610450127833084, 4.1481811783656575, 0.7522177141223804, 0.7531490921535304, 0.7535694829285755, 0.746145934661336, 0.7259862373745842, 0.7358992086200153, 0.718755763575177, 0.7391349386757896, 1.0515592964136544, 0.715868310155608, 0.7158392664749769, 2.3679055385980874, 3.8182264840531825, 12.414040079472246, 15.64631261708406, 1.427130391575658, 4.076945280822996, 1.3838993680188778, 1.389988144633928, 8.412820255142206, 39.45909302969471, 2.5759429476455713, 51.13629493155381, 27.5351571398699, 3.2113914514052944, 26.857045284493005, 1.975488118544521, 8.834728562500313, 2.528823371302466, 104.70775990596388, 11.314319594714668, 38.74344617760392, 88.14479836431171, 52.488700718471904, 32.22464486662663, 19.360561074268475, 62.40668463914651, 10.125920171902624, 35.5824138280785, 48.33149916697748, 38.721705662484176, 38.22796573208865, 27.435286483517668, 21.697249276773594, 33.742470256746934, 30.062332282296545, 43.53173258486414, 52.72310434384238, 61.16405868434509, 33.05083724786893, 51.2649056300579, 53.4940028378321, 37.988117736767116, 41.884221880056394, 71.32917792384505, 30.819379580959794, 35.657483821506304, 34.010738813733376, 43.95721194477258, 39.95177154557991, 40.58068340596758, 32.77611307277855, 32.27478218039987, 34.184900564805574, 34.84535914302791, 1.0584794014617225, 1.0377620061733515, 1.037451386252811, 1.0276294834158528, 1.025716090343285, 1.0239312075499398, 1.0235776440448212, 1.0118782412806144, 1.003417874406943, 0.9966460877358276, 9.357818568860967, 1.2909702799454652, 1.2568893378718542, 0.8201042103486045, 1.2312223739863346, 3.679599572790017, 0.8061029192849273, 0.78051927877247, 1.5632624904194201, 28.869700269055155, 1.2027681631532579, 0.7728933474088394, 1.1277526110971612, 0.7576958852299526, 1.1688290310511085, 5.437094293884036, 0.7507091402800624, 1.129762787472286, 1.1092001012544752, 1.1451950773496777, 2.4939429058372373, 2.4193497391876635, 2.5097839609544015, 5.625989662514005, 6.457404379806774, 14.777087429450914, 27.6091714623903, 19.627719135323254, 78.4496223250099, 32.0036102645434, 15.163457910340158, 42.8846839267225, 63.898766826709085, 9.986548540231004, 26.116052510261678, 40.849099050406075, 26.874259311982033, 50.54899852262863, 15.299194248854514, 65.51630680329022, 45.786439622082995, 42.72185210918638, 90.09649162534825, 76.19985023159403, 41.96287360484166, 17.742134277091377, 39.872100453801046, 12.671910871952969, 38.11705640129859, 53.58342553827284, 22.061624346124084, 43.658796519411396, 30.47803109006585, 19.747713765819096, 30.044103473526867, 23.66958854429331, 41.269446239033975, 35.46950108868005, 33.102896807250545, 57.27756343728964, 30.144014607318635, 47.0806131248923, 41.25282771275124, 34.73546062894381, 34.15592221323358, 32.117760721842465, 33.04981084532362, 29.066502384839698, 0.866461958182098, 0.8640775910242916, 0.857587470354307, 0.8545482018247521, 3.0511181846361324, 1.068820539329896, 2.480840913916785, 1.6967650541866408, 4.848680893100768, 3.5616036545453365, 1.3036240481937869, 6.443962943531475, 1.5115815419560301, 0.6209409162556077, 8.978425376247746, 1.538744591286171, 2.0758622718320616, 0.8908199089572683, 0.8976766755726311, 0.8870209735326906, 1.4788033543759078, 0.8977303603914408, 1.1631447659785807, 5.629002287666692, 0.8657633878159446, 1.1582984424099119, 1.4185273218418737, 1.4336403996027633, 0.8541479027093736, 1.1172704205840447, 3.2435090841084366, 27.65414309564782, 38.68894916399434, 5.516311175768812, 55.52767494576757, 5.060835284377273, 4.071366115476839, 4.111588330843259, 4.198740425952155, 3.231944946794981, 5.608307190648519, 14.92975772617564, 8.308531250175566, 17.358482432928817, 41.73946907005269, 6.012968397871774, 14.889221147467234, 35.3617809701521, 34.35127135860802, 9.464955130889877, 53.90544258211708, 75.35050316462875, 73.6354863404014, 55.586374621084616, 17.742440530474376, 44.08019981826967, 39.66682267912052, 11.928669519251756, 36.77118427659418, 31.59322420871583, 40.46863135564288, 22.54093600026813, 52.612011304559246, 29.865974724282093, 15.59213010166414, 39.5564360081017, 32.77875808148025, 19.38346738830398, 33.887908873535814, 37.23745268618703, 22.843504707434338, 21.860503090212895, 25.735337630864162, 27.89848220352238, 24.574266941803327, 24.655703339785216, 25.577411316713096, 23.595466094881584, 25.7323590582305, 24.68780312219232, 23.189125968399434, 7.968199322733087, 0.5996044191921617, 0.5671148129322469, 1.381703973334074, 0.5536721543215573, 0.5493461705902382, 0.5313075203815906, 0.7996818369451524, 0.5317843406719135, 1.917206767626638, 2.4946653788902586, 1.6061207709227894, 1.574451960777419, 1.0625898221575087, 1.0591165052982965, 1.4834519129243604, 0.500731897077782, 1.7443207157248901, 0.4998263108481026, 0.9761466969207857, 0.6986459754646412, 0.4684194664155936, 0.4659040594285387, 0.45884741698930676, 2.3955856472087986, 0.45828153729233734, 0.7107537358341248, 2.329397331618578, 0.4550438753959739, 0.9114982055643222, 3.1563747845565326, 1.3626132902683183, 2.07515625638915, 16.054969777900375, 15.470956116307196, 3.139226331270953, 12.293432453032977, 7.593195876379729, 4.380280779333828, 30.60772083025041, 12.055521318549115, 17.42445206035312, 7.212078804581931, 21.99210787412017, 3.8030038611740675, 24.814042048831467, 30.17329043463083, 14.835390064711946, 11.253135183288986, 7.5071301366554515, 15.142327898640222, 15.135169786063205, 10.10407066299474, 25.356614591295344, 27.1638489767353, 29.350288585662703, 22.956073388786056, 24.46752966973705, 22.977693875286988, 51.05704098658947, 49.93800844993226, 24.214120411351416, 27.205930291019623, 32.59898511129557, 11.314791695582695, 19.996530615789922, 21.012220086405136, 26.3506867525568, 35.836717302040164, 29.647402680537212, 24.425540492720696, 31.08469640364133, 23.467560723325597, 26.290973860045153, 26.13253906205222, 21.96015371644447, 24.834629962501715, 19.98398406161032, 21.295048139023738, 20.656719557963015], \"Total\": [209.0, 529.0, 198.0, 271.0, 132.0, 189.0, 333.0, 241.0, 179.0, 168.0, 532.0, 91.0, 202.0, 215.0, 195.0, 181.0, 191.0, 69.0, 68.0, 143.0, 69.0, 218.0, 313.0, 300.0, 100.0, 83.0, 448.0, 18.0, 181.0, 66.0, 6.659561384429837, 33.83605104459135, 5.212907771141758, 7.483221968362197, 2.1059720254206735, 2.106079055630416, 2.105883452549475, 2.0950599810780832, 2.0976375100637443, 5.30300550490349, 9.624460150584477, 4.069343011744769, 3.0927849980112, 4.050605870018383, 3.0866292960015933, 58.811878182436956, 3.0831959229294887, 3.072381218513754, 19.8327428645206, 16.760410112971858, 2.065636969641058, 3.0511913556891512, 3.9604884590630984, 3.0667729508861137, 3.0595999448531934, 1.9841582230162278, 2.96717879635795, 8.095204970001266, 2.9839316725279796, 7.201674427693241, 4.056974545462271, 18.370331660056102, 8.766557318037686, 11.216039527744362, 23.571262987503555, 31.257150123735578, 9.919190102084368, 218.35933955168537, 102.09470779082883, 127.16837891350399, 88.67116373110292, 73.61011179822012, 62.30954749626834, 325.58620313660975, 240.9385430026386, 105.62449355395266, 91.7499054171694, 195.02380906356404, 187.61080236777724, 532.493129059329, 31.443562768832468, 133.93470073265215, 120.16666052888242, 181.40163429237438, 393.82557256920023, 200.86855501267644, 246.7690995902322, 244.1386427936996, 318.9677778970257, 215.77861797371338, 448.32068878278665, 249.1369743024544, 113.96913671992252, 134.32479436756284, 146.07767597027052, 253.44401921144862, 274.8432340983096, 313.3971553127844, 168.28696095471315, 529.9046617555928, 333.302734622998, 300.2890617333368, 173.0122457497189, 156.58258997898503, 219.32719358659526, 207.7650126521409, 169.549420456699, 1.9070934136164974, 3.731672437739405, 2.7939523552303718, 2.8652749495969676, 5.612284223047456, 11.20327802267943, 2.811427813778622, 5.52009975970511, 2.848249678483101, 6.354729182901972, 3.8030760013042406, 3.6003269912931586, 7.009806093192802, 2.7896786189847282, 2.741841794961399, 4.544940730526152, 1.8792539955731338, 13.47847439630659, 4.712030954311728, 4.487190605257548, 7.736542557741328, 3.8134202927490777, 6.309674499856729, 2.83917536072782, 6.53321071930624, 26.442329315658064, 63.17377031573823, 2.6973780832378704, 3.692371080748054, 12.342200552336166, 3.711268494489624, 14.399651679241742, 6.5828089966791055, 41.83063031398285, 191.74040403542557, 161.16556360074347, 26.46776176187801, 97.16057467112918, 65.7798327381106, 124.50311737536539, 36.87493803611816, 140.00456834771921, 117.08891828695268, 103.43065382553237, 83.588158628222, 532.493129059329, 85.0514949629043, 54.18033693186222, 313.3971553127844, 529.9046617555928, 91.33892203577311, 393.82557256920023, 199.74182884591775, 109.90632703957104, 271.27064188718293, 189.34302131916087, 158.15121208944868, 169.7937831249391, 198.45154157721765, 300.2890617333368, 209.46558729573525, 195.89717919086922, 156.58258997898503, 184.89905380561882, 274.8432340983096, 448.32068878278665, 186.8211964245011, 333.302734622998, 249.1369743024544, 318.9677778970257, 180.1978998101959, 325.58620313660975, 219.32719358659526, 246.7690995902322, 207.7650126521409, 244.1386427936996, 240.9385430026386, 241.4104201558877, 215.77861797371338, 253.44401921144862, 4.953827776916359, 2.5605716840122423, 14.12721723504282, 4.246747793102041, 3.5262810274855365, 3.540693312506723, 5.917258483314783, 2.675670749391754, 4.249070863263107, 1.7049373672187174, 2.6272864652940204, 1.7662682063814021, 4.427472211196351, 1.6992234532505615, 1.773286127332948, 1.7763528711985135, 1.7801029165376776, 9.751606667294977, 1.7788383310520268, 1.7858980077082653, 1.7894713765792394, 1.7907554081969426, 1.7467005989016344, 1.787731581832375, 1.7484172641079345, 1.798607101542563, 2.5682543255819232, 1.7926244330975611, 1.7931495625152227, 5.939624140891664, 9.875205393363625, 32.94432064985634, 46.572158630884886, 3.633563363118906, 11.413903233638525, 3.527624619037861, 3.546174697510243, 25.851774240673254, 143.9761615381843, 6.994489639371549, 195.89717919086922, 99.14763750293244, 8.998501824834346, 100.82775255569906, 5.2266808637914295, 28.69133640085333, 6.939924510472926, 529.9046617555928, 39.8152183644349, 169.7937831249391, 448.32068878278665, 246.7690995902322, 138.57233908864228, 76.46627576245079, 325.58620313660975, 35.05372517546512, 168.7295874975943, 249.1369743024544, 191.74040403542557, 189.34302131916087, 124.50311737536539, 92.46984996413312, 166.70461785053277, 144.20324860714226, 241.4104201558877, 318.9677778970257, 393.82557256920023, 168.28696095471315, 313.3971553127844, 333.302734622998, 207.7650126521409, 240.9385430026386, 532.493129059329, 156.93988525784255, 199.74182884591775, 184.89905380561882, 300.2890617333368, 253.44401921144862, 274.8432340983096, 179.1116347128623, 186.8211964245011, 244.1386427936996, 271.27064188718293, 1.8679913964848753, 1.8675403205803651, 1.8676859668077217, 1.868705794329019, 1.868441693102493, 1.869131527886406, 1.8685657149398505, 1.8694236360778178, 1.8706836086041576, 1.8701383843972381, 19.585707185331877, 2.806736265136615, 2.816162971639809, 1.8449637395355467, 2.7905609566662672, 8.34048984996207, 1.8334927455008452, 1.8328617637136333, 3.6864897114288033, 68.28237830437396, 2.8460807260624406, 1.8342457395728269, 2.6875118462677037, 1.8368784078455296, 2.8384102481118885, 13.204777848097567, 1.8238683768470736, 2.750893517128248, 2.7190407854334113, 2.818806478627145, 6.165982065135274, 5.9812686170846305, 6.368335222378174, 14.830238765884758, 17.152805248752916, 41.29460447122658, 83.59328818071256, 58.02680531318927, 271.27064188718293, 106.37789266026887, 51.669851076604964, 179.1116347128623, 300.2890617333368, 33.45454033423144, 105.15771439339021, 181.70045175520963, 111.52016425792597, 241.4104201558877, 56.2473564066408, 333.302734622998, 219.32719358659526, 202.14308268424907, 529.9046617555928, 448.32068878278665, 209.46558729573525, 70.18717040515429, 198.45154157721765, 46.56212128214846, 199.74182884591775, 318.9677778970257, 98.66369436329447, 253.44401921144862, 156.93988525784255, 85.35310701553797, 158.15121208944868, 112.32116153915884, 274.8432340983096, 215.77861797371338, 195.89717919086922, 532.493129059329, 173.0122457497189, 393.82557256920023, 313.3971553127844, 246.7690995902322, 244.1386427936996, 249.1369743024544, 325.58620313660975, 169.549420456699, 1.6892378679426523, 1.690273917372916, 1.6945191908465433, 1.696279822115198, 6.11074076512361, 2.5821098517327576, 6.0057476784296036, 4.49461196649239, 13.004797242707964, 9.63184620793838, 3.581101056087081, 18.195650592479616, 4.315560170389515, 1.774268331684673, 25.81500285158153, 4.4331082730593225, 5.986049804793714, 2.5752281980932086, 2.595849118567519, 2.573828708818816, 4.334846538081512, 2.6438853478272537, 3.435230381228021, 16.80294404504554, 2.5984375805144007, 3.480975828483938, 4.296738423968147, 4.350990900742885, 2.601970944739363, 3.404535792029452, 10.086023902569579, 91.86706943608914, 132.32062758934558, 17.70722625734988, 209.46558729573525, 16.423731612173547, 13.064906417414088, 13.300202065792257, 13.741732242612576, 10.410800768436058, 19.19993135987405, 59.14885504292591, 30.669719787548566, 71.83309159561381, 198.45154157721765, 21.351924504757527, 63.13153102244478, 181.70045175520963, 181.40163429237438, 37.286228561633344, 333.302734622998, 532.493129059329, 529.9046617555928, 393.82557256920023, 90.93290904051037, 313.3971553127844, 274.8432340983096, 55.250534390491495, 253.44401921144862, 207.7650126521409, 300.2890617333368, 134.32479436756284, 448.32068878278665, 202.14308268424907, 80.27275474868259, 318.9677778970257, 241.4104201558877, 110.6578825061269, 271.27064188718293, 325.58620313660975, 151.56460571937552, 143.12443269461278, 200.86855501267644, 244.1386427936996, 186.8211964245011, 199.74182884591775, 219.32719358659526, 184.89905380561882, 249.1369743024544, 240.9385430026386, 195.02380906356404, 18.29836049476281, 1.7142115635735014, 1.6905881140380679, 4.131081026439033, 1.6629660718216794, 1.7014316842160642, 1.6494473263579015, 2.487812793717287, 1.6663747813202772, 6.008098539723881, 7.8956526443523405, 5.086878308200461, 5.025449825708961, 3.4311453643280534, 3.5268213651074, 4.94279746925503, 1.682650138605505, 5.9812686170846305, 1.7318220617650737, 3.471344061631944, 2.5192338156120027, 1.7045097914764353, 1.7061645254423043, 1.6899115148471076, 8.846879986478815, 1.6994443612782901, 2.6442050149542453, 8.691268052991767, 1.7043624512929751, 3.451782626997691, 12.049988287903911, 5.189905973236052, 8.052008446896279, 69.51766532024077, 69.60451958072962, 13.204777848097567, 59.319696049694485, 35.17766227097562, 19.316522005581856, 189.34302131916087, 66.13785065658946, 104.59550530780817, 36.87493803611816, 143.42503188242603, 17.483060030857743, 168.7295874975943, 215.77861797371338, 91.33892203577311, 67.00458489111048, 40.62794414297997, 100.82775255569906, 100.8279098509025, 60.89333683338728, 198.45154157721765, 218.35933955168537, 244.1386427936996, 179.1116347128623, 195.02380906356404, 180.1978998101959, 529.9046617555928, 532.493129059329, 202.14308268424907, 241.4104201558877, 313.3971553127844, 72.1228832830759, 168.28696095471315, 186.8211964245011, 274.8432340983096, 448.32068878278665, 333.302734622998, 253.44401921144862, 393.82557256920023, 240.9385430026386, 318.9677778970257, 325.58620313660975, 219.32719358659526, 300.2890617333368, 191.74040403542557, 271.27064188718293, 249.1369743024544], \"Category\": [\"Default\", \"Default\", \"Default\", \"Default\", \"Default\", \"Default\", \"Default\", \"Default\", \"Default\", \"Default\", \"Default\", \"Default\", \"Default\", \"Default\", \"Default\", \"Default\", \"Default\", \"Default\", \"Default\", \"Default\", \"Default\", \"Default\", \"Default\", \"Default\", \"Default\", \"Default\", \"Default\", \"Default\", \"Default\", \"Default\", \"Topic1\", \"Topic1\", \"Topic1\", \"Topic1\", \"Topic1\", \"Topic1\", \"Topic1\", \"Topic1\", \"Topic1\", \"Topic1\", \"Topic1\", \"Topic1\", \"Topic1\", \"Topic1\", \"Topic1\", \"Topic1\", \"Topic1\", \"Topic1\", \"Topic1\", \"Topic1\", \"Topic1\", \"Topic1\", \"Topic1\", \"Topic1\", \"Topic1\", \"Topic1\", \"Topic1\", \"Topic1\", \"Topic1\", \"Topic1\", \"Topic1\", \"Topic1\", \"Topic1\", \"Topic1\", \"Topic1\", \"Topic1\", \"Topic1\", \"Topic1\", \"Topic1\", \"Topic1\", \"Topic1\", \"Topic1\", \"Topic1\", \"Topic1\", \"Topic1\", \"Topic1\", \"Topic1\", \"Topic1\", \"Topic1\", \"Topic1\", \"Topic1\", \"Topic1\", \"Topic1\", \"Topic1\", \"Topic1\", \"Topic1\", \"Topic1\", \"Topic1\", \"Topic1\", \"Topic1\", \"Topic1\", \"Topic1\", \"Topic1\", \"Topic1\", \"Topic1\", \"Topic1\", \"Topic1\", \"Topic1\", \"Topic1\", \"Topic1\", \"Topic1\", \"Topic1\", \"Topic1\", \"Topic1\", \"Topic1\", \"Topic1\", \"Topic1\", \"Topic2\", \"Topic2\", \"Topic2\", \"Topic2\", \"Topic2\", \"Topic2\", \"Topic2\", \"Topic2\", \"Topic2\", \"Topic2\", \"Topic2\", \"Topic2\", \"Topic2\", \"Topic2\", \"Topic2\", \"Topic2\", \"Topic2\", \"Topic2\", \"Topic2\", \"Topic2\", \"Topic2\", \"Topic2\", \"Topic2\", \"Topic2\", \"Topic2\", \"Topic2\", \"Topic2\", \"Topic2\", \"Topic2\", \"Topic2\", \"Topic2\", \"Topic2\", \"Topic2\", \"Topic2\", \"Topic2\", \"Topic2\", \"Topic2\", \"Topic2\", \"Topic2\", \"Topic2\", \"Topic2\", \"Topic2\", \"Topic2\", \"Topic2\", \"Topic2\", \"Topic2\", \"Topic2\", \"Topic2\", \"Topic2\", \"Topic2\", \"Topic2\", \"Topic2\", \"Topic2\", \"Topic2\", \"Topic2\", \"Topic2\", \"Topic2\", \"Topic2\", \"Topic2\", \"Topic2\", \"Topic2\", \"Topic2\", \"Topic2\", \"Topic2\", \"Topic2\", \"Topic2\", \"Topic2\", \"Topic2\", \"Topic2\", \"Topic2\", \"Topic2\", \"Topic2\", \"Topic2\", \"Topic2\", \"Topic2\", \"Topic2\", \"Topic2\", \"Topic2\", \"Topic2\", \"Topic2\", \"Topic3\", \"Topic3\", \"Topic3\", \"Topic3\", \"Topic3\", \"Topic3\", \"Topic3\", \"Topic3\", \"Topic3\", \"Topic3\", \"Topic3\", \"Topic3\", \"Topic3\", \"Topic3\", \"Topic3\", \"Topic3\", \"Topic3\", \"Topic3\", \"Topic3\", \"Topic3\", \"Topic3\", \"Topic3\", \"Topic3\", \"Topic3\", \"Topic3\", \"Topic3\", \"Topic3\", \"Topic3\", \"Topic3\", \"Topic3\", \"Topic3\", \"Topic3\", \"Topic3\", \"Topic3\", \"Topic3\", \"Topic3\", \"Topic3\", \"Topic3\", \"Topic3\", \"Topic3\", \"Topic3\", \"Topic3\", \"Topic3\", \"Topic3\", \"Topic3\", \"Topic3\", \"Topic3\", \"Topic3\", \"Topic3\", \"Topic3\", \"Topic3\", \"Topic3\", \"Topic3\", \"Topic3\", \"Topic3\", \"Topic3\", \"Topic3\", \"Topic3\", \"Topic3\", \"Topic3\", \"Topic3\", \"Topic3\", \"Topic3\", \"Topic3\", \"Topic3\", \"Topic3\", \"Topic3\", \"Topic3\", \"Topic3\", \"Topic3\", \"Topic3\", \"Topic3\", \"Topic3\", \"Topic3\", \"Topic3\", \"Topic3\", \"Topic3\", \"Topic3\", \"Topic3\", \"Topic3\", \"Topic3\", \"Topic3\", \"Topic3\", \"Topic4\", \"Topic4\", \"Topic4\", \"Topic4\", \"Topic4\", \"Topic4\", \"Topic4\", \"Topic4\", \"Topic4\", \"Topic4\", \"Topic4\", \"Topic4\", \"Topic4\", \"Topic4\", \"Topic4\", \"Topic4\", \"Topic4\", \"Topic4\", \"Topic4\", \"Topic4\", \"Topic4\", \"Topic4\", \"Topic4\", \"Topic4\", \"Topic4\", \"Topic4\", \"Topic4\", \"Topic4\", \"Topic4\", \"Topic4\", \"Topic4\", \"Topic4\", \"Topic4\", \"Topic4\", \"Topic4\", \"Topic4\", \"Topic4\", \"Topic4\", \"Topic4\", \"Topic4\", \"Topic4\", \"Topic4\", \"Topic4\", \"Topic4\", \"Topic4\", \"Topic4\", \"Topic4\", \"Topic4\", \"Topic4\", \"Topic4\", \"Topic4\", \"Topic4\", \"Topic4\", \"Topic4\", \"Topic4\", \"Topic4\", \"Topic4\", \"Topic4\", \"Topic4\", \"Topic4\", \"Topic4\", \"Topic4\", \"Topic4\", \"Topic4\", \"Topic4\", \"Topic4\", \"Topic4\", \"Topic4\", \"Topic4\", \"Topic4\", \"Topic4\", \"Topic4\", \"Topic4\", \"Topic4\", \"Topic4\", \"Topic4\", \"Topic4\", \"Topic4\", \"Topic5\", \"Topic5\", \"Topic5\", \"Topic5\", \"Topic5\", \"Topic5\", \"Topic5\", \"Topic5\", \"Topic5\", \"Topic5\", \"Topic5\", \"Topic5\", \"Topic5\", \"Topic5\", \"Topic5\", \"Topic5\", \"Topic5\", \"Topic5\", \"Topic5\", \"Topic5\", \"Topic5\", \"Topic5\", \"Topic5\", \"Topic5\", \"Topic5\", \"Topic5\", \"Topic5\", \"Topic5\", \"Topic5\", \"Topic5\", \"Topic5\", \"Topic5\", \"Topic5\", \"Topic5\", \"Topic5\", \"Topic5\", \"Topic5\", \"Topic5\", \"Topic5\", \"Topic5\", \"Topic5\", \"Topic5\", \"Topic5\", \"Topic5\", \"Topic5\", \"Topic5\", \"Topic5\", \"Topic5\", \"Topic5\", \"Topic5\", \"Topic5\", \"Topic5\", \"Topic5\", \"Topic5\", \"Topic5\", \"Topic5\", \"Topic5\", \"Topic5\", \"Topic5\", \"Topic5\", \"Topic5\", \"Topic5\", \"Topic5\", \"Topic5\", \"Topic5\", \"Topic5\", \"Topic5\", \"Topic5\", \"Topic5\", \"Topic5\", \"Topic5\", \"Topic5\", \"Topic5\", \"Topic5\", \"Topic5\", \"Topic5\", \"Topic5\", \"Topic5\", \"Topic5\", \"Topic5\", \"Topic5\", \"Topic6\", \"Topic6\", \"Topic6\", \"Topic6\", \"Topic6\", \"Topic6\", \"Topic6\", \"Topic6\", \"Topic6\", \"Topic6\", \"Topic6\", \"Topic6\", \"Topic6\", \"Topic6\", \"Topic6\", \"Topic6\", \"Topic6\", \"Topic6\", \"Topic6\", \"Topic6\", \"Topic6\", \"Topic6\", \"Topic6\", \"Topic6\", \"Topic6\", \"Topic6\", \"Topic6\", \"Topic6\", \"Topic6\", \"Topic6\", \"Topic6\", \"Topic6\", \"Topic6\", \"Topic6\", \"Topic6\", \"Topic6\", \"Topic6\", \"Topic6\", \"Topic6\", \"Topic6\", \"Topic6\", \"Topic6\", \"Topic6\", \"Topic6\", \"Topic6\", \"Topic6\", \"Topic6\", \"Topic6\", \"Topic6\", \"Topic6\", \"Topic6\", \"Topic6\", \"Topic6\", \"Topic6\", \"Topic6\", \"Topic6\", \"Topic6\", \"Topic6\", \"Topic6\", \"Topic6\", \"Topic6\", \"Topic6\", \"Topic6\", \"Topic6\", \"Topic6\", \"Topic6\", \"Topic6\", \"Topic6\", \"Topic6\", \"Topic6\", \"Topic6\", \"Topic6\", \"Topic6\", \"Topic6\", \"Topic6\", \"Topic6\", \"Topic6\", \"Topic6\", \"Topic6\", \"Topic6\"], \"logprob\": [30.0, 29.0, 28.0, 27.0, 26.0, 25.0, 24.0, 23.0, 22.0, 21.0, 20.0, 19.0, 18.0, 17.0, 16.0, 15.0, 14.0, 13.0, 12.0, 11.0, 10.0, 9.0, 8.0, 7.0, 6.0, 5.0, 4.0, 3.0, 2.0, 1.0, -8.165200233459473, -6.626399993896484, -8.526599884033203, -8.200699806213379, -9.468999862670898, -9.47130012512207, -9.472200393676758, -9.496199607849121, -9.49779987335205, -8.575900077819824, -8.043100357055664, -8.904199600219727, -9.205100059509277, -8.937899589538574, -9.210599899291992, -6.265900135040283, -9.220999717712402, -9.225600242614746, -7.366499900817871, -7.544300079345703, -9.646499633789062, -9.262999534606934, -9.020999908447266, -9.277700424194336, -9.286399841308594, -9.730999946594238, -9.331600189208984, -8.329899787902832, -9.32859992980957, -8.448200225830078, -9.022500038146973, -7.531400203704834, -8.262700080871582, -8.032699584960938, -7.355800151824951, -7.103300094604492, -8.182499885559082, -5.3190999031066895, -6.020699977874756, -5.84250020980835, -6.22130012512207, -6.3881001472473145, -6.540299892425537, -5.105500221252441, -5.374300003051758, -6.100100040435791, -6.223800182342529, -5.594699859619141, -5.637499809265137, -4.752099990844727, -7.173600196838379, -5.941999912261963, -6.048999786376953, -5.712699890136719, -5.068299770355225, -5.6468000411987305, -5.5100998878479, -5.5192999839782715, -5.325900077819824, -5.628799915313721, -5.067200183868408, -5.527299880981445, -6.140100002288818, -6.018700122833252, -5.964799880981445, -5.5802998542785645, -5.55810022354126, -5.540500164031982, -5.90910005569458, -5.256999969482422, -5.617800235748291, -5.67140007019043, -5.914100170135498, -5.96150016784668, -5.870500087738037, -5.906599998474121, -5.975500106811523, -9.480999946594238, -8.859299659729004, -9.264699935913086, -9.265000343322754, -8.595100402832031, -7.928100109100342, -9.364999771118164, -8.694999694824219, -9.361000061035156, -8.580100059509277, -9.099100112915039, -9.160400390625, -8.494600296020508, -9.416299819946289, -9.448800086975098, -8.947199821472168, -9.841500282287598, -7.877500057220459, -8.930399894714355, -8.989500045776367, -8.446200370788574, -9.156200408935547, -8.657299995422363, -9.47439956665039, -8.648599624633789, -7.251699924468994, -6.380899906158447, -9.536100387573242, -9.222399711608887, -8.015800476074219, -9.220000267028809, -7.887499809265137, -8.657899856567383, -6.877699851989746, -5.420899868011475, -5.617000102996826, -7.341800212860107, -6.151899814605713, -6.51609992980957, -5.938000202178955, -7.055600166320801, -5.847700119018555, -6.0432000160217285, -6.160999774932861, -6.3520002365112305, -4.713600158691406, -6.342299938201904, -6.740499973297119, -5.248199939727783, -4.797500133514404, -6.309999942779541, -5.073400020599365, -5.655700206756592, -6.1596999168396, -5.413000106811523, -5.716599941253662, -5.8769001960754395, -5.822299957275391, -5.702600002288818, -5.370200157165527, -5.658999919891357, -5.719299793243408, -5.900100231170654, -5.771399974822998, -5.47790002822876, -5.111599922180176, -5.774199962615967, -5.363999843597412, -5.591700077056885, -5.4319000244140625, -5.827600002288818, -5.434599876403809, -5.697800159454346, -5.643700122833252, -5.744800090789795, -5.671999931335449, -5.683800220489502, -5.719699859619141, -5.776599884033203, -5.794899940490723, -8.088899612426758, -8.75529956817627, -7.116700172424316, -8.453100204467773, -8.64050006866455, -8.669099807739258, -8.227499961853027, -9.036199569702148, -8.6274995803833, -9.556500434875488, -9.124799728393555, -9.546299934387207, -8.634099960327148, -9.595399856567383, -9.586099624633789, -9.603799819946289, -9.609199523925781, -7.913400173187256, -9.620800018310547, -9.619600296020508, -9.619000434875488, -9.628899574279785, -9.656299591064453, -9.642800331115723, -9.666299819946289, -9.638400077819824, -9.285799980163574, -9.67039966583252, -9.67039966583252, -8.474100112915039, -7.996300220489502, -6.817299842834473, -6.585899829864502, -8.980400085449219, -7.930799961090088, -9.011199951171875, -9.006799697875977, -7.206299781799316, -5.660799980163574, -8.389900207519531, -5.401599884033203, -6.020599842071533, -8.169400215148926, -6.045599937438965, -8.65530014038086, -7.157400131225586, -8.40839958190918, -4.684899806976318, -6.909999847412109, -5.679100036621094, -4.857100009918213, -5.375500202178955, -5.863399982452393, -6.372900009155273, -5.202400207519531, -7.020999908447266, -5.7642998695373535, -5.458000183105469, -5.679699897766113, -5.692500114440918, -6.0243000984191895, -6.258900165557861, -5.817299842834473, -5.932799816131592, -5.562600135803223, -5.371099948883057, -5.222499847412109, -5.838099956512451, -5.399099826812744, -5.356500148773193, -5.698800086975098, -5.601200103759766, -5.06879997253418, -5.9079999923706055, -5.7621002197265625, -5.8094000816345215, -5.5528998374938965, -5.648399829864502, -5.632800102233887, -5.846399784088135, -5.861800193786621, -5.804299831390381, -5.785200119018555, -9.249899864196777, -9.269599914550781, -9.26990032196045, -9.279399871826172, -9.281299591064453, -9.282999992370605, -9.28339958190918, -9.294899940490723, -9.303299903869629, -9.3100004196167, -7.070499897003174, -9.051300048828125, -9.07800006866455, -9.505000114440918, -9.098699569702148, -8.003899574279785, -9.522199630737305, -9.554499626159668, -8.85990047454834, -5.943900108337402, -9.122099876403809, -9.564299583435059, -9.18649959564209, -9.584199905395508, -9.150699615478516, -7.613399982452393, -9.593400001525879, -9.184700012207031, -9.20300006866455, -9.171099662780762, -8.392800331115723, -8.423199653625488, -8.386500358581543, -7.5792999267578125, -7.441500186920166, -6.61359977722168, -5.988500118255615, -6.329699993133545, -4.944200038909912, -5.840799808502197, -6.587800025939941, -5.5482001304626465, -5.149400234222412, -7.00540018081665, -6.044099807739258, -5.596799850463867, -6.015500068664551, -5.383699893951416, -6.57889986038208, -5.1244001388549805, -5.482699871063232, -5.552000045776367, -4.805799961090088, -4.973299980163574, -5.569900035858154, -6.430699825286865, -5.620999813079834, -6.767300128936768, -5.665999889373779, -5.325399875640869, -6.212800025939941, -5.530300140380859, -5.889699935913086, -6.323699951171875, -5.9039998054504395, -6.142499923706055, -5.586599826812744, -5.73799991607666, -5.80709981918335, -5.258800029754639, -5.900700092315674, -5.454800128936768, -5.586999893188477, -5.758900165557861, -5.7758002281188965, -5.837299823760986, -5.808700084686279, -5.937099933624268, -9.267800331115723, -9.270600318908691, -9.27810001373291, -9.281599998474121, -8.008999824523926, -9.057900428771973, -8.215900421142578, -8.59570026397705, -7.54580020904541, -7.854300022125244, -8.859299659729004, -7.261300086975098, -8.711299896240234, -9.60099983215332, -6.929599761962891, -8.693499565124512, -8.394100189208984, -9.240099906921387, -9.232399940490723, -9.244400024414062, -8.733200073242188, -9.232399940490723, -8.973299980163574, -7.396500110626221, -9.268600463867188, -8.977499961853027, -8.774800300598145, -8.764200210571289, -9.282099723815918, -9.01360034942627, -7.947800159454346, -5.804699897766113, -5.468900203704834, -7.416800022125244, -5.107600212097168, -7.502900123596191, -7.7204999923706055, -7.710700035095215, -7.689700126647949, -7.951399803161621, -7.400199890136719, -6.42110013961792, -7.007199764251709, -6.270400047302246, -5.39300012588501, -7.33050012588501, -6.423799991607666, -5.558800220489502, -5.587800025939941, -6.8769001960754395, -5.137199878692627, -4.802299976348877, -4.825300216674805, -5.106500148773193, -6.248499870300293, -5.338500022888184, -5.443999767303467, -6.645500183105469, -5.519800186157227, -5.671500205993652, -5.423900127410889, -6.009099960327148, -5.161499977111816, -5.727700233459473, -6.377699851989746, -5.446700096130371, -5.634699821472168, -6.159999847412109, -5.601399898529053, -5.507199764251709, -5.995800018310547, -6.03980016708374, -5.8765997886657715, -5.795899868011475, -5.922800064086914, -5.91949987411499, -5.882800102233887, -5.963399887084961, -5.876699924468994, -5.9182000160217285, -5.980800151824951, -6.752600193023682, -9.339500427246094, -9.3951997756958, -8.50469970703125, -9.41919994354248, -9.42710018157959, -9.460399627685547, -9.051600456237793, -9.459600448608398, -8.177200317382812, -7.913899898529053, -8.35420036315918, -8.374099731445312, -8.76729965209961, -8.770600318908691, -8.433699607849121, -9.519700050354004, -8.271699905395508, -9.521499633789062, -8.85219955444336, -9.186599731445312, -9.586400032043457, -9.59179973602295, -9.607099533081055, -7.954400062561035, -9.60830020904541, -9.169500350952148, -7.982399940490723, -9.615400314331055, -8.920700073242188, -7.678599834442139, -8.518600463867188, -8.097999572753906, -6.052000045776367, -6.089099884033203, -7.684100151062012, -6.318999767303467, -6.80079984664917, -7.350900173187256, -5.406799793243408, -6.338500022888184, -5.970200061798096, -6.85230016708374, -5.737400054931641, -7.492199897766113, -5.616600036621094, -5.42110013961792, -6.13100004196167, -6.407400131225586, -6.81220006942749, -6.110499858856201, -6.111000061035156, -6.515100002288818, -5.59499979019165, -5.526100158691406, -5.448699951171875, -5.694499969482422, -5.63070011138916, -5.69350004196167, -4.895100116729736, -4.917300224304199, -5.64109992980957, -5.524600028991699, -5.343800067901611, -6.401899814605713, -5.832499980926514, -5.782899856567383, -5.55649995803833, -5.249100208282471, -5.438700199127197, -5.632400035858154, -5.391300201416016, -5.672399997711182, -5.558800220489502, -5.564899921417236, -5.738800048828125, -5.615799903869629, -5.833099842071533, -5.769599914550781, -5.800000190734863], \"loglift\": [30.0, 29.0, 28.0, 27.0, 26.0, 25.0, 24.0, 23.0, 22.0, 21.0, 20.0, 19.0, 18.0, 17.0, 16.0, 15.0, 14.0, 13.0, 12.0, 11.0, 10.0, 9.0, 8.0, 7.0, 6.0, 5.0, 4.0, 3.0, 2.0, 1.0, 1.0955, 1.0088, 0.979, 0.9434, 0.943, 0.9406, 0.9398, 0.9209, 0.9181, 0.9126, 0.8493, 0.8491, 0.8226, 0.8199, 0.8191, 0.8165, 0.8097, 0.8087, 0.8029, 0.7934, 0.7848, 0.7783, 0.7594, 0.7584, 0.7521, 0.7405, 0.7375, 0.7355, 0.7349, 0.7342, 0.7338, 0.7146, 0.7231, 0.7067, 0.6409, 0.6112, 0.6797, 0.4515, 0.5101, 0.4688, 0.4505, 0.4698, 0.4844, 0.2656, 0.2979, 0.3968, 0.4139, 0.2889, 0.2848, 0.1271, 0.535, 0.3174, 0.3188, 0.2433, 0.1126, 0.2073, 0.1382, 0.1397, 0.0657, 0.1537, -0.0159, 0.1114, 0.2807, 0.2378, 0.2078, 0.0414, -0.0175, -0.1312, 0.122, -0.3729, -0.2701, -0.2194, 0.0893, 0.1417, -0.1044, -0.0862, 0.0481, 1.0302, 0.9806, 0.8646, 0.8391, 0.8367, 0.8125, 0.7581, 0.7534, 0.749, 0.7274, 0.7218, 0.7153, 0.7148, 0.7145, 0.6993, 0.6955, 0.6844, 0.6782, 0.6762, 0.666, 0.6646, 0.6621, 0.6574, 0.6389, 0.6312, 0.6301, 0.63, 0.6283, 0.6281, 0.6279, 0.6254, 0.602, 0.6144, 0.5454, 0.4798, 0.4573, 0.539, 0.4285, 0.4543, 0.3944, 0.4936, 0.3674, 0.3506, 0.3569, 0.3788, 0.1656, 0.3712, 0.424, 0.161, 0.0865, 0.3321, 0.1074, 0.2041, 0.2974, 0.1406, 0.1966, 0.2163, 0.1998, 0.1636, 0.0819, 0.1532, 0.1599, 0.2031, 0.1656, 0.0627, -0.0604, 0.1524, -0.0163, 0.0471, -0.0402, 0.1351, -0.0635, 0.0684, 0.0046, 0.0756, -0.013, -0.0116, -0.0494, 0.0059, -0.1733, 1.4677, 1.4612, 1.392, 1.2575, 1.256, 1.2233, 1.1514, 1.1363, 1.0825, 1.0667, 1.066, 1.0416, 1.0348, 1.0312, 0.9979, 0.9784, 0.9709, 0.9659, 0.96, 0.9572, 0.9558, 0.9452, 0.9427, 0.933, 0.9317, 0.9314, 0.9277, 0.9027, 0.9024, 0.901, 0.8704, 0.8447, 0.7299, 0.8861, 0.7912, 0.8849, 0.8841, 0.698, 0.5263, 0.8217, 0.4776, 0.5395, 0.7903, 0.4978, 0.8477, 0.6427, 0.8111, 0.1991, 0.5625, 0.343, 0.1941, 0.2728, 0.362, 0.447, 0.1687, 0.5789, 0.2642, 0.1807, 0.2209, 0.2207, 0.3081, 0.3709, 0.2232, 0.2527, 0.1076, 0.0206, -0.0417, 0.193, 0.0102, -0.0088, 0.1215, 0.071, -0.1896, 0.1929, 0.0976, 0.1275, -0.1009, -0.0268, -0.0923, 0.1223, 0.0648, -0.1453, -0.2316, 1.282, 1.2625, 1.2621, 1.2521, 1.2503, 1.2482, 1.2482, 1.2362, 1.2272, 1.2207, 1.1115, 1.0734, 1.0433, 1.0393, 1.0318, 1.0317, 1.0283, 0.9964, 0.9922, 0.9892, 0.9887, 0.9858, 0.9817, 0.9645, 0.9628, 0.9627, 0.9624, 0.9601, 0.9534, 0.9493, 0.9449, 0.9449, 0.9189, 0.8808, 0.8731, 0.8224, 0.7422, 0.7661, 0.6094, 0.6489, 0.6241, 0.4206, 0.3026, 0.6411, 0.4572, 0.3576, 0.427, 0.2865, 0.5481, 0.2233, 0.2835, 0.2958, 0.0782, 0.0779, 0.2423, 0.4748, 0.2452, 0.5487, 0.1937, 0.0662, 0.3522, 0.0913, 0.2112, 0.3863, 0.1892, 0.2929, -0.046, 0.0445, 0.0721, -0.3796, 0.1027, -0.274, -0.1777, -0.1106, -0.1167, -0.1985, -0.4375, 0.0865, 1.3647, 1.3613, 1.3513, 1.3467, 1.3377, 1.1502, 1.1482, 1.0581, 1.0457, 1.0374, 1.0218, 0.9942, 0.9832, 0.9824, 0.9762, 0.9742, 0.9732, 0.9707, 0.9704, 0.967, 0.9568, 0.9521, 0.9493, 0.9387, 0.9332, 0.9319, 0.924, 0.9221, 0.9184, 0.9181, 0.8978, 0.8317, 0.8026, 0.866, 0.7046, 0.8551, 0.8663, 0.8583, 0.8466, 0.8625, 0.8016, 0.6556, 0.7263, 0.612, 0.4732, 0.7651, 0.5877, 0.3956, 0.3682, 0.6613, 0.2105, 0.0769, 0.0587, 0.0743, 0.3981, 0.0708, 0.0966, 0.4994, 0.1019, 0.1488, 0.0281, 0.2474, -0.1103, 0.12, 0.3936, -0.0551, 0.0356, 0.2903, -0.0478, -0.136, 0.1399, 0.1533, -0.0225, -0.1369, 0.0038, -0.0597, -0.1166, -0.0265, -0.238, -0.2459, -0.0972, 1.4974, 1.2783, 1.2364, 1.2335, 1.2289, 1.1982, 1.1959, 1.1938, 1.1865, 1.1865, 1.1766, 1.1759, 1.1681, 1.1565, 1.1258, 1.1252, 1.1167, 1.0964, 1.086, 1.06, 1.0461, 1.037, 1.0307, 1.025, 1.0223, 1.0181, 1.0149, 1.012, 1.0082, 0.9972, 0.9891, 0.9914, 0.9728, 0.8632, 0.8248, 0.8921, 0.7548, 0.7956, 0.8449, 0.5064, 0.6265, 0.5365, 0.6969, 0.4536, 0.8033, 0.4118, 0.3614, 0.5112, 0.5446, 0.6401, 0.4328, 0.4323, 0.5325, 0.2712, 0.2445, 0.2103, 0.2743, 0.2529, 0.2692, -0.011, -0.0381, 0.2067, 0.1457, 0.0655, 0.4765, 0.1986, 0.1437, -0.016, -0.1978, -0.091, -0.0108, -0.2105, -0.0002, -0.1671, -0.1937, 0.0274, -0.1638, 0.0675, -0.2159, -0.1612]}, \"token.table\": {\"Topic\": [1, 2, 3, 4, 5, 6, 2, 3, 4, 5, 5, 1, 2, 3, 4, 5, 6, 1, 2, 3, 4, 5, 6, 1, 2, 3, 4, 5, 6, 1, 2, 3, 4, 5, 6, 1, 2, 3, 4, 5, 6, 1, 2, 3, 4, 5, 6, 1, 2, 3, 4, 5, 6, 1, 2, 3, 4, 5, 6, 3, 6, 1, 4, 1, 2, 3, 4, 5, 6, 1, 2, 3, 4, 5, 6, 2, 3, 4, 5, 1, 2, 3, 4, 5, 6, 1, 2, 3, 4, 5, 6, 1, 2, 3, 4, 5, 6, 1, 2, 3, 4, 5, 6, 1, 2, 3, 4, 5, 6, 1, 3, 2, 5, 1, 2, 3, 4, 5, 6, 4, 6, 1, 2, 3, 4, 5, 6, 1, 2, 3, 4, 5, 6, 1, 2, 3, 4, 5, 6, 1, 4, 1, 2, 4, 1, 2, 6, 2, 2, 1, 2, 3, 4, 5, 6, 1, 2, 3, 4, 5, 6, 1, 2, 3, 4, 5, 6, 1, 3, 3, 1, 3, 1, 3, 6, 2, 3, 4, 5, 1, 2, 3, 4, 5, 6, 1, 1, 2, 3, 4, 5, 6, 1, 2, 3, 4, 5, 6, 1, 1, 2, 3, 4, 5, 6, 1, 2, 3, 4, 5, 6, 1, 2, 5, 2, 3, 5, 6, 1, 2, 3, 4, 5, 6, 3, 1, 4, 6, 1, 2, 3, 4, 5, 6, 1, 2, 3, 4, 5, 6, 1, 2, 3, 4, 5, 6, 1, 2, 3, 4, 5, 6, 2, 4, 1, 1, 2, 3, 4, 5, 6, 1, 2, 3, 4, 5, 6, 2, 5, 1, 2, 3, 4, 5, 6, 4, 1, 2, 3, 4, 5, 6, 1, 2, 3, 4, 5, 6, 2, 1, 2, 3, 4, 6, 3, 1, 2, 3, 4, 5, 6, 1, 2, 3, 1, 2, 3, 4, 5, 6, 1, 2, 3, 4, 5, 6, 1, 2, 3, 4, 5, 6, 4, 2, 5, 1, 2, 3, 4, 5, 6, 1, 2, 3, 4, 5, 6, 1, 2, 3, 4, 5, 6, 1, 2, 3, 4, 5, 6, 1, 2, 3, 4, 5, 6, 1, 2, 3, 4, 5, 6, 1, 2, 4, 6, 1, 2, 3, 4, 5, 6, 6, 1, 4, 1, 2, 3, 4, 5, 6, 1, 2, 3, 3, 1, 2, 3, 4, 5, 6, 1, 3, 1, 2, 3, 4, 5, 6, 2, 3, 4, 5, 1, 2, 3, 4, 5, 6, 1, 2, 3, 4, 5, 6, 3, 1, 2, 4, 2, 3, 5, 1, 2, 3, 4, 5, 6, 1, 2, 3, 4, 5, 6, 1, 4, 6, 1, 2, 3, 4, 5, 6, 1, 3, 4, 5, 1, 2, 3, 4, 5, 6, 1, 2, 3, 5, 6, 1, 2, 3, 4, 5, 6, 1, 4, 5, 1, 2, 3, 4, 5, 6, 1, 2, 3, 4, 5, 6, 1, 2, 3, 4, 5, 6, 1, 2, 3, 4, 5, 6, 1, 2, 3, 4, 5, 6, 2, 3, 4, 6, 1, 2, 3, 4, 5, 6, 1, 2, 3, 4, 5, 1, 2, 3, 4, 5, 6, 1, 2, 3, 4, 5, 6, 1, 2, 3, 4, 5, 6, 1, 4, 6, 1, 2, 4, 5, 6, 1, 2, 3, 4, 5, 6, 1, 5, 2, 4, 5, 1, 3, 6, 4, 1, 6, 2, 4, 1, 4, 5, 1, 2, 4, 5, 1, 4, 1, 2, 3, 4, 5, 6, 4, 1, 2, 3, 4, 5, 6, 1, 2, 3, 4, 1, 2, 3, 4, 5, 6, 1, 1, 2, 3, 4, 5, 6, 1, 2, 3, 4, 5, 6, 1, 2, 3, 4, 5, 6, 1, 2, 3, 4, 5, 6, 1, 2, 3, 4, 5, 6, 1, 2, 3, 4, 5, 6, 4, 2, 5, 1, 2, 3, 4, 5, 6, 5, 4, 2, 3, 4, 5, 1, 2, 3, 6, 1, 2, 3, 4, 5, 6, 1, 2, 3, 4, 1, 5, 3, 1, 2, 3, 4, 5, 6, 1, 2, 3, 4, 5, 6, 1, 2, 3, 4, 5, 6, 1, 2, 3, 5, 6, 1, 2, 3, 4, 5, 6, 1, 2, 3, 4, 5, 6, 4, 6, 1, 2, 3, 4, 5, 6, 1, 2, 3, 4, 5, 6, 2, 3, 4, 5, 6, 1, 2, 3, 4, 5, 1, 2, 3, 4, 5, 6, 1, 2, 4, 2, 4, 1, 2, 3, 4, 5, 6, 1, 2, 1, 2, 3, 4, 5, 6, 3, 1, 2, 3, 4, 5, 6, 2, 5, 1, 2, 3, 4, 5, 6, 3, 1, 2, 3, 4, 5, 6, 1, 2, 3, 4, 5, 6, 1, 2, 3, 4, 5, 1, 2, 3, 4, 5, 6, 2, 3, 1, 2, 1, 1, 2, 3, 4, 5, 6, 1, 2, 3, 4, 5, 3, 1, 2, 3, 4, 5, 6, 1, 2, 3, 4, 5, 6, 1, 2, 3, 4, 5, 6, 1, 2, 3, 4, 5, 6, 1, 2, 3, 4, 5, 6, 1, 2, 3, 4, 5, 6, 1, 2, 3, 4, 5, 6, 1, 2, 3, 4, 5, 6, 3, 1, 2, 3, 4, 6, 1, 2, 3, 4, 5, 6, 1, 2, 3, 4, 5, 6, 6, 3, 4, 4, 1, 2, 3, 4, 5, 6, 1, 2, 3, 4, 5, 6, 1, 2, 3, 4, 5, 6, 1, 2, 3, 4, 5, 6, 1, 1, 2, 3, 4, 5, 6, 1, 2, 3, 4, 5, 6, 1, 2, 3, 4, 5, 6, 1, 2, 4, 1, 2, 3, 4, 5, 6, 3, 3, 6, 1, 2, 3, 4, 5, 6, 1, 2, 3, 4, 5, 6, 4, 4, 1, 2, 3, 4, 5, 6, 1, 2, 3, 4, 5, 6, 1, 2, 3, 4, 5, 6, 1, 2, 3, 4, 5, 6, 1, 2, 3, 4, 5, 6, 2, 5, 1, 2, 3, 4, 5, 6, 3, 6, 5, 2, 1, 2, 1, 2, 3, 5, 6, 1, 3, 1, 2, 3, 4, 5, 1, 2, 3, 4, 5, 6, 1, 2, 3, 4, 5, 6, 1, 2, 4, 6, 5, 1, 2, 3, 3, 2, 3, 1, 5, 1, 5, 1, 2, 3, 4, 5, 6, 1, 2, 3, 4, 5, 6, 1, 2, 3, 4, 5, 6, 3, 1, 2, 4, 5, 6, 1, 2, 3, 4, 5, 6, 1, 2, 3, 4, 5, 6, 1, 2, 3, 4, 5, 6, 1, 2, 3, 4, 6, 1, 2, 3, 4, 5, 6, 1, 2, 3, 4, 2, 4, 5, 1, 1, 2, 5, 2, 3, 5, 3, 1, 3, 5, 1, 2, 3, 5, 1, 2, 3, 4, 5, 6, 1, 2, 3, 4, 5, 6, 3, 4, 2, 4, 5, 1, 2, 3, 4, 5, 6, 1, 2, 3, 4, 5, 6, 1, 2, 3, 4, 5, 6, 1, 4, 6, 2, 3, 4, 5, 6, 1, 2, 3, 4, 5, 6, 1, 2, 3, 4, 5, 6, 1, 2, 3, 4, 5, 6, 1, 2, 3, 4, 5, 6, 6, 3, 1, 1, 2, 3, 4, 5, 6, 1, 3, 5, 1, 2, 3, 4, 5, 6, 1, 2, 3, 4, 5, 6, 1, 2, 3, 4, 5, 6, 1, 2, 3, 4, 5, 6, 1, 2, 3, 4, 5, 6, 3, 1, 2, 3, 4, 5, 6, 1, 2, 3, 4, 5, 6, 1, 2, 3, 4, 5, 6, 2, 3, 4, 5, 6, 1, 2, 3, 4, 5, 6, 1, 2, 1, 2, 3, 4, 5, 6, 4, 2, 4, 5, 1, 2, 3, 4, 5, 6, 1, 2, 3, 4, 5, 6, 1, 2, 3, 4, 5, 6, 1, 2, 3, 4, 5, 6, 1, 4, 1, 2, 3, 4, 5, 6, 1, 2, 3, 4, 5, 6, 1, 2, 3, 4, 5, 6, 6, 1, 3, 5, 1, 2, 3, 4, 5, 4, 1, 2, 3, 4, 5, 6, 1, 2, 3, 4, 5, 6, 1, 3, 5, 1, 2, 3, 4, 5, 6, 1, 2, 3, 4, 5, 6, 1, 2, 3, 4, 5, 6, 1, 1, 2, 3, 4, 5, 6, 1, 2, 3, 4, 5, 6, 1, 2, 3, 4, 5, 6, 1, 2, 3, 4, 5, 6, 1, 2, 4, 1, 2, 3, 4, 5, 6, 1, 2, 3, 4, 5, 6, 4, 1, 2, 3, 4, 5, 6, 4, 5, 1, 2, 3, 5], \"Freq\": [0.38517371677971723, 0.09629342919492931, 0.22468466812150173, 0.09629342919492931, 0.12839123892657242, 0.048146714597464654, 0.4720893548181089, 0.15736311827270297, 0.15736311827270297, 0.15736311827270297, 0.38831510183852286, 0.07556362407948812, 0.3778181203974406, 0.15112724815897624, 0.22669087223846435, 0.11334543611923217, 0.07556362407948812, 0.11902676070564631, 0.29756690176411577, 0.05951338035282316, 0.11902676070564631, 0.35708028211693893, 0.05951338035282316, 0.18127937403084377, 0.22311307573026926, 0.13944567233141827, 0.1882516576474147, 0.11852882148170554, 0.1533902395645601, 0.2780627689779222, 0.21318145621640705, 0.10195634862523816, 0.16220328190378797, 0.10195634862523816, 0.1390313844889611, 0.1715946747711771, 0.2859911246186285, 0.1715946747711771, 0.1143964498474514, 0.1143964498474514, 0.2287928996949028, 0.16204565721640574, 0.40511414304101434, 0.08102282860820287, 0.2430684858246086, 0.08102282860820287, 0.08102282860820287, 0.17956827647050605, 0.25878957491337634, 0.20069395605527146, 0.11090981782001844, 0.08978413823525302, 0.163724016781932, 0.16611192380214426, 0.3322238476042885, 0.1291981629572233, 0.11074128253476284, 0.1476550433796838, 0.1291981629572233, 0.3969460848782184, 0.3969460848782184, 0.48411217203077467, 0.5354636732497617, 0.27331182531050796, 0.12946349619971428, 0.08630899746647619, 0.15823316202187301, 0.11507866328863492, 0.23015732657726984, 0.1327087949862699, 0.24329945747482815, 0.12902243956998463, 0.28753572247025144, 0.12533608415369935, 0.07741346374199078, 0.23273467019118063, 0.23273467019118063, 0.23273467019118063, 0.23273467019118063, 0.5040734120973571, 0.10081468241947143, 0.10081468241947143, 0.10081468241947143, 0.10081468241947143, 0.10081468241947143, 0.5546383611758632, 0.15126500759341724, 0.15126500759341724, 0.10084333839561149, 0.050421669197805746, 0.050421669197805746, 0.1896525705692029, 0.1896525705692029, 0.21335914189035327, 0.1363127850966146, 0.1244594994360394, 0.14816607075718977, 0.312698436731422, 0.11370852244778983, 0.11370852244778983, 0.14213565305973727, 0.11370852244778983, 0.22741704489557965, 0.22161096179678602, 0.3957338603514036, 0.11080548089839301, 0.06331741765622458, 0.1741228985546176, 0.047488063242168435, 0.2824305614009887, 0.5648611228019774, 0.38432404559389466, 0.38432404559389466, 0.21429171290354998, 0.2279699073442021, 0.13222254625963722, 0.20973231475666593, 0.1185443518189851, 0.10030675923144892, 0.37209138310915923, 0.6062636763358016, 0.2027088092440266, 0.2027088092440266, 0.14189616647081862, 0.22297969016842925, 0.15203160693301995, 0.07094808323540931, 0.19132601091596033, 0.19132601091596033, 0.38265202183192065, 0.19132601091596033, 0.19132601091596033, 0.19132601091596033, 0.2724901630402617, 0.18864703595095042, 0.13973854514885217, 0.12576469063396695, 0.15371239966373737, 0.11877776337652433, 0.6466663545270978, 0.5354219166240328, 0.2629450475502084, 0.5258900951004168, 0.5351297154612087, 0.5049882156387155, 0.25249410781935777, 0.25249410781935777, 0.5359527218341736, 0.3584642306804282, 0.208755755483885, 0.24622473723740282, 0.1712867737303672, 0.12311236861870141, 0.13381779197684934, 0.11240694526055346, 0.15306409711306385, 0.45919229133919154, 0.15306409711306385, 0.15306409711306385, 0.15306409711306385, 0.15306409711306385, 0.16416787027150695, 0.22386527764296402, 0.11939481474291413, 0.16416787027150695, 0.16416787027150695, 0.16416787027150695, 0.2835848850972221, 0.5671697701944441, 0.5617652725073966, 0.6536802314186094, 0.562164634381691, 0.28970538068609064, 0.28970538068609064, 0.28970538068609064, 0.28347687409913364, 0.28347687409913364, 0.38523040220143273, 0.38523040220143273, 0.359765038594857, 0.1798825192974285, 0.13254501421915782, 0.10414251117219543, 0.1230775132035037, 0.09467501015654131, 0.6521513108500973, 0.2533039496653357, 0.12665197483266785, 0.12665197483266785, 0.12665197483266785, 0.12665197483266785, 0.2533039496653357, 0.30523032023267926, 0.20100533283615465, 0.12655891326720847, 0.11911427131031387, 0.17122676500857617, 0.07444641956894617, 0.4748600872424141, 0.6501940776424225, 0.118217105025895, 0.118217105025895, 0.0591085525129475, 0.02955427625647375, 0.02955427625647375, 0.46666994491689795, 0.12727362134097217, 0.08484908089398145, 0.12727362134097217, 0.042424540446990726, 0.12727362134097217, 0.2708286838270344, 0.2708286838270344, 0.2708286838270344, 0.23534556899153294, 0.4706911379830659, 0.23534556899153294, 0.23534556899153294, 0.1564615457598455, 0.34421540067166007, 0.20340000948779913, 0.08344615773858426, 0.10952308203189184, 0.10430769717323032, 0.5719458509866712, 0.28807285657817544, 0.28807285657817544, 0.28807285657817544, 0.41343915432146505, 0.1272120474835277, 0.15901505935440963, 0.09540903561264578, 0.09540903561264578, 0.09540903561264578, 0.21531342181100174, 0.20142223330706613, 0.2708781758267441, 0.16669426204722715, 0.07640153677164578, 0.05556475401574238, 0.15037365523520452, 0.2255604828528068, 0.07518682761760226, 0.15037365523520452, 0.30074731047040903, 0.07518682761760226, 0.1537894026853389, 0.1537894026853389, 0.1537894026853389, 0.1537894026853389, 0.38447350671334724, 0.07689470134266944, 0.35509308590110295, 0.35509308590110295, 0.47481598438889955, 0.1198970345853904, 0.1198970345853904, 0.1198970345853904, 0.4795881383415616, 0.1198970345853904, 0.1198970345853904, 0.2588457693654769, 0.15530746161928613, 0.15530746161928613, 0.10353830774619076, 0.15530746161928613, 0.20707661549238152, 0.370730379331778, 0.370730379331778, 0.2723039830695064, 0.25164643952630245, 0.13333505377886173, 0.10704363472387492, 0.14084688779457227, 0.0938979251963815, 0.5455948832572407, 0.23011601849186397, 0.11505800924593199, 0.11505800924593199, 0.23011601849186397, 0.11505800924593199, 0.23011601849186397, 0.17595390017570034, 0.25293373150256926, 0.12096830637079398, 0.13196542513177525, 0.19794813769766287, 0.10997118760981271, 0.3556911527655329, 0.19898716228032898, 0.19898716228032898, 0.19898716228032898, 0.19898716228032898, 0.39797432456065795, 0.5661654308145675, 0.1530818465974023, 0.1530818465974023, 0.1530818465974023, 0.22962276989610342, 0.3061636931948046, 0.07654092329870114, 0.28199400348270953, 0.28199400348270953, 0.28199400348270953, 0.16521326649840795, 0.26033605630052165, 0.18023265436189959, 0.19024557960422736, 0.12516156552909694, 0.08010340193862205, 0.2091223607075183, 0.1742686339229319, 0.31368354106127744, 0.06970745356917277, 0.10456118035375915, 0.10456118035375915, 0.26296519840684773, 0.3585889069184287, 0.07171778138368574, 0.095623708511581, 0.11952963563947624, 0.095623708511581, 0.35136037809563553, 0.5321260470142146, 0.5919829403409685, 0.23059398271859033, 0.2989181257463208, 0.13664828605546092, 0.13664828605546092, 0.07686466090619677, 0.1024862145415957, 0.22140397660224623, 0.2310302364545178, 0.18289893719315994, 0.13958076785793785, 0.15402015763634522, 0.07701007881817261, 0.2746154601592108, 0.2618426480587824, 0.12772812100428407, 0.12134171495406988, 0.14050093310471248, 0.07663687260257045, 0.3192467831836446, 0.3344490109542943, 0.07601113885324871, 0.12161782216519794, 0.06080891108259897, 0.07601113885324871, 0.16137550427791864, 0.20171938034739828, 0.2824071324863576, 0.19163341133002837, 0.08068775213895932, 0.08068775213895932, 0.1388922485453701, 0.4166767456361103, 0.06944612427268505, 0.1388922485453701, 0.1388922485453701, 0.1388922485453701, 0.16644201046109303, 0.16644201046109303, 0.16644201046109303, 0.33288402092218605, 0.23209238732094634, 0.19341032276745526, 0.30945651642792843, 0.11604619366047317, 0.07736412910698211, 0.038682064553491054, 0.5915101328918266, 0.7508001970955747, 0.15016003941911493, 0.23242298420402524, 0.11621149210201262, 0.11621149210201262, 0.11621149210201262, 0.34863447630603783, 0.03873716403400421, 0.5657169311300946, 0.18857231037669817, 0.18857231037669817, 0.5639247860716176, 0.20509440836120035, 0.10254720418060018, 0.4101888167224007, 0.10254720418060018, 0.10254720418060018, 0.10254720418060018, 0.3737380618401291, 0.3737380618401291, 0.3158749906869039, 0.2369062430151779, 0.11406596885915973, 0.14038888474973507, 0.11406596885915973, 0.07896874767172597, 0.16650716172969196, 0.16650716172969196, 0.16650716172969196, 0.3330143234593839, 0.29436393832519137, 0.21221586251351005, 0.1163764407332152, 0.15745047863905584, 0.10953076774890841, 0.10268509476460164, 0.09605409057791651, 0.19210818115583303, 0.19210818115583303, 0.09605409057791651, 0.28816227173374953, 0.09605409057791651, 0.572507961941974, 0.6681613910611176, 0.1336322782122235, 0.1336322782122235, 0.44571318135152127, 0.22285659067576064, 0.22285659067576064, 0.15510073234988753, 0.18956756176097364, 0.10340048823325834, 0.34466829411086114, 0.13786731764434446, 0.06893365882217223, 0.15980764024242922, 0.24441168507665648, 0.15040719081640397, 0.30081438163280794, 0.09400449426025248, 0.05640269655615149, 0.2914478676410836, 0.2914478676410836, 0.2914478676410836, 0.16402449177920836, 0.2929008781771578, 0.15230845665212206, 0.23432070254172624, 0.05858017563543156, 0.09372828101669049, 0.21235604649431206, 0.6370681394829362, 0.07078534883143736, 0.07078534883143736, 0.274434228163609, 0.2088976960648367, 0.13926513070989116, 0.13926513070989116, 0.11468893117285153, 0.11878496442902481, 0.5369797003376651, 0.23865764459451783, 0.11932882229725891, 0.059664411148629456, 0.059664411148629456, 0.20532980705642206, 0.2441759867697992, 0.16648362734304492, 0.14428581036397226, 0.11098908489536329, 0.12763744762966778, 0.2712607597682462, 0.5425215195364924, 0.2712607597682462, 0.21595082646287322, 0.22194946053128636, 0.20395355832604695, 0.16796175391556806, 0.09597814509461032, 0.09597814509461032, 0.34388807655170595, 0.16289435205080807, 0.07239748980035914, 0.14479497960071827, 0.21719246940107742, 0.054298117350269355, 0.12761796827937813, 0.25013121782758113, 0.2603406552899314, 0.16845571812877913, 0.10719909335467762, 0.08678021842997712, 0.3803825224006389, 0.17660617111458235, 0.13585090085737106, 0.12226581077163394, 0.09509563060015973, 0.08151054051442262, 0.12930194841100087, 0.22987013050844599, 0.14366883156777874, 0.14366883156777874, 0.12930194841100087, 0.2155032473516681, 0.3623122927232827, 0.18115614636164135, 0.18115614636164135, 0.18115614636164135, 0.2465994378717882, 0.2655686254003873, 0.13910737520972669, 0.18969187528599094, 0.10749206266206153, 0.05058450007626425, 0.2076445114283115, 0.10382225571415575, 0.2076445114283115, 0.10382225571415575, 0.415289022856623, 0.1767024028295776, 0.31324516865243307, 0.2168620398362998, 0.0883512014147888, 0.1526066206255443, 0.04819156440806662, 0.2105954022911569, 0.24888547543500358, 0.1627328108613485, 0.1308244165748096, 0.14039693486077126, 0.10529770114557845, 0.14554205864949674, 0.07277102932474837, 0.14554205864949674, 0.14554205864949674, 0.29108411729899347, 0.14554205864949674, 0.28354143759406075, 0.28354143759406075, 0.28354143759406075, 0.1926817181576937, 0.1926817181576937, 0.1926817181576937, 0.1926817181576937, 0.1926817181576937, 0.24857560338576792, 0.17755400241840566, 0.1578257799274717, 0.17360835792021886, 0.14598884643291132, 0.09469546795648302, 0.27924372541797465, 0.27924372541797465, 0.2317196286269696, 0.2317196286269696, 0.4634392572539392, 0.24206738952830317, 0.24206738952830317, 0.24206738952830317, 0.36777675618447975, 0.37818550163263487, 0.37818550163263487, 0.3562857018029537, 0.3562857018029537, 0.49147982714351757, 0.24573991357175878, 0.24573991357175878, 0.21222271451441835, 0.4244454290288367, 0.21222271451441835, 0.21222271451441835, 0.6509608859565572, 0.35476007579173513, 0.3721615755497826, 0.12405385851659419, 0.13533148201810274, 0.13533148201810274, 0.14660910551961132, 0.0902209880120685, 0.36351825098774976, 0.31981100897580933, 0.21320733931720623, 0.14924513752204435, 0.13325458707325388, 0.11193385314153327, 0.06929238527809202, 0.05105764068345307, 0.1531729220503592, 0.2552882034172654, 0.4595187661510776, 0.15146032920865404, 0.15146032920865404, 0.07573016460432702, 0.37865082302163516, 0.07573016460432702, 0.2271904938129811, 0.3370204725200401, 0.11589731083570687, 0.25195067572979757, 0.09070224326272712, 0.20156054058383804, 0.21163856761302993, 0.12597533786489878, 0.11973822684800643, 0.17416469359710027, 0.14150881354764397, 0.1959352802967378, 0.3047882137949255, 0.0653117600989126, 0.22811179875594656, 0.1586864686997889, 0.2677834159308938, 0.13885066011231528, 0.05950742576242084, 0.1487685644060521, 0.09070702374216122, 0.24825080182065176, 0.11935134702915949, 0.20051026300898794, 0.2673470173453173, 0.07638486209866208, 0.11336101009550982, 0.1889350168258497, 0.1284758114415778, 0.1964924174988837, 0.29473862624832553, 0.07557400673033988, 0.1648745663010214, 0.054958188767007136, 0.1648745663010214, 0.1648745663010214, 0.3297491326020428, 0.10991637753401427, 0.5451832207787424, 0.29110129133246704, 0.29110129133246704, 0.15033679323978186, 0.1288601084912416, 0.23624353223394293, 0.27919690173102346, 0.08590673899416107, 0.1288601084912416, 0.5636126070347528, 0.5350078285452653, 0.23068867403148563, 0.23068867403148563, 0.23068867403148563, 0.23068867403148563, 0.2622317822930303, 0.5244635645860606, 0.2622317822930303, 0.5833585662643457, 0.2152077174536108, 0.2152077174536108, 0.17933976454467568, 0.24210868213531217, 0.08070289404510406, 0.07173590581787027, 0.178180569667764, 0.534541709003292, 0.178180569667764, 0.178180569667764, 0.4773133032140763, 0.5901379018908737, 0.5584235543406063, 0.07264871618010901, 0.169513671086921, 0.169513671086921, 0.36324358090054504, 0.096864954906812, 0.14529743236021803, 0.38531591279722366, 0.14154462102755155, 0.18086257131298253, 0.13368103097046535, 0.10222667074212057, 0.05504513039960338, 0.2689283683708121, 0.2247759496830668, 0.19266509972834298, 0.12844339981889533, 0.10436026235285245, 0.08429098113115005, 0.16899718050508603, 0.16899718050508603, 0.506991541515258, 0.16899718050508603, 0.16899718050508603, 0.15215848207828298, 0.1859714780956792, 0.15215848207828298, 0.1690649800869811, 0.2535974701304716, 0.08453249004349055, 0.1315975872722007, 0.31104884264338345, 0.19141467239592827, 0.19141467239592827, 0.08374391917321862, 0.08374391917321862, 0.5420160724956802, 0.6013351787174829, 0.27334262701659234, 0.142613544530396, 0.19609362372929454, 0.14855577555249586, 0.12478685146409652, 0.11884462044199669, 0.19690880670323815, 0.1476816050274286, 0.1476816050274286, 0.1722952058653334, 0.1476816050274286, 0.19690880670323815, 0.1683608215401116, 0.3367216430802232, 0.1683608215401116, 0.1683608215401116, 0.1683608215401116, 0.4457901550392932, 0.17831606201571729, 0.08915803100785864, 0.08915803100785864, 0.08915803100785864, 0.1641804767517348, 0.23211722575245267, 0.19814885125209375, 0.16984187250179464, 0.13964776183480893, 0.09624372775101696, 0.26944965083630273, 0.26944965083630273, 0.26944965083630273, 0.35230988919420664, 0.35230988919420664, 0.22339407447555107, 0.30569715454549096, 0.15284857727274548, 0.11757582867134267, 0.1058182458042084, 0.08230308006993987, 0.49297819781418184, 0.24648909890709092, 0.3596733953016656, 0.15258871315828237, 0.11989113176722187, 0.11989113176722187, 0.15258871315828237, 0.09809274417318152, 0.5578413311437758, 0.248962897583185, 0.08298763252772832, 0.248962897583185, 0.16597526505545665, 0.08298763252772832, 0.248962897583185, 0.3885262436360503, 0.3885262436360503, 0.3285182985388429, 0.2015907741033809, 0.1343938494022539, 0.1343938494022539, 0.10452854953508638, 0.10452854953508638, 0.558824250048416, 0.22991021231610226, 0.26275452836125973, 0.09853294813547239, 0.1477994222032086, 0.11495510615805113, 0.16422158022578734, 0.11659900354464811, 0.17489850531697218, 0.17489850531697218, 0.34979701063394436, 0.11659900354464811, 0.11659900354464811, 0.1570269097151206, 0.1570269097151206, 0.1570269097151206, 0.4710807291453618, 0.1570269097151206, 0.07741458348834136, 0.19353645872085343, 0.2322437504650241, 0.2903046880812801, 0.11612187523251205, 0.07741458348834136, 0.36471834437627665, 0.5599423907097805, 0.3510928158982791, 0.3510928158982791, 0.5754945477086245, 0.23802933171469665, 0.19835777642891386, 0.15868622114313108, 0.1487683323216854, 0.10909677703590262, 0.1487683323216854, 0.2585134102311326, 0.387770115346699, 0.1292567051155663, 0.1292567051155663, 0.1292567051155663, 0.5885041182117815, 0.151910833278693, 0.45573249983607905, 0.151910833278693, 0.151910833278693, 0.151910833278693, 0.151910833278693, 0.22232022980708507, 0.1569319269226483, 0.2484755509608598, 0.22232022980708507, 0.06538830288443678, 0.09154362403821151, 0.1830168002341706, 0.21001927895724495, 0.15901459692477118, 0.19801817730254523, 0.1620148723384461, 0.09000826241024783, 0.236437895132155, 0.20074915624428252, 0.19628806388329847, 0.16952150971739413, 0.1182189475660775, 0.08029966249771302, 0.13957775573919604, 0.21215818872357797, 0.18424263757573878, 0.2400737398714172, 0.10049598413222115, 0.12841153528006036, 0.24701377159651042, 0.3293516954620139, 0.13379912628144314, 0.13379912628144314, 0.09263016434869141, 0.07204568338231554, 0.48992038720614556, 0.21774239431384246, 0.16330679573538184, 0.054435598578460614, 0.054435598578460614, 0.054435598578460614, 0.17423939863091922, 0.2851190159415042, 0.11087961731058496, 0.15839945330083566, 0.2375991799512535, 0.0475198359902507, 0.557677965577682, 0.22606839960039163, 0.22606839960039163, 0.11303419980019581, 0.11303419980019581, 0.22606839960039163, 0.2536133705687405, 0.20053150231016692, 0.15924560477572078, 0.17104157549984825, 0.11795970724127466, 0.10026575115508346, 0.15119934955134012, 0.22679902432701018, 0.24191895928214419, 0.07559967477567006, 0.10583954468593808, 0.18143921946160815, 0.5877403185075578, 0.35835088913257285, 0.35835088913257285, 0.5351698321362972, 0.18041118569852488, 0.18762763312646588, 0.23092631769411184, 0.18041118569852488, 0.11546315884705592, 0.09381381656323294, 0.2364984541578707, 0.2255831408890459, 0.1491759480072723, 0.1491759480072723, 0.14553751025099734, 0.09459938166314828, 0.1777861332309541, 0.1777861332309541, 0.14222890658476328, 0.2666791998464311, 0.12445029326166786, 0.10667167993857246, 0.1956326970563294, 0.16302724754694117, 0.06521089901877647, 0.22823814656571764, 0.2608435960751059, 0.06521089901877647, 0.647956009032504, 0.26009719603950704, 0.23119750759067292, 0.13293856686463693, 0.1733981306930047, 0.10981881610556964, 0.09247900303626917, 0.21367300401031566, 0.20476996217655252, 0.16025475300773676, 0.21367300401031566, 0.10683650200515783, 0.10683650200515783, 0.22184359903085718, 0.24957404890971432, 0.11092179951542859, 0.13865224939428572, 0.11092179951542859, 0.1525174743337143, 0.5195096578685879, 0.10390193157371759, 0.31170579472115273, 0.08761244769036122, 0.26283734307108364, 0.3504497907614449, 0.08761244769036122, 0.08761244769036122, 0.08761244769036122, 0.4709486170213791, 0.6055923086344009, 0.20186410287813364, 0.21791139415731345, 0.2591378741330214, 0.22969038843608713, 0.0824529599514159, 0.1060109485089633, 0.1060109485089633, 0.16436133168679115, 0.299717722487678, 0.18369795894406069, 0.13535639080088682, 0.1450247044295216, 0.06767819540044341, 0.5349242304960209, 0.5352053551853305, 0.16377583060817982, 0.2820583749363097, 0.15467717335216982, 0.20926911688822977, 0.0909865725600999, 0.0909865725600999, 0.19970004218083287, 0.20920956799896775, 0.14264288727202348, 0.24724767127150735, 0.13313336145388857, 0.06656668072694429, 0.13180560231633712, 0.19038587001248694, 0.14645066924037456, 0.42470694079708626, 0.029290133848074915, 0.07322533462018728, 0.2022936865682373, 0.2022936865682373, 0.15172026492617796, 0.15172026492617796, 0.08428903607009887, 0.2022936865682373, 0.28917958011918604, 0.1265160663021439, 0.20784782321066497, 0.1265160663021439, 0.1717003756957667, 0.07229489502979651, 0.38484665073310503, 0.38484665073310503, 0.11956523569110618, 0.23913047138221236, 0.08967392676832964, 0.29891308922776544, 0.14945654461388272, 0.08967392676832964, 0.4019595053636657, 0.4019595053636657, 0.3872801923314522, 0.524358163506873, 0.5039920649472426, 0.34900664599069664, 0.20231458121036835, 0.20231458121036835, 0.20231458121036835, 0.20231458121036835, 0.20231458121036835, 0.47484011559946876, 0.38062084710206495, 0.19829419594082734, 0.29744129391124097, 0.09914709797041367, 0.09914709797041367, 0.29744129391124097, 0.24857664699344467, 0.19121280537957283, 0.133848963765701, 0.14340960403467962, 0.133848963765701, 0.1625308845726369, 0.12558012251080028, 0.2260442205194405, 0.2762762695237606, 0.1758121715151204, 0.10046409800864023, 0.12558012251080028, 0.24838523372027987, 0.12419261686013994, 0.3725778505804198, 0.24838523372027987, 0.5895253760391002, 0.27521193386913717, 0.27521193386913717, 0.27521193386913717, 0.5559857954204434, 0.35791591010060236, 0.35791591010060236, 0.4937532962176158, 0.2468766481088079, 0.3782312273192181, 0.3782312273192181, 0.18212547357616143, 0.12141698238410763, 0.36425094715232287, 0.09106273678808072, 0.09106273678808072, 0.15177122798013454, 0.08373878037752684, 0.19140292657720423, 0.20336560948827948, 0.33495512151010737, 0.09570146328860211, 0.08373878037752684, 0.1709714172936478, 0.2422095078326677, 0.11398094486243185, 0.25645712594047165, 0.0854857086468239, 0.1424761810780398, 0.5865318100402191, 0.1621801668309039, 0.1621801668309039, 0.3243603336618078, 0.1621801668309039, 0.1621801668309039, 0.5441077719153031, 0.11902357510647256, 0.06801347148941289, 0.13602694297882578, 0.06801347148941289, 0.06801347148941289, 0.16194784943783622, 0.16194784943783622, 0.13703279567816912, 0.21177795695717044, 0.19932043007733688, 0.13703279567816912, 0.3132810881338321, 0.19963990910489302, 0.19042575945389795, 0.10135564616094568, 0.1136411790289391, 0.0798559636419572, 0.16718861231940735, 0.16718861231940735, 0.16718861231940735, 0.3343772246388147, 0.3343772246388147, 0.13030078839933473, 0.3350591701697179, 0.15511998618968423, 0.16752958508485896, 0.11789118950416, 0.09307199171381053, 0.5554263859274786, 0.13885659648186965, 0.13885659648186965, 0.13885659648186965, 0.47546034269566834, 0.1584867808985561, 0.1584867808985561, 0.4767267915463675, 0.163646280939848, 0.327292561879696, 0.49093884281954403, 0.5555050985192997, 0.2777525492596499, 0.2777525492596499, 0.5629512109974497, 0.2872757667023295, 0.2872757667023295, 0.2872757667023295, 0.4941196689673658, 0.12352991724184145, 0.12352991724184145, 0.12352991724184145, 0.3244300711165455, 0.14058636415050305, 0.2379153854854667, 0.11895769274273335, 0.11895769274273335, 0.0648860142233091, 0.13559344818702107, 0.3525429652862548, 0.10847475854961686, 0.08135606891221264, 0.13559344818702107, 0.1898308274618295, 0.5593680897973665, 0.5444018481184597, 0.29372580025187445, 0.29372580025187445, 0.29372580025187445, 0.24213092763237556, 0.1720403959493195, 0.19752786201588535, 0.19115599549924386, 0.07646239819969755, 0.11469359729954633, 0.22225922036047574, 0.11112961018023787, 0.3333888305407136, 0.11112961018023787, 0.11112961018023787, 0.11112961018023787, 0.1092994096696489, 0.05464970483482445, 0.2185988193392978, 0.16394911450447336, 0.05464970483482445, 0.4371976386785956, 0.19658421912470733, 0.39316843824941466, 0.39316843824941466, 0.28593937558247623, 0.4289090633737143, 0.14296968779123811, 0.14296968779123811, 0.14296968779123811, 0.40158790682863416, 0.1958965399164069, 0.0881534429623831, 0.13712757794148484, 0.09794826995820345, 0.07835861596656277, 0.19969346952316086, 0.14263819251654347, 0.28527638503308694, 0.14263819251654347, 0.19969346952316086, 0.05705527700661739, 0.22257711902632457, 0.44515423805264914, 0.07419237300877486, 0.14838474601754972, 0.07419237300877486, 0.07419237300877486, 0.2427129786469074, 0.2080396959830635, 0.2080396959830635, 0.13175847412260688, 0.1248238175898381, 0.0832158783932254, 0.6001050971304877, 0.7810755748365285, 0.655481668257504, 0.17061047289944992, 0.1816176001832854, 0.1540997819736967, 0.2256461093186273, 0.19262472746712087, 0.07154632734493062, 0.22557536121487334, 0.22557536121487334, 0.4511507224297467, 0.1574082840975215, 0.20297384002048824, 0.182262223691867, 0.21125848655193674, 0.13669666776890024, 0.11184272817455475, 0.31790990186122536, 0.20510316249111313, 0.11793431843239005, 0.11280673937011222, 0.11793431843239005, 0.12306189749466788, 0.4562794555360717, 0.11406986388401792, 0.11406986388401792, 0.11406986388401792, 0.11406986388401792, 0.11406986388401792, 0.23752247319967712, 0.2309246267219083, 0.1451526225109138, 0.17814185489975784, 0.1517504689886826, 0.05938061829991928, 0.07563630178433947, 0.4159996598138671, 0.22690890535301841, 0.11345445267650921, 0.15127260356867894, 0.037818150892169736, 0.38936953791498696, 0.14409378639362957, 0.14409378639362957, 0.4322813591808887, 0.14409378639362957, 0.14409378639362957, 0.14409378639362957, 0.33287102948480357, 0.18307906621664197, 0.18307906621664197, 0.12482663605680133, 0.09986130884544107, 0.0748959816340808, 0.26915469025662225, 0.23614515277231954, 0.1548909066571128, 0.11934217398170988, 0.14219493070161177, 0.07871505092410651, 0.1670550751514272, 0.1670550751514272, 0.1670550751514272, 0.3341101503028544, 0.1670550751514272, 0.229912938886834, 0.295602349997358, 0.09853411666578601, 0.10948235185087335, 0.10948235185087335, 0.16422352777631002, 0.35221494728090724, 0.35221494728090724, 0.19314722842454135, 0.22977859933264402, 0.1465254836324107, 0.21312797619259735, 0.13320498512037335, 0.08325311570023335, 0.5347197877671008, 0.22983270312729467, 0.22983270312729467, 0.22983270312729467, 0.15030439227607256, 0.19324850435495042, 0.343552896631023, 0.12883233623663362, 0.10736028019719468, 0.06441616811831681, 0.0608875025246262, 0.1826625075738786, 0.0608875025246262, 0.2435500100985048, 0.304437512623131, 0.1217750050492524, 0.44789751927412264, 0.12797071979260646, 0.12797071979260646, 0.09597803984445484, 0.09597803984445484, 0.09597803984445484, 0.16942235652265222, 0.16942235652265222, 0.05647411884088407, 0.16942235652265222, 0.33884471304530445, 0.05647411884088407, 0.33512831718187513, 0.5353343713904503, 0.3237340071370225, 0.21167223543574545, 0.1743183115353198, 0.09130959175659609, 0.10376089972340465, 0.09546002774553226, 0.19489624752354182, 0.2505808896731252, 0.19489624752354182, 0.06960580268697922, 0.23665972913572936, 0.06960580268697922, 0.1780916740852944, 0.20777361976617678, 0.1335687555639708, 0.21272061071299053, 0.148409728404412, 0.11872778272352959, 0.594300607747698, 0.22586251303196528, 0.45172502606393056, 0.22586251303196528, 0.089259589735758, 0.44629794867878997, 0.178519179471516, 0.089259589735758, 0.089259589735758, 0.545407121164712, 0.30319462233374184, 0.15435362591535948, 0.17089151440629086, 0.09922733094558824, 0.1874294028972222, 0.08268944245465686, 0.2341709291303426, 0.09366837165213704, 0.14050255747820556, 0.14050255747820556, 0.2810051149564111, 0.09366837165213704, 0.22248861691622365, 0.22248861691622365, 0.4449772338324473, 0.27556124374127927, 0.21477567526893826, 0.21072330403744888, 0.14183299310212905, 0.07699505339829862, 0.07699505339829862, 0.2937244209093684, 0.209091960647347, 0.1393946404315647, 0.1443730204469777, 0.12943788040073861, 0.08463246026202141, 0.20713609807341998, 0.3071328350743814, 0.14285248142994483, 0.14285248142994483, 0.12856723328695036, 0.07142624071497242, 0.6486775573119292, 0.13409776726908987, 0.2145564276305438, 0.1072782138152719, 0.24137598108436178, 0.24137598108436178, 0.08045866036145392, 0.20252743313511715, 0.10126371656755857, 0.4050548662702343, 0.10126371656755857, 0.10126371656755857, 0.10126371656755857, 0.15625055859677198, 0.10416703906451465, 0.15625055859677198, 0.15625055859677198, 0.31250111719354395, 0.10416703906451465, 0.3755277890487973, 0.15570664423974523, 0.13738821550565755, 0.10533096522100412, 0.1007513580374822, 0.1236493939550918, 0.2853145969247556, 0.42797189538713337, 0.1426572984623778, 0.20551754710410117, 0.24878439912601719, 0.18388412109314314, 0.1352089125684876, 0.12980055606574809, 0.09735041704931108, 0.13485959542342418, 0.20228939313513628, 0.20228939313513628, 0.40457878627027255, 0.06742979771171209, 0.06742979771171209, 0.5345639398348965, 0.25707925904187273, 0.20378233948441132, 0.16616098450267383, 0.16929609741781862, 0.12540451660579158, 0.08151293579376452, 0.5482851792894742, 0.5916200857871816, 0.2200248714539856, 0.4400497429079712, 0.2200248714539856, 0.2200248714539856], \"Term\": [\"aaron\", \"aaron\", \"aaron\", \"aaron\", \"aaron\", \"aaron\", \"abu_dhabi\", \"abu_dhabi\", \"abu_dhabi\", \"abu_dhabi\", \"accomplishment\", \"adviser\", \"adviser\", \"adviser\", \"adviser\", \"adviser\", \"adviser\", \"afghan\", \"afghan\", \"afghan\", \"afghan\", \"afghan\", \"afghan\", \"air\", \"air\", \"air\", \"air\", \"air\", \"air\", \"aircraft\", \"aircraft\", \"aircraft\", \"aircraft\", \"aircraft\", \"aircraft\", \"airfield\", \"airfield\", \"airfield\", \"airfield\", \"airfield\", \"airfield\", \"airliner\", \"airliner\", \"airliner\", \"airliner\", \"airliner\", \"airliner\", \"airport\", \"airport\", \"airport\", \"airport\", \"airport\", \"airport\", \"airspace\", \"airspace\", \"airspace\", \"airspace\", \"airspace\", \"airspace\", \"album\", \"album\", \"allegiance\", \"allentown\", \"amazon\", \"amazon\", \"amazon\", \"amazon\", \"amazon\", \"amazon\", \"american\", \"american\", \"american\", \"american\", \"american\", \"american\", \"amos\", \"amos\", \"amos\", \"amos\", \"andrew\", \"andrew\", \"andrew\", \"andrew\", \"andrew\", \"andrew\", \"animal\", \"animal\", \"animal\", \"animal\", \"animal\", \"animal\", \"area\", \"area\", \"area\", \"area\", \"area\", \"area\", \"art\", \"art\", \"art\", \"art\", \"art\", \"art\", \"artificial_intelligence\", \"artificial_intelligence\", \"artificial_intelligence\", \"artificial_intelligence\", \"artificial_intelligence\", \"artificial_intelligence\", \"aspen\", \"aspen\", \"assertiveness\", \"assertiveness\", \"attack\", \"attack\", \"attack\", \"attack\", \"attack\", \"attack\", \"austria\", \"authentication\", \"authority\", \"authority\", \"authority\", \"authority\", \"authority\", \"authority\", \"authorization\", \"authorization\", \"authorization\", \"authorization\", \"authorization\", \"authorization\", \"back\", \"back\", \"back\", \"back\", \"back\", \"back\", \"bacteria\", \"baltimore\", \"bartender\", \"bartender\", \"beaumont\", \"belgium\", \"belgium\", \"belgium\", \"bernard\", \"blacksburg\", \"body\", \"body\", \"body\", \"body\", \"body\", \"body\", \"bogota\", \"bogota\", \"bogota\", \"bogota\", \"bogota\", \"bogota\", \"border\", \"border\", \"border\", \"border\", \"border\", \"border\", \"braun\", \"braun\", \"breakfast\", \"breeding\", \"brook\", \"brooklyn\", \"brooklyn\", \"brooklyn\", \"bubble\", \"bubble\", \"burger\", \"burger\", \"business\", \"business\", \"business\", \"business\", \"business\", \"business\", \"calf\", \"cambridge\", \"cambridge\", \"cambridge\", \"cambridge\", \"cambridge\", \"cambridge\", \"camera\", \"camera\", \"camera\", \"camera\", \"camera\", \"camera\", \"campbell\", \"caribou\", \"caribou\", \"caribou\", \"caribou\", \"caribou\", \"caribou\", \"carrier\", \"carrier\", \"carrier\", \"carrier\", \"carrier\", \"carrier\", \"charity\", \"charity\", \"charity\", \"charm\", \"charm\", \"charm\", \"charm\", \"china\", \"china\", \"china\", \"china\", \"china\", \"china\", \"chocolate\", \"chord\", \"chord\", \"chord\", \"christmas\", \"christmas\", \"christmas\", \"christmas\", \"christmas\", \"christmas\", \"city\", \"city\", \"city\", \"city\", \"city\", \"city\", \"civil_war\", \"civil_war\", \"civil_war\", \"civil_war\", \"civil_war\", \"civil_war\", \"climate_change\", \"climate_change\", \"climate_change\", \"climate_change\", \"climate_change\", \"climate_change\", \"clinton\", \"clinton\", \"clive\", \"coffee\", \"coffee\", \"coffee\", \"coffee\", \"coffee\", \"coffee\", \"collision\", \"collision\", \"collision\", \"collision\", \"collision\", \"collision\", \"columnist\", \"columnist\", \"company\", \"company\", \"company\", \"company\", \"company\", \"company\", \"competence\", \"composer\", \"composer\", \"composer\", \"composer\", \"composer\", \"composer\", \"concern\", \"concern\", \"concern\", \"concern\", \"concern\", \"concern\", \"consistency\", \"constable\", \"constable\", \"constable\", \"constable\", \"constable\", \"contingent\", \"cooper\", \"cooper\", \"cooper\", \"cooper\", \"cooper\", \"cooper\", \"councilman\", \"councilman\", \"councilman\", \"country\", \"country\", \"country\", \"country\", \"country\", \"country\", \"county\", \"county\", \"county\", \"county\", \"county\", \"county\", \"customer\", \"customer\", \"customer\", \"customer\", \"customer\", \"customer\", \"cutter\", \"damned\", \"dane\", \"data\", \"data\", \"data\", \"data\", \"data\", \"data\", \"day\", \"day\", \"day\", \"day\", \"day\", \"day\", \"defense\", \"defense\", \"defense\", \"defense\", \"defense\", \"defense\", \"delivery\", \"delivery\", \"delivery\", \"delivery\", \"delivery\", \"delivery\", \"department\", \"department\", \"department\", \"department\", \"department\", \"department\", \"detection\", \"detection\", \"detection\", \"detection\", \"detection\", \"detection\", \"detective\", \"detective\", \"detective\", \"detective\", \"display\", \"display\", \"display\", \"display\", \"display\", \"display\", \"disposable\", \"dock\", \"dock\", \"dog\", \"dog\", \"dog\", \"dog\", \"dog\", \"dog\", \"dolphin\", \"dolphin\", \"dolphin\", \"drifting\", \"dubai\", \"dubai\", \"dubai\", \"dubai\", \"dubai\", \"dubai\", \"durango\", \"durango\", \"effort\", \"effort\", \"effort\", \"effort\", \"effort\", \"effort\", \"egg\", \"egg\", \"egg\", \"egg\", \"end\", \"end\", \"end\", \"end\", \"end\", \"end\", \"escalation\", \"escalation\", \"escalation\", \"escalation\", \"escalation\", \"escalation\", \"euphemism\", \"extension\", \"extension\", \"extension\", \"extortion\", \"extortion\", \"extortion\", \"facility\", \"facility\", \"facility\", \"facility\", \"facility\", \"facility\", \"federal\", \"federal\", \"federal\", \"federal\", \"federal\", \"federal\", \"festival\", \"festival\", \"festival\", \"fighter\", \"fighter\", \"fighter\", \"fighter\", \"fighter\", \"fighter\", \"firework\", \"firework\", \"firework\", \"firework\", \"first\", \"first\", \"first\", \"first\", \"first\", \"first\", \"fjord\", \"fjord\", \"fjord\", \"fjord\", \"fjord\", \"flight\", \"flight\", \"flight\", \"flight\", \"flight\", \"flight\", \"florence\", \"florence\", \"florence\", \"fly\", \"fly\", \"fly\", \"fly\", \"fly\", \"fly\", \"footage\", \"footage\", \"footage\", \"footage\", \"footage\", \"footage\", \"force\", \"force\", \"force\", \"force\", \"force\", \"force\", \"found\", \"found\", \"found\", \"found\", \"found\", \"found\", \"friday\", \"friday\", \"friday\", \"friday\", \"friday\", \"friday\", \"garrison\", \"garrison\", \"garrison\", \"garrison\", \"get\", \"get\", \"get\", \"get\", \"get\", \"get\", \"glass\", \"glass\", \"glass\", \"glass\", \"glass\", \"google\", \"google\", \"google\", \"google\", \"google\", \"google\", \"government\", \"government\", \"government\", \"government\", \"government\", \"government\", \"grape\", \"grape\", \"grape\", \"grape\", \"grape\", \"grape\", \"grocer\", \"grocer\", \"grocer\", \"grocery\", \"grocery\", \"grocery\", \"grocery\", \"grocery\", \"group\", \"group\", \"group\", \"group\", \"group\", \"group\", \"guess\", \"guess\", \"guest\", \"guest\", \"guest\", \"guitarist\", \"guitarist\", \"guitarist\", \"hamburg\", \"helium\", \"helium\", \"heroin\", \"heroin\", \"heron\", \"heron\", \"heron\", \"hudson\", \"hudson\", \"hudson\", \"hudson\", \"huntington\", \"illinois\", \"image\", \"image\", \"image\", \"image\", \"image\", \"image\", \"indiana\", \"industry\", \"industry\", \"industry\", \"industry\", \"industry\", \"industry\", \"inmate\", \"inmate\", \"inmate\", \"inmate\", \"instrument\", \"instrument\", \"instrument\", \"instrument\", \"instrument\", \"instrument\", \"interceptor\", \"iran\", \"iran\", \"iran\", \"iran\", \"iran\", \"iran\", \"iranian\", \"iranian\", \"iranian\", \"iranian\", \"iranian\", \"iranian\", \"iraq\", \"iraq\", \"iraq\", \"iraq\", \"iraq\", \"iraq\", \"israel\", \"israel\", \"israel\", \"israel\", \"israel\", \"israel\", \"israeli\", \"israeli\", \"israeli\", \"israeli\", \"israeli\", \"israeli\", \"jackson\", \"jackson\", \"jackson\", \"jackson\", \"jackson\", \"jackson\", \"java\", \"jordan\", \"jordan\", \"july\", \"july\", \"july\", \"july\", \"july\", \"july\", \"junction\", \"kodiak\", \"kuwait\", \"kuwait\", \"kuwait\", \"kuwait\", \"lament\", \"lament\", \"lament\", \"landmass\", \"law\", \"law\", \"law\", \"law\", \"law\", \"law\", \"leaflet\", \"leaflet\", \"leaflet\", \"leaflet\", \"lease\", \"leash\", \"liability\", \"libya\", \"libya\", \"libya\", \"libya\", \"libya\", \"libya\", \"life\", \"life\", \"life\", \"life\", \"life\", \"life\", \"like\", \"like\", \"like\", \"like\", \"like\", \"like\", \"lingerie\", \"lingerie\", \"lingerie\", \"lingerie\", \"lingerie\", \"little\", \"little\", \"little\", \"little\", \"little\", \"little\", \"local\", \"local\", \"local\", \"local\", \"local\", \"local\", \"lovell\", \"lunchtime\", \"may\", \"may\", \"may\", \"may\", \"may\", \"may\", \"measure\", \"measure\", \"measure\", \"measure\", \"measure\", \"measure\", \"midnight\", \"midnight\", \"midnight\", \"midnight\", \"midnight\", \"migration\", \"migration\", \"migration\", \"migration\", \"migration\", \"military\", \"military\", \"military\", \"military\", \"military\", \"military\", \"militiaman\", \"militiaman\", \"militiaman\", \"mill\", \"mill\", \"million\", \"million\", \"million\", \"million\", \"million\", \"million\", \"mining\", \"mining\", \"missile\", \"missile\", \"missile\", \"missile\", \"missile\", \"missile\", \"mountainside\", \"music\", \"music\", \"music\", \"music\", \"music\", \"music\", \"naught\", \"naught\", \"need\", \"need\", \"need\", \"need\", \"need\", \"need\", \"needle\", \"network\", \"network\", \"network\", \"network\", \"network\", \"network\", \"niamey\", \"niamey\", \"niamey\", \"niamey\", \"niamey\", \"niamey\", \"nielsen\", \"nielsen\", \"nielsen\", \"nielsen\", \"nielsen\", \"niger\", \"niger\", \"niger\", \"niger\", \"niger\", \"niger\", \"nonresident\", \"norm\", \"norman\", \"norman\", \"northrop\", \"number\", \"number\", \"number\", \"number\", \"number\", \"number\", \"oakland\", \"oakland\", \"oakland\", \"oakland\", \"oakland\", \"obliviousness\", \"observer\", \"observer\", \"observer\", \"observer\", \"observer\", \"observer\", \"officer\", \"officer\", \"officer\", \"officer\", \"officer\", \"officer\", \"official\", \"official\", \"official\", \"official\", \"official\", \"official\", \"one\", \"one\", \"one\", \"one\", \"one\", \"one\", \"operation\", \"operation\", \"operation\", \"operation\", \"operation\", \"operation\", \"operator\", \"operator\", \"operator\", \"operator\", \"operator\", \"operator\", \"oslo\", \"oslo\", \"oslo\", \"oslo\", \"oslo\", \"oslo\", \"pakistan\", \"pakistan\", \"pakistan\", \"pakistan\", \"pakistan\", \"pakistan\", \"pancake\", \"parker\", \"parker\", \"parker\", \"parker\", \"parker\", \"part\", \"part\", \"part\", \"part\", \"part\", \"part\", \"passenger\", \"passenger\", \"passenger\", \"passenger\", \"passenger\", \"passenger\", \"payroll\", \"penitentiary\", \"penitentiary\", \"pennsylvania\", \"pentagon\", \"pentagon\", \"pentagon\", \"pentagon\", \"pentagon\", \"pentagon\", \"people\", \"people\", \"people\", \"people\", \"people\", \"people\", \"person\", \"person\", \"person\", \"person\", \"person\", \"person\", \"photographer\", \"photographer\", \"photographer\", \"photographer\", \"photographer\", \"photographer\", \"pier\", \"pilot\", \"pilot\", \"pilot\", \"pilot\", \"pilot\", \"pilot\", \"place\", \"place\", \"place\", \"place\", \"place\", \"place\", \"plan\", \"plan\", \"plan\", \"plan\", \"plan\", \"plan\", \"plea\", \"plea\", \"plea\", \"poacher\", \"poacher\", \"poacher\", \"poacher\", \"poacher\", \"poacher\", \"poem\", \"poetry\", \"poetry\", \"police\", \"police\", \"police\", \"police\", \"police\", \"police\", \"policy\", \"policy\", \"policy\", \"policy\", \"policy\", \"policy\", \"pollock\", \"portsmouth\", \"power\", \"power\", \"power\", \"power\", \"power\", \"power\", \"president\", \"president\", \"president\", \"president\", \"president\", \"president\", \"prison\", \"prison\", \"prison\", \"prison\", \"prison\", \"prison\", \"product\", \"product\", \"product\", \"product\", \"product\", \"product\", \"program\", \"program\", \"program\", \"program\", \"program\", \"program\", \"proof\", \"proof\", \"proposal\", \"proposal\", \"proposal\", \"proposal\", \"proposal\", \"proposal\", \"prospectus\", \"prospectus\", \"pup\", \"purveyor\", \"quarterly\", \"raider\", \"reassurance\", \"reassurance\", \"reassurance\", \"reassurance\", \"reassurance\", \"referendum\", \"refuge\", \"refugee\", \"refugee\", \"refugee\", \"refugee\", \"refugee\", \"report\", \"report\", \"report\", \"report\", \"report\", \"report\", \"resident\", \"resident\", \"resident\", \"resident\", \"resident\", \"resident\", \"retail\", \"retail\", \"retail\", \"retail\", \"retrieval\", \"richards\", \"richards\", \"richards\", \"ridge\", \"riyadh\", \"riyadh\", \"rodin\", \"rodin\", \"rover\", \"rover\", \"runway\", \"runway\", \"runway\", \"runway\", \"runway\", \"runway\", \"russian\", \"russian\", \"russian\", \"russian\", \"russian\", \"russian\", \"safety\", \"safety\", \"safety\", \"safety\", \"safety\", \"safety\", \"saint\", \"sanction\", \"sanction\", \"sanction\", \"sanction\", \"sanction\", \"satellite\", \"satellite\", \"satellite\", \"satellite\", \"satellite\", \"satellite\", \"saturday\", \"saturday\", \"saturday\", \"saturday\", \"saturday\", \"saturday\", \"say\", \"say\", \"say\", \"say\", \"say\", \"say\", \"schubert\", \"schubert\", \"schubert\", \"schubert\", \"schubert\", \"security\", \"security\", \"security\", \"security\", \"security\", \"security\", \"sensing\", \"sensing\", \"sensing\", \"sensing\", \"seoul\", \"seoul\", \"seoul\", \"servicing\", \"settlement\", \"settlement\", \"settlement\", \"shah\", \"shah\", \"shah\", \"shaheed\", \"sheridan\", \"sheridan\", \"sheridan\", \"shore\", \"shore\", \"shore\", \"shore\", \"show\", \"show\", \"show\", \"show\", \"show\", \"show\", \"sighting\", \"sighting\", \"sighting\", \"sighting\", \"sighting\", \"sighting\", \"sightseeing\", \"sleepiness\", \"slope\", \"slope\", \"slope\", \"small\", \"small\", \"small\", \"small\", \"small\", \"small\", \"smoke\", \"smoke\", \"smoke\", \"smoke\", \"smoke\", \"smoke\", \"snap\", \"snap\", \"snap\", \"snap\", \"snap\", \"snap\", \"song\", \"song\", \"song\", \"south_africa\", \"south_africa\", \"south_africa\", \"south_africa\", \"south_africa\", \"space\", \"space\", \"space\", \"space\", \"space\", \"space\", \"spark\", \"spark\", \"spark\", \"spark\", \"spark\", \"spark\", \"stadium\", \"stadium\", \"stadium\", \"stadium\", \"stadium\", \"stadium\", \"state\", \"state\", \"state\", \"state\", \"state\", \"state\", \"steal\", \"steep\", \"stingray\", \"strike\", \"strike\", \"strike\", \"strike\", \"strike\", \"strike\", \"swimmer\", \"swimmer\", \"swimmer\", \"syria\", \"syria\", \"syria\", \"syria\", \"syria\", \"syria\", \"system\", \"system\", \"system\", \"system\", \"system\", \"system\", \"tail\", \"tail\", \"tail\", \"tail\", \"tail\", \"tail\", \"take\", \"take\", \"take\", \"take\", \"take\", \"take\", \"taliban\", \"taliban\", \"taliban\", \"taliban\", \"taliban\", \"taliban\", \"tang\", \"teach\", \"teach\", \"teach\", \"teach\", \"teach\", \"teach\", \"team\", \"team\", \"team\", \"team\", \"team\", \"team\", \"technology\", \"technology\", \"technology\", \"technology\", \"technology\", \"technology\", \"tel_aviv\", \"tel_aviv\", \"tel_aviv\", \"tel_aviv\", \"tel_aviv\", \"test\", \"test\", \"test\", \"test\", \"test\", \"test\", \"thanksgiving\", \"thanksgiving\", \"time\", \"time\", \"time\", \"time\", \"time\", \"time\", \"tobacco\", \"tomato\", \"tomato\", \"tomato\", \"town\", \"town\", \"town\", \"town\", \"town\", \"town\", \"traveler\", \"traveler\", \"traveler\", \"traveler\", \"traveler\", \"traveler\", \"tree\", \"tree\", \"tree\", \"tree\", \"tree\", \"tree\", \"trip\", \"trip\", \"trip\", \"trip\", \"trip\", \"trip\", \"trunk\", \"tucson\", \"two\", \"two\", \"two\", \"two\", \"two\", \"two\", \"unit\", \"unit\", \"unit\", \"unit\", \"unit\", \"unit\", \"united_states\", \"united_states\", \"united_states\", \"united_states\", \"united_states\", \"united_states\", \"unveiling\", \"utah\", \"utah\", \"utah\", \"vanuatu\", \"vanuatu\", \"vanuatu\", \"vanuatu\", \"vanuatu\", \"vest\", \"video\", \"video\", \"video\", \"video\", \"video\", \"video\", \"vineyard\", \"vineyard\", \"vineyard\", \"vineyard\", \"vineyard\", \"vineyard\", \"wale\", \"wale\", \"wale\", \"war\", \"war\", \"war\", \"war\", \"war\", \"war\", \"way\", \"way\", \"way\", \"way\", \"way\", \"way\", \"weapon\", \"weapon\", \"weapon\", \"weapon\", \"weapon\", \"weapon\", \"wheeler\", \"white_house\", \"white_house\", \"white_house\", \"white_house\", \"white_house\", \"white_house\", \"wildfire\", \"wildfire\", \"wildfire\", \"wildfire\", \"wildfire\", \"wildfire\", \"wine\", \"wine\", \"wine\", \"wine\", \"wine\", \"wine\", \"work\", \"work\", \"work\", \"work\", \"work\", \"work\", \"workhorse\", \"workhorse\", \"workhorse\", \"world\", \"world\", \"world\", \"world\", \"world\", \"world\", \"yard\", \"yard\", \"yard\", \"yard\", \"yard\", \"yard\", \"yazoo\", \"year\", \"year\", \"year\", \"year\", \"year\", \"year\", \"yogurt\", \"yorkshire\", \"yuan\", \"yuan\", \"yuan\", \"yuan\"]}, \"R\": 30, \"lambda.step\": 0.01, \"plot.opts\": {\"xlab\": \"PC1\", \"ylab\": \"PC2\"}, \"topic.order\": [4, 1, 6, 2, 3, 5]};\n",
       "\n",
       "function LDAvis_load_lib(url, callback){\n",
       "  var s = document.createElement('script');\n",
       "  s.src = url;\n",
       "  s.async = true;\n",
       "  s.onreadystatechange = s.onload = callback;\n",
       "  s.onerror = function(){console.warn(\"failed to load library \" + url);};\n",
       "  document.getElementsByTagName(\"head\")[0].appendChild(s);\n",
       "}\n",
       "\n",
       "if(typeof(LDAvis) !== \"undefined\"){\n",
       "   // already loaded: just create the visualization\n",
       "   !function(LDAvis){\n",
       "       new LDAvis(\"#\" + \"ldavis_el250160391280964924127996\", ldavis_el250160391280964924127996_data);\n",
       "   }(LDAvis);\n",
       "}else if(typeof define === \"function\" && define.amd){\n",
       "   // require.js is available: use it to load d3/LDAvis\n",
       "   require.config({paths: {d3: \"https://cdnjs.cloudflare.com/ajax/libs/d3/3.5.5/d3.min\"}});\n",
       "   require([\"d3\"], function(d3){\n",
       "      window.d3 = d3;\n",
       "      LDAvis_load_lib(\"https://cdn.rawgit.com/bmabey/pyLDAvis/files/ldavis.v1.0.0.js\", function(){\n",
       "        new LDAvis(\"#\" + \"ldavis_el250160391280964924127996\", ldavis_el250160391280964924127996_data);\n",
       "      });\n",
       "    });\n",
       "}else{\n",
       "    // require.js not available: dynamically load d3 & LDAvis\n",
       "    LDAvis_load_lib(\"https://cdnjs.cloudflare.com/ajax/libs/d3/3.5.5/d3.min.js\", function(){\n",
       "         LDAvis_load_lib(\"https://cdn.rawgit.com/bmabey/pyLDAvis/files/ldavis.v1.0.0.js\", function(){\n",
       "                 new LDAvis(\"#\" + \"ldavis_el250160391280964924127996\", ldavis_el250160391280964924127996_data);\n",
       "            })\n",
       "         });\n",
       "}\n",
       "</script>"
      ],
      "text/plain": [
       "PreparedData(topic_coordinates=              x         y  topics  cluster       Freq\n",
       "topic                                                \n",
       "3     -0.017923  0.003263       1        1  23.955287\n",
       "0      0.002844  0.001958       2        1  21.284180\n",
       "5     -0.001267 -0.000208       3        1  16.192119\n",
       "1      0.013260 -0.002906       4        1  15.722739\n",
       "2      0.005069  0.012341       5        1  13.103586\n",
       "4     -0.001982 -0.014449       6        1   9.742088, topic_info=          Term        Freq       Total Category  logprob  loglift\n",
       "1813    israel  209.000000  209.000000  Default  30.0000  30.0000\n",
       "302   military  529.000000  529.000000  Default  29.0000  29.0000\n",
       "887       iran  198.000000  198.000000  Default  28.0000  28.0000\n",
       "147   american  271.000000  271.000000  Default  27.0000  27.0000\n",
       "1162   israeli  132.000000  132.000000  Default  26.0000  26.0000\n",
       "...        ...         ...         ...      ...      ...      ...\n",
       "739     attack   21.960154  219.327194   Topic6  -5.7388   0.0274\n",
       "130       time   24.834630  300.289062   Topic6  -5.6158  -0.1638\n",
       "1422     china   19.983984  191.740404   Topic6  -5.8331   0.0675\n",
       "147   american   21.295048  271.270642   Topic6  -5.7696  -0.2159\n",
       "74        like   20.656720  249.136974   Topic6  -5.8000  -0.1612\n",
       "\n",
       "[509 rows x 6 columns], token_table=      Topic      Freq       Term\n",
       "term                            \n",
       "1588      1  0.385174      aaron\n",
       "1588      2  0.096293      aaron\n",
       "1588      3  0.224685      aaron\n",
       "1588      4  0.096293      aaron\n",
       "1588      5  0.128391      aaron\n",
       "...     ...       ...        ...\n",
       "872       5  0.591620  yorkshire\n",
       "4449      1  0.220025       yuan\n",
       "4449      2  0.440050       yuan\n",
       "4449      3  0.220025       yuan\n",
       "4449      5  0.220025       yuan\n",
       "\n",
       "[1385 rows x 3 columns], R=30, lambda_step=0.01, plot_opts={'xlab': 'PC1', 'ylab': 'PC2'}, topic_order=[4, 1, 6, 2, 3, 5])"
      ]
     },
     "execution_count": 37,
     "metadata": {},
     "output_type": "execute_result"
    }
   ],
   "source": [
    "import pyLDAvis.gensim\n",
    "import pickle \n",
    "import pyLDAvis\n",
    "# Visualize the topics\n",
    "pyLDAvis.enable_notebook()\n",
    "LDAvis_data_filepath = os.path.join('/Users/Mihir/ldavis_prepared_'+str(num_topics))\n",
    "# # this is a bit time consuming - make the if statement True\n",
    "# # if you want to execute visualization prep yourself\n",
    "if 1 == 1:\n",
    "    LDAvis_prepared = pyLDAvis.gensim.prepare(lda_model, corpus, id2word)\n",
    "    with open(LDAvis_data_filepath, 'wb') as f:\n",
    "        pickle.dump(LDAvis_prepared, f)\n",
    "# load the pre-prepared pyLDAvis data from disk\n",
    "with open(LDAvis_data_filepath, 'rb') as f:\n",
    "    LDAvis_prepared = pickle.load(f)\n",
    "pyLDAvis.save_html(LDAvis_prepared, '/Users/Mihir/ldavis_prepared_'+ str(num_topics) +'.html')\n",
    "LDAvis_prepared"
   ]
  },
  {
   "cell_type": "code",
   "execution_count": 38,
   "id": "composite-lotus",
   "metadata": {},
   "outputs": [
    {
     "name": "stdout",
     "output_type": "stream",
     "text": [
      "          Term Category\n",
      "1813    israel  Default\n",
      "302   military  Default\n",
      "887       iran  Default\n",
      "147   american  Default\n",
      "1162   israeli  Default\n",
      "...        ...      ...\n",
      "739     attack   Topic6\n",
      "130       time   Topic6\n",
      "1422     china   Topic6\n",
      "147   american   Topic6\n",
      "74        like   Topic6\n",
      "\n",
      "[509 rows x 2 columns]\n"
     ]
    },
    {
     "name": "stderr",
     "output_type": "stream",
     "text": [
      "/usr/local/lib/python3.9/site-packages/ipykernel/ipkernel.py:283: DeprecationWarning: `should_run_async` will not call `transform_cell` automatically in the future. Please pass the result to `transformed_cell` argument and any exception that happen during thetransform in `preprocessing_exc_tuple` in IPython 7.17 and above.\n",
      "  and should_run_async(code)\n"
     ]
    }
   ],
   "source": [
    "df = LDAvis_prepared[1]\n",
    "df = df.drop(columns = [\"Freq\", \"Total\", \"logprob\", \"loglift\"])\n",
    "print(df)\n",
    "compression_opts = dict(method='zip',\n",
    "                         archive_name='out.csv')  \n",
    "df.to_csv('out.zip', index=False,\n",
    "           compression=compression_opts)  "
   ]
  },
  {
   "cell_type": "code",
   "execution_count": null,
   "id": "union-highway",
   "metadata": {},
   "outputs": [],
   "source": []
  }
 ],
 "metadata": {
  "kernelspec": {
   "display_name": "Python 3",
   "language": "python",
   "name": "python3"
  },
  "language_info": {
   "codemirror_mode": {
    "name": "ipython",
    "version": 3
   },
   "file_extension": ".py",
   "mimetype": "text/x-python",
   "name": "python",
   "nbconvert_exporter": "python",
   "pygments_lexer": "ipython3",
   "version": "3.9.0"
  }
 },
 "nbformat": 4,
 "nbformat_minor": 5
}
