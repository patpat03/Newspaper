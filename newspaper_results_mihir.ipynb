{
 "cells": [
  {
   "cell_type": "code",
   "execution_count": 1,
   "id": "lovely-starter",
   "metadata": {},
   "outputs": [
    {
     "name": "stdout",
     "output_type": "stream",
     "text": [
      "0.6196692706606616\n"
     ]
    }
   ],
   "source": [
    "#!/usr/bin/env python\n",
    "# coding: utf-8\n",
    "\n",
    "#------------------------------------------------------------------------------\n",
    "#Set Seed\n",
    "#------------------------------------------------------------------------------\n",
    "\n",
    "import random\n",
    "\n",
    "random.seed(2020)\n",
    "print(random.random())\n",
    "\n",
    "#------------------------------------------------------------------------------\n",
    "#Detect number of cores on computer (needed for multicore processing to speed up code)\n",
    "#------------------------------------------------------------------------------\n",
    "\n",
    "import psutil\n",
    "psutil.cpu_count()\n",
    "psutil.cpu_count(logical=False)  # Ignoring virtual cores\n",
    "\n",
    "#------------------------------------------------------------------------------\n",
    "#Set working directory\n",
    "#------------------------------------------------------------------------------\n",
    "import os\n",
    "\n",
    "#------------------------------------------------------------------------------\n",
    "#Import relevant packages\n",
    "#------------------------------------------------------------------------------\n",
    "\n",
    "import pandas as pd\n",
    "import os\n",
    "from pprint import pprint\n",
    "import csv\n",
    "\n",
    "from dateutil.parser import parse\n",
    "from pandas import DataFrame\n",
    "\n",
    "import gensim\n",
    "import gensim.corpora as corpora\n",
    "from gensim.utils import simple_preprocess\n",
    "from gensim.models import CoherenceModel\n",
    "from gensim.models.ldamulticore import LdaMulticore\n",
    "\n",
    "# spacy for lemmatization\n",
    "import spacy\n",
    "from nltk.stem.wordnet import WordNetLemmatizer\n",
    "\n",
    "# Plotting tools\n",
    "import pyLDAvis\n",
    "import pyLDAvis.gensim  # don't skip this\n",
    "import matplotlib.pyplot as plt\n",
    "%matplotlib inline\n",
    "\n",
    "\n",
    "\n"
   ]
  },
  {
   "cell_type": "code",
   "execution_count": 2,
   "id": "macro-ozone",
   "metadata": {},
   "outputs": [
    {
     "name": "stderr",
     "output_type": "stream",
     "text": [
      "/usr/local/lib/python3.9/site-packages/ipykernel/ipkernel.py:283: DeprecationWarning: `should_run_async` will not call `transform_cell` automatically in the future. Please pass the result to `transformed_cell` argument and any exception that happen during thetransform in `preprocessing_exc_tuple` in IPython 7.17 and above.\n",
      "  and should_run_async(code)\n",
      "/usr/local/lib/python3.9/site-packages/docx/section.py:7: DeprecationWarning: Using or importing the ABCs from 'collections' instead of from 'collections.abc' is deprecated since Python 3.3, and in 3.10 it will stop working\n",
      "  from collections import Sequence\n"
     ]
    }
   ],
   "source": [
    "#------------------------------------------------------------------------------\n",
    "#Prepare stopwords\n",
    "#------------------------------------------------------------------------------\n",
    "\n",
    "from nltk.corpus import stopwords\n",
    "stop_words = stopwords.words('english')\n",
    "#stop_words.extend(['using', 'publication', 'ltd', 'elsevier', 'reserved', 'rights'])\n",
    "\n",
    "#------------------------------------------------------------------------------\n",
    "#Import newspaper articles\n",
    "#------------------------------------------------------------------------------\n",
    "import glob\n",
    "import docx\n",
    "\n",
    "#define blank list\n",
    "words = []\n",
    "\n",
    "#define function to import USAT, NYT, WaPo\n",
    "def list_files(dir):                                                                                                  \n",
    "    r = []                                                                                                            \n",
    "    subdirs = [x[0] for x in os.walk(dir)]                                                                            \n",
    "    for subdir in subdirs:                                                                                            \n",
    "        files = os.walk(subdir).__next__()[2]                                                                             \n",
    "        if (len(files) > 0):                                                                                          \n",
    "            for file in files:\n",
    "                if \"Bibliography\" in file:\n",
    "                    continue\n",
    "                if(\"doclist\" in file):\n",
    "                    continue\n",
    "                if(\".docx\" in file):\n",
    "                    r.append(os.path.join(subdir, file))                                                                         \n",
    "    return r                                                                                                          \n",
    "\n",
    "\n",
    "file_list = list_files(\"/Users/Mihir/Downloads/Sample/\")\n",
    "#file_list = list_files(\"/Users/anavirshermon/Dropbox (Kenan-Flagler)/Newspaper Analysis/Sample/\")\n",
    "\n",
    "#import wsj articles, which are in an excel sheet\n",
    "wsj      = pd.read_excel(\"/Users/Mihir/Downloads/Sample/wsj.xlsx\", engine='openpyxl') \n",
    "wsj      = wsj[wsj['Content'].notna()]\n",
    "\n",
    "wsj['year'] = wsj['date'].dt.year #extract year\n",
    "\n",
    "wsj_1    = wsj[(wsj['year']<=2012)]\n",
    "wsj_2    = wsj[(wsj['year']>2012) & (wsj['year']<= 2015)]\n",
    "wsj_3    = wsj[(wsj['year']>=2016)]\n",
    "\n",
    "wsj_list   = wsj['Content'].tolist()\n",
    "wsj_1_list = wsj_1['Content'].tolist()\n",
    "wsj_2_list = wsj_2['Content'].tolist()\n",
    "wsj_3_list = wsj_3['Content'].tolist()\n",
    "\n",
    "    \n",
    "#add words to files list\n",
    "for i in file_list:\n",
    "    doc = docx.Document(i)\n",
    "    words.append([p.text for p in doc.paragraphs]) \n",
    "        \n",
    "#making each word in paragraph formation and removing all words that come before \"Body\", which tells us when the paragraph begins\n",
    "for i in range(len(words)):\n",
    "    words[i] = ' '.join(words[i])\n",
    "    #words[i] = words[i][words[0].index(\"Body \"):]\n",
    "    \n",
    "one = []\n",
    "two = [] \n",
    "three = []"
   ]
  },
  {
   "cell_type": "code",
   "execution_count": 3,
   "id": "cloudy-vietnamese",
   "metadata": {},
   "outputs": [
    {
     "name": "stderr",
     "output_type": "stream",
     "text": [
      "/usr/local/lib/python3.9/site-packages/ipykernel/ipkernel.py:283: DeprecationWarning: `should_run_async` will not call `transform_cell` automatically in the future. Please pass the result to `transformed_cell` argument and any exception that happen during thetransform in `preprocessing_exc_tuple` in IPython 7.17 and above.\n",
      "  and should_run_async(code)\n"
     ]
    }
   ],
   "source": [
    "\n",
    "#split up files between dates\n",
    "for i in words:\n",
    "    date =parse(i[i.index(\"Load-Date:\") + 11:i.index(\"End of Document\")])\n",
    "    if(date.year<=2012):\n",
    "        one.append(i)\n",
    "    elif(date.year<=2015):\n",
    "        two.append(i)\n",
    "    else:\n",
    "        three.append(i)\n",
    "\n",
    "words_cleaned = [x.rsplit(\"Body \")[1] for x in words]\n",
    "words_cleaned = [x.split(\"Load-Date\")[0] for x in words_cleaned]\n",
    "words_cleaned = [x for x in words_cleaned if str(x) != 'nan']\n",
    "\n",
    "one_cleaned = [x.rsplit(\"Body \")[1] for x in one]\n",
    "one_cleaned = [x.split(\"Load-Date\")[0] for x in one_cleaned]\n",
    "one_cleaned = [x for x in one_cleaned if str(x) != 'nan']\n",
    "\n",
    "two_cleaned = [x.rsplit(\"Body \")[1] for x in two]\n",
    "two_cleaned = [x.split(\"Load-Date\")[0] for x in two_cleaned]\n",
    "two_cleaned = [x for x in two_cleaned if str(x) != 'nan']\n",
    "\n",
    "three_cleaned = [x.rsplit(\"Body \")[1] for x in three]\n",
    "three_cleaned = [x.split(\"Load-Date\")[0] for x in three_cleaned]\n",
    "three_cleaned = [x for x in three_cleaned if str(x) != 'nan']\n",
    "\n",
    "for i in wsj_list:\n",
    "    words_cleaned.append(i)  \n",
    "\n",
    "for i in wsj_1_list:\n",
    "    one_cleaned.append(i)\n",
    "    \n",
    "for i in wsj_2_list:\n",
    "    two_cleaned.append(i)\n",
    "    \n",
    "for i in wsj_3_list:\n",
    "    three_cleaned.append(i)\n",
    "\n",
    "#------------------------------------------------------------------------------\n",
    "#Drop military related newspaper articles\n",
    "#------------------------------------------------------------------------------\n",
    "\n",
    "#Code to eventually use tf-idf or some systematic method to drop military articles\n",
    "from pandas import DataFrame\n",
    "import re\n",
    "\n",
    "#drop articles if they contain these words\n",
    "# =============================================================================\n",
    "# drop_words    = {'military', 'strike', 'attack', 'syria', 'iran', 'pakistan'}\n",
    "# words_cleaned = [i for i in words_cleaned if not any(x in i for x in drop_words)]\n",
    "# one_cleaned   = [i for i in one_cleaned if not any(x in i for x in drop_words)]\n",
    "# two_cleaned   = [i for i in two_cleaned if not any(x in i for x in drop_words)]\n",
    "# two_cleaned = [i for i in three_cleaned if not any(x in i for x in drop_words)]\n",
    "# \n",
    "# =============================================================================\n",
    "\n",
    "drop_words= {'military', 'strike', 'attack', 'syria', 'yemen', 'pakistan', 'afghanistan', 'taliban', 'pentagon', 'islamic'}\n",
    "\n",
    "#convert to lower case\n",
    "data        = [item.lower() for item in words_cleaned]\n",
    "data_one    = [item.lower() for item in one_cleaned]\n",
    "data_two    = [item.lower() for item in two_cleaned]\n",
    "data_three  = [item.lower() for item in three_cleaned]\n",
    "\n",
    "#remove new line characters\n",
    "#data = [re.sub('\\s+', ' ', sent) for sent in data]   # Remove new line characters\n",
    "\n",
    "#tokenize and pre-process the text\n",
    "def split(sentences):\n",
    "    for sentence in sentences:\n",
    "        yield(gensim.utils.simple_preprocess(str(sentence), deacc=True))\n",
    "data        = list(split(data))\n",
    "data_one    = list(split(data_one))\n",
    "data_two    = list(split(data_two))\n",
    "data_three  = list(split(data_three))\n",
    "\n",
    "\n",
    "#remove numbers, but not words that contain numbers\n",
    "data       = [[token for token in doc if not token.isnumeric()] for doc in data]\n",
    "data_one   = [[token for token in doc if not token.isnumeric()] for doc in data_one]\n",
    "data_two   = [[token for token in doc if not token.isnumeric()] for doc in data_two]\n",
    "data_three = [[token for token in doc if not token.isnumeric()] for doc in data_three]\n",
    "\n",
    "#remove words that are only two characters\n",
    "data       = [[token for token in doc if len(token) > 2] for doc in data]\n",
    "data_one   = [[token for token in doc if len(token) > 2] for doc in data_one]\n",
    "data_two   = [[token for token in doc if len(token) > 2] for doc in data_two]\n",
    "data_three = [[token for token in doc if len(token) > 2] for doc in data_three]\n",
    "\n",
    "#remove stopwords\n",
    "def remove_stopwords(words):\n",
    "    return [[word for word in simple_preprocess(str(doc)) if word not in stop_words] for doc in words]\n",
    "data       = remove_stopwords(data)\n",
    "data_one   = remove_stopwords(data_one)\n",
    "data_two   = remove_stopwords(data_two)\n",
    "data_three = remove_stopwords(data_three)\n",
    "\n",
    "\n",
    "# =============================================================================\n",
    "# from collections import Counter \n",
    "# test = Counter(c for clist in data for c in clist)\n",
    "# most_occur = test.most_common(150)\n",
    "# \n",
    "# =============================================================================\n"
   ]
  },
  {
   "cell_type": "code",
   "execution_count": 4,
   "id": "front-miniature",
   "metadata": {},
   "outputs": [
    {
     "name": "stdout",
     "output_type": "stream",
     "text": [
      "2498\n",
      "668\n",
      "1121\n",
      "709\n"
     ]
    },
    {
     "name": "stderr",
     "output_type": "stream",
     "text": [
      "/usr/local/lib/python3.9/site-packages/ipykernel/ipkernel.py:283: DeprecationWarning: `should_run_async` will not call `transform_cell` automatically in the future. Please pass the result to `transformed_cell` argument and any exception that happen during thetransform in `preprocessing_exc_tuple` in IPython 7.17 and above.\n",
      "  and should_run_async(code)\n"
     ]
    }
   ],
   "source": [
    "print(len(data))\n",
    "print(len(data_one))\n",
    "print(len(data_two))\n",
    "print(len(data_three))"
   ]
  },
  {
   "cell_type": "code",
   "execution_count": 5,
   "id": "veterinary-cambridge",
   "metadata": {},
   "outputs": [
    {
     "name": "stderr",
     "output_type": "stream",
     "text": [
      "/usr/local/lib/python3.9/site-packages/ipykernel/ipkernel.py:283: DeprecationWarning: `should_run_async` will not call `transform_cell` automatically in the future. Please pass the result to `transformed_cell` argument and any exception that happen during thetransform in `preprocessing_exc_tuple` in IPython 7.17 and above.\n",
      "  and should_run_async(code)\n"
     ]
    }
   ],
   "source": [
    "import nltk\n",
    "from nltk.corpus import wordnet as wn\n",
    "nouns = {x.name().split('.', 1)[0] for x in wn.all_synsets('n')}\n",
    "verbs = {x.name().split('.', 1)[0] for x in wn.all_synsets('v')}\n"
   ]
  },
  {
   "cell_type": "code",
   "execution_count": 6,
   "id": "related-eligibility",
   "metadata": {},
   "outputs": [
    {
     "name": "stderr",
     "output_type": "stream",
     "text": [
      "/usr/local/lib/python3.9/site-packages/ipykernel/ipkernel.py:283: DeprecationWarning: `should_run_async` will not call `transform_cell` automatically in the future. Please pass the result to `transformed_cell` argument and any exception that happen during thetransform in `preprocessing_exc_tuple` in IPython 7.17 and above.\n",
      "  and should_run_async(code)\n"
     ]
    }
   ],
   "source": [
    "for i in range(len(data)):\n",
    "    data[i] = [w for w in data[i] if w in nouns]\n",
    "for i in range(len(data_one)):\n",
    "    data_one[i] = [w for w in data_one[i] if (w in nouns or w in verbs)]\n",
    "for i in range(len(data_two)):\n",
    "    data_two[i] = [w for w in data_two[i] if (w in nouns or w in verbs)]\n",
    "for i in range(len(data_three)):\n",
    "    data_three[i] = [w for w in data_three[i] if (w in nouns or w in verbs)]"
   ]
  },
  {
   "cell_type": "code",
   "execution_count": 7,
   "id": "whole-mouse",
   "metadata": {},
   "outputs": [
    {
     "name": "stderr",
     "output_type": "stream",
     "text": [
      "/usr/local/lib/python3.9/site-packages/ipykernel/ipkernel.py:283: DeprecationWarning: `should_run_async` will not call `transform_cell` automatically in the future. Please pass the result to `transformed_cell` argument and any exception that happen during thetransform in `preprocessing_exc_tuple` in IPython 7.17 and above.\n",
      "  and should_run_async(code)\n"
     ]
    }
   ],
   "source": [
    "from sklearn.feature_extraction.text import TfidfVectorizer\n",
    "'''\n",
    "These lines combine all of the data into paragraph form so that it can be read by the tfidf vector class. They are then split back afterwards.\n",
    "'''\n",
    "data = [' '.join(w) for w in data]\n",
    "data_one = [' '.join(w) for w in data_one]\n",
    "data_two = [' '.join(w) for w in data_two]\n",
    "data_three = [' '.join(w) for w in data_three]\n",
    "loop = [data, data_one, data_two, data_three]"
   ]
  },
  {
   "cell_type": "code",
   "execution_count": 8,
   "id": "square-rough",
   "metadata": {},
   "outputs": [
    {
     "name": "stderr",
     "output_type": "stream",
     "text": [
      "/usr/local/lib/python3.9/site-packages/ipykernel/ipkernel.py:283: DeprecationWarning: `should_run_async` will not call `transform_cell` automatically in the future. Please pass the result to `transformed_cell` argument and any exception that happen during thetransform in `preprocessing_exc_tuple` in IPython 7.17 and above.\n",
      "  and should_run_async(code)\n"
     ]
    }
   ],
   "source": [
    "from sklearn.feature_extraction.text import TfidfVectorizer\n",
    "names = [\"data\", \"data_one\", \"data_two\", \"data_three\"]\n",
    "group = [data, data_one, data_two, data_three]\n",
    "d = {}\n",
    "'''\n",
    "Creates the td-idf vectors for the total (data), 2012-2015 (data_one), 2015-2017 (data_two), 2017+(data_three)\n",
    "and stores in the a dictionary (d)\n",
    "'''\n",
    "for i, j in zip(names, group):\n",
    "    vectorizer = TfidfVectorizer()\n",
    "    vectors = vectorizer.fit_transform(j)\n",
    "    feature_names = vectorizer.get_feature_names()\n",
    "    dense = vectors.todense()\n",
    "    denselist = dense.tolist()\n",
    "    df = pd.DataFrame(denselist, columns=feature_names)\n",
    "    d[i] = df"
   ]
  },
  {
   "cell_type": "code",
   "execution_count": 9,
   "id": "pointed-multiple",
   "metadata": {},
   "outputs": [
    {
     "name": "stderr",
     "output_type": "stream",
     "text": [
      "/usr/local/lib/python3.9/site-packages/ipykernel/ipkernel.py:283: DeprecationWarning: `should_run_async` will not call `transform_cell` automatically in the future. Please pass the result to `transformed_cell` argument and any exception that happen during thetransform in `preprocessing_exc_tuple` in IPython 7.17 and above.\n",
      "  and should_run_async(code)\n"
     ]
    }
   ],
   "source": [
    "''' \n",
    "Splits data again \n",
    "'''\n",
    "data = [i.split() for i in data]\n",
    "data_one = [i.split() for i in data_one]\n",
    "data_two = [i.split() for i in data_two]\n",
    "data_three = [i.split() for i in data_three]\n",
    "res = {}"
   ]
  },
  {
   "cell_type": "code",
   "execution_count": 10,
   "id": "rotary-collaboration",
   "metadata": {},
   "outputs": [
    {
     "name": "stderr",
     "output_type": "stream",
     "text": [
      "/usr/local/lib/python3.9/site-packages/ipykernel/ipkernel.py:283: DeprecationWarning: `should_run_async` will not call `transform_cell` automatically in the future. Please pass the result to `transformed_cell` argument and any exception that happen during thetransform in `preprocessing_exc_tuple` in IPython 7.17 and above.\n",
      "  and should_run_async(code)\n"
     ]
    }
   ],
   "source": [
    "#Gets the top 40 words for each of the tf-idf vectors and stores it in the dictionary (res)\n",
    "for n, i in zip(names, d):    \n",
    "    array = []\n",
    "    for j in d[i].iterrows():\n",
    "         array.append((j[1].sort_values(ascending=False)[:40].keys().tolist()))\n",
    "    res[n] = array"
   ]
  },
  {
   "cell_type": "code",
   "execution_count": 11,
   "id": "significant-first",
   "metadata": {},
   "outputs": [
    {
     "name": "stderr",
     "output_type": "stream",
     "text": [
      "/usr/local/lib/python3.9/site-packages/ipykernel/ipkernel.py:283: DeprecationWarning: `should_run_async` will not call `transform_cell` automatically in the future. Please pass the result to `transformed_cell` argument and any exception that happen during thetransform in `preprocessing_exc_tuple` in IPython 7.17 and above.\n",
      "  and should_run_async(code)\n"
     ]
    }
   ],
   "source": [
    "#Drops document if the top 40 words is in drop_words array\n",
    "data = [data[i] for i in range(len(data)) if not any (x in res['data'][i] for x in drop_words)]\n",
    "data_one = [data_one[i] for i in range(len(data_one)) if not any (x in res['data_one'][i] for x in drop_words)]\n",
    "data_two = [data_two[i] for i in range(len(data_two)) if not any (x in res['data_two'][i] for x in drop_words)]\n",
    "data_three = [data_three[i] for i in range(len(data_three)) if not any (x in res['data_three'][i] for x in drop_words)]"
   ]
  },
  {
   "cell_type": "code",
   "execution_count": 12,
   "id": "overall-basin",
   "metadata": {},
   "outputs": [
    {
     "name": "stderr",
     "output_type": "stream",
     "text": [
      "/usr/local/lib/python3.9/site-packages/ipykernel/ipkernel.py:283: DeprecationWarning: `should_run_async` will not call `transform_cell` automatically in the future. Please pass the result to `transformed_cell` argument and any exception that happen during thetransform in `preprocessing_exc_tuple` in IPython 7.17 and above.\n",
      "  and should_run_async(code)\n"
     ]
    }
   ],
   "source": [
    "#Saves data\n",
    "pd.DataFrame(res['data']).to_csv(\"total.csv\")"
   ]
  },
  {
   "cell_type": "code",
   "execution_count": 12,
   "id": "durable-monkey",
   "metadata": {},
   "outputs": [
    {
     "name": "stderr",
     "output_type": "stream",
     "text": [
      "/usr/local/lib/python3.9/site-packages/ipykernel/ipkernel.py:283: DeprecationWarning: `should_run_async` will not call `transform_cell` automatically in the future. Please pass the result to `transformed_cell` argument and any exception that happen during thetransform in `preprocessing_exc_tuple` in IPython 7.17 and above.\n",
      "  and should_run_async(code)\n"
     ]
    },
    {
     "name": "stdout",
     "output_type": "stream",
     "text": [
      "[['sunday', 'front', 'small', 'crowd', 'shopping', 'south', 'central', 'four', 'young', 'goggles', 'race', 'front', 'banner', 'drone_racing_league', 'bell', 'following', 'logic', 'element', 'weight', 'small', 'four', 'miniature', 'front', 'facing', 'camera', 'two', 'flight', 'appearance', 'buzz', 'sound', 'somewhere', 'bumblebee', 'dentist', 'drill', 'environment', 'commerce', 'hawthorne', 'plaza', 'time', 'given', 'large', 'neon', 'cut', 'gloom', 'racing', 'gate', 'course', 'alarm', 'rose', 'forward', 'speed', 'escalator', 'second', 'floor', 'checkpoint', 'vertical', 'hairpin', 'turning', 'racing', 'back', 'past', 'master', 'curtain', 'safety', 'netting', 'crowd', 'see', 'straight', 'corridor', 'audience', 'attention', 'rounding', 'final', 'turn', 'two', 'floor', 'series', 'announcer', 'action', 'system', 'pair', 'aircraft', 'final', 'gate', 'victor', 'finish', 'arm', 'length', 'rival', 'minute', 'drone', 'hit', 'netting', 'audience', 'name', 'fist', 'air', 'man', 'blind', 'world', 'consciousness', 'small', 'floor', 'left', 'hour', 'perimeter', 'course', 'nicholas', 'executive', 'drone_racing_league', 'harvard', 'south', 'park', 'role', 'first', 'commercial', 'potential', 'working', 'military', 'distributor', 'selling', 'military', 'stint', 'management', 'mudder', 'profit', 'obstacle', 'course', 'company', 'taste', 'spectacle', 'course', 'prop', 'ersatz', 'reward', 'aggressiveness', 'league', 'participant', 'push', 'aircraft', 'limit', 'tell', 'crash', 'racing', 'enough', 'league', 'basketball', 'growing', 'success', 'potential', 'kind', 'racing', 'fan', 'video_game', 'moment', 'ancient', 'top', 'cash', 'last_year', 'event', 'drew', 'seeking', 'tap', 'market', 'first', 'event', 'miami', 'stadium', 'january', 'novelty', 'part', 'appeal', 'course', 'lot', 'free', 'time', 'hand', 'habit', 'time', 'draw', 'tour', 'scouting', 'system', 'stockholm', 'amusement', 'park', 'japan', 'raising', 'generation', 'three', 'way', 'league', 'money', 'selling', 'retailing', 'merchandise', 'last', 'push', 'general', 'public', 'speed', 'lightweight', 'market', 'million', 'consumer', 'possibility', 'sunday', 'park', 'hit', 'racing', 'drone', 'language', 'liability', 'course', 'better', 'two_days', 'east', 'meet', 'amateur', 'pilot', 'drone', 'air_traffic', 'corridor', 'passenger_jet', 'manhunt', 'operator', 'accident', 'incident', 'aviation', 'miss', 'power', 'past_two', 'california', 'first', 'race', 'left', 'audience', 'black', 'curtain', 'drone', 'lounge', 'saw', 'devolution', 'masculine', 'stereotype', 'sweat', 'jet', 'fuel', 'cocktail', 'top_gun', 'funk', 'tabletop', 'attendance', 'male', 'racing', 'front', 'payment', 'travel', 'lodging', 'trash', 'first', 'event', 'miami', 'island', 'building', 'contractor', 'manner', 'success', 'ability', 'handle', 'nerve', 'deep', 'race', 'plenty', 'better', 'handle', 'pressure', 'strategy', 'grab', 'lead', 'let', 'like', 'sprinter', 'lot', 'training', 'session', 'might', 'battery', 'good', 'start', 'gate', 'get', 'front', 'pressure', 'worry', 'line', 'dusseldorf', 'approach', 'car', 'racing', 'buff', 'drone_racing', 'video', 'mastery', 'key', 'felt', 'study', 'hour', 'racing', 'reading', 'still', 'set', 'racing', 'handle', 'axis', 'axis', 'first_person_view', 'miss', 'gravity', 'motorcycle', 'racing', 'skateboarding', 'experience', 'control', 'video', 'talk', 'one', 'machine', 'true', 'key', 'asset', 'drone', 'pilot', 'ability', 'distance', 'goggles', 'video_feed', 'trick', 'drone', 'separate', 'entity', 'subject', 'conrad', 'miller', 'former', 'air_force', 'boise', 'idaho', 'sensation', 'buckle', 'match', 'second', 'race', 'couple', 'minute', 'charge', 'heat', 'tell', 'winning', 'third', 'race', 'novelty', 'given', 'way', 'boring', 'floor', 'drone_racing', 'valley', 'formula', 'one', 'doll', 'drone', 'manufacturer', 'one', 'standing', 'area', 'doll', 'cusp', 'turning', 'hobby', 'profession', 'event', 'watch', 'spectator', 'sport', 'need', 'post', 'production', 'work', 'drone_racing', 'editing', 'course', 'design', 'drag', 'feeding', 'expert', 'technical', 'see', 'inside', 'action', 'winner', 'heat', 'minute', 'drone', 'camera', 'cut', 'motion', 'soundtrack', 'race', 'product', 'league', 'world', 'best', 'true', 'one_thing', 'quality', 'open', 'competition', 'making', 'event', 'test', 'pilot', 'skill', 'doll', 'meet', 'first', 'world', 'drone', 'rival', 'event', 'day', 'dubai', 'prince', 'given', 'freedom', 'gear', 'event', 'open', 'race', 'luke', 'bannister', 'unknown', 'year_old', 'somerset', 'england', 'team', 'quarter', 'million', 'real', 'race', 'doll', 'like', 'game', 'show', 'brand', 'management', 'exclusive', 'athlete', 'field', 'better', 'familiar', 'america', 'primary', 'stephen', 'ross', 'billionaire', 'owner', 'national_football_league', 'miami', 'ross', 'variety', 'venture_capital', 'video_game', 'despite', 'zero', 'international', 'appeal', 'spectacle', 'subtlety', 'violence', 'strategy', 'camera', 'league', 'television', 'advertising', 'stadium', 'experience', 'average', 'game', 'minute', 'field', 'action', 'three', 'hour', 'air', 'approach', 'felt', 'drone_racing', 'event', 'dissatisfaction', 'half', 'picture', 'experience', 'spectator', 'thrill', 'wear', 'goggles', 'classic', 'work', 'nature', 'writing', 'peregrine', 'baker', 'peregrine', 'falcon', 'season', 'falcon', 'way', 'british', 'countryside', 'baker', 'foot', 'diet', 'book', 'climax', 'mind', 'bird', 'thousand', 'foot', 'view', 'predator', 'saw', 'round', 'gun', 'sight', 'eye', 'deep', 'fovea', 'flash', 'wing', 'aim', 'flight', 'drone', 'point_view', 'bird', 'flea', 'video', 'quality', 'responsiveness', 'broadcast', 'standard', 'definition', 'analogue', 'selector', 'goggles', 'let', 'switch', 'pilot', 'path', 'breaker', 'familiar', 'klaxon', 'race', 'true', 'word', 'gate', 'drone', 'escalator', 'checkpoint', 'cut', 'stomach', 'fell', 'nail', 'vertical', 'hairpin', 'racing', 'back', 'corridor', 'saw', 'hand', 'railing', 'front', 'craft', 'sharp', 'corner', 'pilot', 'miller', 'gate', 'final', 'turn', 'floor', 'rest', 'camera', 'facing', 'degree', 'angle', 'spray', 'pillar', 'fly', 'past', 'course', 'vantage_point', 'think', 'saw', 'future', 'racing', 'stephen', 'music', 'free', 'business', 'book', 'year']]\n",
      "This simulation is current processing 5 topics\n",
      "This simulation is current processing 6 topics\n",
      "This simulation is current processing 7 topics\n",
      "This simulation is current processing 8 topics\n",
      "This simulation is current processing 9 topics\n",
      "This simulation is current processing 10 topics\n",
      "This simulation is current processing 11 topics\n",
      "This simulation is current processing 12 topics\n",
      "This simulation is current processing 13 topics\n",
      "This simulation is current processing 14 topics\n",
      "This simulation is current processing 15 topics\n",
      "This simulation is current processing 16 topics\n",
      "This simulation is current processing 17 topics\n",
      "This simulation is current processing 18 topics\n",
      "This simulation is current processing 19 topics\n",
      "This simulation is current processing 20 topics\n",
      "This simulation is current processing 21 topics\n",
      "This simulation is current processing 22 topics\n",
      "This simulation is current processing 23 topics\n",
      "This simulation is current processing 24 topics\n"
     ]
    },
    {
     "data": {
      "image/png": "[encoded data removed]",
      "text/plain": [
       "<Figure size 432x288 with 1 Axes>"
      ]
     },
     "metadata": {
      "needs_background": "light"
     },
     "output_type": "display_data"
    },
    {
     "name": "stdout",
     "output_type": "stream",
     "text": [
      "Num Topics = 5  has Coherence Value of 0.4516\n",
      "Num Topics = 6  has Coherence Value of 0.4376\n",
      "Num Topics = 7  has Coherence Value of 0.4773\n",
      "Num Topics = 8  has Coherence Value of 0.3895\n",
      "Num Topics = 9  has Coherence Value of 0.3924\n",
      "Num Topics = 10  has Coherence Value of 0.3736\n",
      "Num Topics = 11  has Coherence Value of 0.3947\n",
      "Num Topics = 12  has Coherence Value of 0.4224\n",
      "Num Topics = 13  has Coherence Value of 0.4034\n",
      "Num Topics = 14  has Coherence Value of 0.3922\n",
      "Num Topics = 15  has Coherence Value of 0.4146\n",
      "Num Topics = 16  has Coherence Value of 0.4015\n",
      "Num Topics = 17  has Coherence Value of 0.3854\n",
      "Num Topics = 18  has Coherence Value of 0.3824\n",
      "Num Topics = 19  has Coherence Value of 0.3616\n",
      "Num Topics = 20  has Coherence Value of 0.3919\n",
      "Num Topics = 21  has Coherence Value of 0.3565\n",
      "Num Topics = 22  has Coherence Value of 0.3706\n",
      "Num Topics = 23  has Coherence Value of 0.3547\n",
      "Num Topics = 24  has Coherence Value of 0.3712\n",
      "now creating file topic_terms5_2013-2015.csv\n",
      "now creating file topic_terms6_2013-2015.csv\n",
      "now creating file topic_terms7_2013-2015.csv\n",
      "now creating file topic_terms8_2013-2015.csv\n",
      "now creating file topic_terms9_2013-2015.csv\n",
      "now creating file topic_terms10_2013-2015.csv\n",
      "now creating file topic_terms11_2013-2015.csv\n",
      "now creating file topic_terms12_2013-2015.csv\n",
      "now creating file topic_terms13_2013-2015.csv\n",
      "now creating file topic_terms14_2013-2015.csv\n",
      "now creating file topic_terms15_2013-2015.csv\n",
      "now creating file topic_terms16_2013-2015.csv\n",
      "now creating file topic_terms17_2013-2015.csv\n",
      "now creating file topic_terms18_2013-2015.csv\n",
      "now creating file topic_terms19_2013-2015.csv\n",
      "now creating file topic_terms20_2013-2015.csv\n",
      "now creating file topic_terms21_2013-2015.csv\n",
      "now creating file topic_terms22_2013-2015.csv\n",
      "now creating file topic_terms23_2013-2015.csv\n"
     ]
    }
   ],
   "source": [
    "\n",
    "#create bigrams and trigrams\n",
    "bigram         = gensim.models.Phrases(data, min_count=5, threshold=10)\n",
    "trigram        = gensim.models.Phrases(bigram[data], threshold=10)\n",
    "bigram_mod     = gensim.models.phrases.Phraser(bigram)\n",
    "trigram_mod    = gensim.models.phrases.Phraser(trigram)\n",
    "\n",
    "def make_bigrams(texts):\n",
    "    return [bigram_mod[doc] for doc in texts]\n",
    "def make_trigrams(texts):\n",
    "    return [trigram_mod[bigram_mod[doc]] for doc in texts]\n",
    "\n",
    "data_bigrams    = make_bigrams(data)\n",
    "data_trigrams   = make_trigrams(data)\n",
    "\n",
    "data_one_trigrams   = make_trigrams(data_one)\n",
    "data_two_trigrams   = make_trigrams(data_two)\n",
    "data_three_trigrams = make_trigrams(data_three)\n",
    "\n",
    "#lemmatize words\n",
    "lemmatizer = WordNetLemmatizer()\n",
    "data_lemmatized = [[lemmatizer.lemmatize(token) for token in doc] for doc in data_trigrams]\n",
    "\n",
    "print(data_lemmatized[99:100])\n",
    "\n",
    "data_one_lemmatized   = [[lemmatizer.lemmatize(token) for token in doc] for doc in data_one_trigrams]\n",
    "data_two_lemmatized   = [[lemmatizer.lemmatize(token) for token in doc] for doc in data_two_trigrams]\n",
    "data_three_lemmatized = [[lemmatizer.lemmatize(token) for token in doc] for doc in data_three_trigrams]\n",
    "\n",
    "data_lemmatized = data_two_lemmatized\n",
    "\n",
    "group = \"_2013-2015\"\n",
    "\n",
    "id2word = gensim.corpora.Dictionary(data_lemmatized)\n",
    "\n",
    "id2word.filter_extremes(no_below=20, no_above=0.75)\n",
    "\n",
    "texts = data_lemmatized\n",
    "corpus = [id2word.doc2bow(doc) for doc in texts]\n",
    "\n",
    "def compute_coherence_values(dictionary, corpus, texts, limit, start=5, step=1):\n",
    "    coherence_values = []\n",
    "    model_list = []\n",
    "    for num_topics in range(start, limit, step):\n",
    "        print(\"This simulation is current processing\", num_topics, \"topics\")\n",
    "        model = LdaMulticore(corpus=corpus,\n",
    "                        id2word=id2word,\n",
    "                        num_topics=num_topics, \n",
    "                        random_state=100,\n",
    "                        chunksize=5,\n",
    "                        passes=20,\n",
    "                        per_word_topics=True,\n",
    "                        workers = 5)\n",
    "\n",
    "        model_list.append(model)\n",
    "        coherencemodel = CoherenceModel(model=model, texts=texts, dictionary=id2word, coherence='c_v')\n",
    "        coherence_values.append(coherencemodel.get_coherence()) \n",
    "\n",
    "    return model_list, coherence_values\n",
    "\n",
    "model_list, coherence_values = compute_coherence_values(dictionary=id2word, corpus=corpus, texts=data_lemmatized, start=5, limit=25, step=1)\n",
    "\n",
    "#PLot coherence values \n",
    "limit=25; start=5; step=1;\n",
    "x = range(start, limit, step)\n",
    "plt.plot(x, coherence_values)\n",
    "plt.xlabel(\"Num Topics\")\n",
    "plt.ylabel(\"Coherence score\")\n",
    "plt.legend((\"coherence_values\"), loc='best')\n",
    "plt.show()\n",
    "\n",
    "#Print the coherence scores\n",
    "for m, cv in zip(x, coherence_values):\n",
    "    print(\"Num Topics =\", m, \" has Coherence Value of\", round(cv, 4))\n",
    "\n",
    "\n",
    "for x in range(5, 24):\n",
    "    \n",
    "    optimal_model = model_list[x-5]\n",
    "\n",
    "    fn = \"topic_terms\" + str(x) + group + \".csv\"\n",
    "    print((\"now creating file \") + fn)\n",
    "    if (os.path.isfile(fn)):\n",
    "        m = \"a\"\n",
    "    else:\n",
    "        m = \"w\"\n",
    "    \n",
    "    num_topics=x\n",
    "    # save topic, term, prob data in the file\n",
    "    with open(fn, m, encoding=\"utf8\", newline='') as csvfile:\n",
    "        fieldnames = [\"topic_id\", \"term\", \"prob\"]\n",
    "        writer = csv.DictWriter(csvfile, fieldnames=fieldnames)\n",
    "        if (m == \"w\"):\n",
    "            writer.writeheader()\n",
    "    \n",
    "        for topic_id in range(num_topics):\n",
    "            term_probs = optimal_model.show_topic(topic_id, topn=35)\n",
    "            for term, prob in term_probs:\n",
    "                row = {}\n",
    "                row['topic_id'] = topic_id\n",
    "                row['prob'] = prob\n",
    "                row['term'] = term\n",
    "                writer.writerow(row)\n",
    "topic_over_topic, annotation = optimal_model.diff(optimal_model, annotation=True)\n",
    "\n",
    "topic_over_topic_speicherpfad = \"topic_over_topic_similarity.csv\"\n",
    "pd.DataFrame(topic_over_topic).to_csv(topic_over_topic_speicherpfad, sep=';')"
   ]
  },
  {
   "cell_type": "code",
   "execution_count": null,
   "id": "reserved-inspection",
   "metadata": {},
   "outputs": [],
   "source": []
  },
  {
   "cell_type": "code",
   "execution_count": null,
   "id": "coated-skill",
   "metadata": {},
   "outputs": [],
   "source": []
  },
  {
   "cell_type": "code",
   "execution_count": null,
   "id": "convertible-expense",
   "metadata": {},
   "outputs": [],
   "source": []
  }
 ],
 "metadata": {
  "kernelspec": {
   "display_name": "Python 3",
   "language": "python",
   "name": "python3"
  },
  "language_info": {
   "codemirror_mode": {
    "name": "ipython",
    "version": 3
   },
   "file_extension": ".py",
   "mimetype": "text/x-python",
   "name": "python",
   "nbconvert_exporter": "python",
   "pygments_lexer": "ipython3",
   "version": "3.9.2"
  }
 },
 "nbformat": 4,
 "nbformat_minor": 5
}
