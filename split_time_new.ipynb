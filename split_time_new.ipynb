{
 "cells": [
  {
   "cell_type": "code",
   "execution_count": 1,
   "id": "informed-equipment",
   "metadata": {},
   "outputs": [],
   "source": [
    "import pandas as pd\n",
    "import os"
   ]
  },
  {
   "cell_type": "code",
   "execution_count": 2,
   "id": "posted-concentrate",
   "metadata": {},
   "outputs": [],
   "source": [
    "import glob\n",
    "\n",
    "def list_files(dir):                                                                                                  \n",
    "    r = []                                                                                                            \n",
    "    subdirs = [x[0] for x in os.walk(dir)]                                                                            \n",
    "    for subdir in subdirs:                                                                                            \n",
    "        files = os.walk(subdir).__next__()[2]                                                                             \n",
    "        if (len(files) > 0):                                                                                          \n",
    "            for file in files:\n",
    "                if \"Bibliography\" in file:\n",
    "                    continue\n",
    "                if(\"doclist\" in file):\n",
    "                    continue\n",
    "                if(\".docx\" in file):\n",
    "                    r.append(os.path.join(subdir, file))                                                                         \n",
    "    return r                                                                                                          \n",
    "\n"
   ]
  },
  {
   "cell_type": "code",
   "execution_count": 3,
   "id": "experienced-mitchell",
   "metadata": {},
   "outputs": [],
   "source": [
    "file_list = list_files(\"/Users/Mihir/Downloads/Sample/\")"
   ]
  },
  {
   "cell_type": "code",
   "execution_count": 4,
   "id": "baking-debate",
   "metadata": {},
   "outputs": [],
   "source": [
    "import docx\n",
    "import pandas as pd\n",
    "words = []\n",
    "#adding words to files list\n",
    "for i in file_list:\n",
    "    doc = docx.Document(i)\n",
    "    words.append([p.text for p in doc.paragraphs])\n",
    "xml = \"/Users/Mihir/Downloads/Sample/wsj.xlsx\"\n",
    "\n",
    "#making each word in paragraph formation and removing all words that come before \"Body\", which tells us when the paragraph begins\n",
    "for i in range(len(words)):\n",
    "    words[i] = ' '.join(words[i])\n",
    "    words[i] = words[i][words[0].index(\"Body\"):]"
   ]
  },
  {
   "cell_type": "code",
   "execution_count": 5,
   "id": "proprietary-composer",
   "metadata": {},
   "outputs": [],
   "source": [
    "from dateutil.parser import parse\n",
    "from pandas import DataFrame\n",
    "import re\n",
    "one = []\n",
    "two = [] \n",
    "#words to drop \n",
    "drop_words= {'military', 'strike', 'attack', 'syria', 'iran', 'pakistan'}\n",
    "three = []\n",
    "#split up files between dates\n",
    "for i in words:\n",
    "    date =parse(i[i.index(\"Load-Date:\") + 11:i.index(\"End of Document\")])\n",
    "    if(date.year<=2012):\n",
    "        one.append(i)\n",
    "        for j in drop_words:\n",
    "            if(j in i):\n",
    "                one.pop()\n",
    "                break\n",
    "    elif(date.year<=2015):\n",
    "        two.append(i)\n",
    "        for j in drop_words:\n",
    "            if(j in i):\n",
    "                two.pop()\n",
    "                break\n",
    "    else:\n",
    "        three.append(i)\n",
    "        for j in drop_words:\n",
    "            if(j in i):\n",
    "                three.pop()\n",
    "                break\n",
    "\n"
   ]
  },
  {
   "cell_type": "code",
   "execution_count": null,
   "id": "complete-berkeley",
   "metadata": {},
   "outputs": [],
   "source": []
  },
  {
   "cell_type": "code",
   "execution_count": 10,
   "id": "impossible-price",
   "metadata": {},
   "outputs": [
    {
     "name": "stdout",
     "output_type": "stream",
     "text": [
      "84\n"
     ]
    }
   ],
   "source": [
    "import numpy\n",
    "import math\n",
    "from datetime import datetime\n",
    "df = pd.read_excel('/Users/Mihir/Downloads/Sample/wsj.xlsx', engine='openpyxl') \n",
    "t = df['Content'].tolist()\n",
    "df['Content'] = df.Content.astype(str)\n",
    "print(len(one))\n",
    "for x in df.iterrows():\n",
    "    if(pd.isnull(x)):\n",
    "        continue\n",
    "    date =pd.Timestamp(x[1]['date'])\n",
    "    if(date.year<=2012):\n",
    "        one.append(x[1]['Content'])\n",
    "        for j in drop_words:\n",
    "            if(j in x[1]['Content']):\n",
    "                one.pop()\n",
    "                break\n",
    "    elif(date.year<=2015):\n",
    "        two.append(x[1]['Content'])\n",
    "        for j in drop_words:\n",
    "            if(j in x[1]['Content']):\n",
    "                two.pop()\n",
    "                break\n",
    "    else:\n",
    "        three.append(x[1]['Content'])\n",
    "        for j in drop_words:\n",
    "            if(j in x[1]['Content']):\n",
    "                three.pop()\n",
    "                break\n",
    "        "
   ]
  },
  {
   "cell_type": "code",
   "execution_count": null,
   "id": "figured-draft",
   "metadata": {},
   "outputs": [],
   "source": []
  },
  {
   "cell_type": "code",
   "execution_count": 14,
   "id": "polar-selling",
   "metadata": {},
   "outputs": [],
   "source": [
    "#convert each of the date arrays into data frames\n",
    "df_one = DataFrame(one, columns = ['text'])\n",
    "df_two = DataFrame(two, columns = ['text'])\n",
    "df_three = DataFrame(three, columns = ['text'])\n",
    "df_one['processed'] = df_one['text'].map(lambda x: re.sub('[,\\.!?]', '', x))\n",
    "# Convert the titles to lowercase\n",
    "df_one['processed'] = df_one['text'].map(lambda x: x.lower())\n",
    "\n",
    "df_two['processed'] = df_two['text'].map(lambda x: re.sub('[,\\.!?]', '', x))\n",
    "# Convert the titles to lowercase\n",
    "df_two['processed'] = df_two['text'].map(lambda x: x.lower())\n",
    "\n",
    "df_three['processed'] = df_three['text'].map(lambda x: re.sub('[,\\.!?]', '', x))\n",
    "# Convert the titles to lowercase\n",
    "df_three['processed'] = df_three['text'].map(lambda x: x.lower())"
   ]
  },
  {
   "cell_type": "code",
   "execution_count": 15,
   "id": "major-squad",
   "metadata": {},
   "outputs": [
    {
     "name": "stdout",
     "output_type": "stream",
     "text": [
      "['body', 'the', 'feature', 'directing', 'debut', 'of', 'the', 'gifted', 'actor', 'peter', 'riegert', 'king', 'of', 'the', 'corner', 'comes', 'from', 'fiction', 'collection', 'titled', 'bad', 'jews', 'and', 'other', 'stories', 'by', 'gerald', 'shapiro', 'something', 'about']\n"
     ]
    }
   ],
   "source": [
    "import gensim\n",
    "from gensim.utils import simple_preprocess\n",
    "#remove the punctuations and preprocess words \n",
    "def sent_to_words(sentences):\n",
    "    for sentence in sentences:\n",
    "        yield(gensim.utils.simple_preprocess(str(sentence), deacc=True))  # deacc=True removes punctuations\n",
    "\n",
    "data = df_one.processed.values.tolist()\n",
    "data_words = list(sent_to_words(data))\n",
    "print(data_words[:1][0][:30])\n"
   ]
  },
  {
   "cell_type": "code",
   "execution_count": null,
   "id": "supposed-letter",
   "metadata": {},
   "outputs": [],
   "source": []
  },
  {
   "cell_type": "code",
   "execution_count": 16,
   "id": "immediate-series",
   "metadata": {},
   "outputs": [],
   "source": [
    "#convert to bigram/trigram model\n",
    "bigram = gensim.models.Phrases(data_words, min_count=5, threshold=100) # higher threshold fewer phrases.\n",
    "trigram = gensim.models.Phrases(bigram[data_words], threshold=100)\n",
    "# Faster way to get a sentence clubbed as a trigram/bigram\n",
    "bigram_mod = gensim.models.phrases.Phraser(bigram)\n",
    "trigram_mod = gensim.models.phrases.Phraser(trigram)"
   ]
  },
  {
   "cell_type": "code",
   "execution_count": 17,
   "id": "greatest-omaha",
   "metadata": {},
   "outputs": [],
   "source": [
    "from nltk.corpus import stopwords\n",
    "stop_words = stopwords.words('english')\n",
    "stop_words.extend(['from', 'subject', 're', 'edu', 'use'])\n",
    "# Define functions for stopwords, bigrams, trigrams and lemmatization\n",
    "def remove_stopwords(texts):\n",
    "    return [[word for word in simple_preprocess(str(doc)) if word not in stop_words] for doc in texts]\n",
    "def make_bigrams(texts):\n",
    "    return [bigram_mod[doc] for doc in texts]\n",
    "def make_trigrams(texts):\n",
    "    return [trigram_mod[bigram_mod[doc]] for doc in texts]\n",
    "def lemmatization(texts, allowed_postags=['NOUN', 'ADJ', 'VERB', 'ADV']):\n",
    "    \"\"\"https://spacy.io/api/annotation\"\"\"\n",
    "    texts_out = []\n",
    "    for sent in texts:\n",
    "        doc = \" \".join(sent)\n",
    "        texts_out.append([token.lemma_ for token in doc])\n",
    "    return texts_out"
   ]
  },
  {
   "cell_type": "code",
   "execution_count": null,
   "id": "oriental-accreditation",
   "metadata": {},
   "outputs": [],
   "source": []
  },
  {
   "cell_type": "code",
   "execution_count": 18,
   "id": "expressed-blink",
   "metadata": {},
   "outputs": [],
   "source": [
    "import spacy\n",
    "# Remove Stop Words\n",
    "data_words_nostops = remove_stopwords(data_words)\n",
    "# Form Bigrams\n",
    "data_words_bigrams = make_trigrams(data_words_nostops)\n",
    "import spacy\n",
    "# Remove Stop Words\n",
    "data_words_nostops = remove_stopwords(data_words)\n",
    "# Form Bigrams\n",
    "data_words_bigrams = make_trigrams(data_words_nostops)\n",
    "# Initialize spacy 'en' model, keeping only tagger component (for efficiency)"
   ]
  },
  {
   "cell_type": "code",
   "execution_count": 19,
   "id": "honey-trader",
   "metadata": {},
   "outputs": [],
   "source": [
    "import nltk\n",
    "words = []\n",
    "#Lemmatize words and preprocess parargraphs for lda analysis\n",
    "#\n",
    "for i in range(len(data_words_bigrams)):\n",
    "    wn = nltk.WordNetLemmatizer()\n",
    "    words.append([wn.lemmatize(word) for word in data_words_bigrams[i]])"
   ]
  },
  {
   "cell_type": "code",
   "execution_count": 20,
   "id": "stretch-employee",
   "metadata": {},
   "outputs": [],
   "source": [
    "import re\n",
    "import string\n",
    "import nltk\n",
    "stopwords = nltk.corpus.stopwords.words('english')\n",
    "from nltk.stem.porter import PorterStemmer"
   ]
  },
  {
   "cell_type": "code",
   "execution_count": 21,
   "id": "moderate-excitement",
   "metadata": {},
   "outputs": [],
   "source": [
    "from nltk.corpus import wordnet as wn\n",
    "#define set of noun anv verbs\n",
    "nouns = {x.name().split('.', 1)[0] for x in wn.all_synsets('n')}\n",
    "verbs = {x.name().split('.', 1)[0] for x in wn.all_synsets('v')}"
   ]
  },
  {
   "cell_type": "code",
   "execution_count": 22,
   "id": "played-preference",
   "metadata": {},
   "outputs": [],
   "source": [
    "from nltk.corpus import wordnet\n",
    "dictionary = {}\n",
    "#create dictionary based on how many times a word appears in each of the files\n",
    "for i in range(len(words)):\n",
    "    s = set(words[i])\n",
    "    for w in s:\n",
    "        if(w in dictionary):\n",
    "            dictionary[w]+=1\n",
    "        else:\n",
    "            dictionary[w] = 0\n",
    "#filteer out words than are less than two letters long, appear in 85% of files, and by part of speach\n",
    "for i in range(len(words)):\n",
    "    temp = []\n",
    "    for w in words[i]:\n",
    "        temp.append(w)\n",
    "    for w in words[i]:\n",
    "        if(dictionary[w]>=(len(words) * 0.85) or len(w)<=2 or (w not in nouns) ):\n",
    "            temp.remove(w)\n",
    "    words[i] = temp\n",
    "temp = []"
   ]
  },
  {
   "cell_type": "code",
   "execution_count": null,
   "id": "technological-tenant",
   "metadata": {},
   "outputs": [],
   "source": []
  },
  {
   "cell_type": "code",
   "execution_count": 23,
   "id": "immediate-equality",
   "metadata": {},
   "outputs": [],
   "source": [
    "import gensim\n",
    "from gensim.utils import simple_preprocess\n",
    "import gensim.corpora as corpora\n",
    "#convert word to corpus to be read by LDA module\n",
    "id2word = corpora.Dictionary(words)\n",
    "texts = words\n",
    "corpus = [id2word.doc2bow(text) for text in words]"
   ]
  },
  {
   "cell_type": "code",
   "execution_count": null,
   "id": "fabulous-startup",
   "metadata": {},
   "outputs": [],
   "source": []
  },
  {
   "cell_type": "code",
   "execution_count": 24,
   "id": "oriented-improvement",
   "metadata": {},
   "outputs": [
    {
     "name": "stdout",
     "output_type": "stream",
     "text": [
      "[(0,\n",
      "  '0.018*\"drone\" + 0.008*\"like\" + 0.006*\"song\" + 0.005*\"aircraft\" + '\n",
      "  '0.005*\"year\" + 0.004*\"system\" + 0.004*\"official\" + 0.004*\"music\" + '\n",
      "  '0.004*\"one\" + 0.004*\"ground\"'),\n",
      " (1,\n",
      "  '0.010*\"drone\" + 0.007*\"air_force\" + 0.006*\"april\" + 0.005*\"year\" + '\n",
      "  '0.005*\"like\" + 0.005*\"one\" + 0.005*\"rodeo\" + 0.005*\"pilot\" + 0.004*\"air\" + '\n",
      "  '0.004*\"aircraft\"'),\n",
      " (2,\n",
      "  '0.031*\"drone\" + 0.007*\"aircraft\" + 0.006*\"say\" + 0.006*\"june\" + 0.005*\"one\" '\n",
      "  '+ 0.004*\"year\" + 0.004*\"system\" + 0.004*\"time\" + 0.004*\"company\" + '\n",
      "  '0.004*\"section\"'),\n",
      " (3,\n",
      "  '0.016*\"drone\" + 0.006*\"privacy\" + 0.005*\"time\" + 0.005*\"government\" + '\n",
      "  '0.005*\"official\" + 0.005*\"surveillance\" + 0.004*\"one\" + 0.004*\"agency\" + '\n",
      "  '0.004*\"like\" + 0.004*\"technology\"'),\n",
      " (4,\n",
      "  '0.021*\"drone\" + 0.009*\"aircraft\" + 0.007*\"iraq\" + 0.007*\"official\" + '\n",
      "  '0.006*\"air_force\" + 0.006*\"section\" + 0.006*\"say\" + 0.006*\"plane\" + '\n",
      "  '0.005*\"department\" + 0.005*\"march\"'),\n",
      " (5,\n",
      "  '0.023*\"drone\" + 0.008*\"aircraft\" + 0.005*\"system\" + 0.005*\"plane\" + '\n",
      "  '0.005*\"one\" + 0.005*\"border\" + 0.005*\"official\" + 0.004*\"section\" + '\n",
      "  '0.004*\"industry\" + 0.004*\"united_states\"'),\n",
      " (6,\n",
      "  '0.013*\"drone\" + 0.007*\"border\" + 0.006*\"year\" + 0.005*\"one\" + 0.005*\"two\" + '\n",
      "  '0.005*\"song\" + 0.005*\"official\" + 0.005*\"friday\" + 0.004*\"government\" + '\n",
      "  '0.004*\"time\"')]\n"
     ]
    }
   ],
   "source": [
    "from pprint import pprint\n",
    "# number of topics\n",
    "num_topics = 7\n",
    "# Build LDA model\n",
    "lda_model = gensim.models.LdaMulticore(corpus=corpus,\n",
    "                                       id2word=id2word,\n",
    "                                       num_topics=num_topics)\n",
    "# Print the Keyword in the 10 topics\n",
    "pprint(lda_model.print_topics())\n",
    "doc_lda = lda_model[corpus]"
   ]
  },
  {
   "cell_type": "code",
   "execution_count": 25,
   "id": "reverse-quilt",
   "metadata": {},
   "outputs": [
    {
     "data": {
      "text/html": [
       "\n",
       "<link rel=\"stylesheet\" type=\"text/css\" href=\"https://cdn.rawgit.com/bmabey/pyLDAvis/files/ldavis.v1.0.0.css\">\n",
       "\n",
       "\n",
       "<div id=\"ldavis_el3962961761192645170548838\"></div>\n",
       "<script type=\"text/javascript\">\n",
       "\n",
       "var ldavis_el3962961761192645170548838_data = {\"mdsDat\": {\"x\": [-0.003718390285796669, -0.028973611601943165, -0.025771731580844916, -0.015934143337890054, 0.01830348539796292, 0.024383569023356328, 0.03171082238515559], \"y\": [0.023330774903630214, 0.015203150284818235, -0.04029659695182006, 0.012281285175495515, 0.002922221749201189, -0.007800313010453123, -0.005640522150871838], \"topics\": [1, 2, 3, 4, 5, 6, 7], \"cluster\": [1, 1, 1, 1, 1, 1, 1], \"Freq\": [23.120043252728248, 17.546066287271803, 17.01453501368066, 14.596702549808446, 11.528204005385202, 9.852067739886916, 6.342381151238725]}, \"tinfo\": {\"Term\": [\"air_force\", \"drone\", \"like\", \"april\", \"song\", \"rodeo\", \"year\", \"pilot\", \"iraq\", \"border\", \"aircraft\", \"june\", \"air\", \"bluegrass\", \"march\", \"music\", \"helicopter\", \"part\", \"plane\", \"say\", \"august\", \"army\", \"friday\", \"region\", \"two\", \"contract\", \"investigation\", \"baghdad\", \"tax\", \"inspector\", \"tax\", \"carter\", \"mitchell\", \"network\", \"integration\", \"retirement\", \"integrator\", \"malfunction\", \"counter\", \"concept\", \"supply\", \"benefit\", \"advocate\", \"sensitivity\", \"bidder\", \"cannon\", \"quarter\", \"animal\", \"pull\", \"bee\", \"belonging\", \"progress\", \"ricardo\", \"nancy\", \"pea\", \"armor\", \"package\", \"energy\", \"horney\", \"robotics\", \"mexican\", \"design\", \"collective\", \"privacy\", \"army\", \"computer\", \"transportation\", \"spending\", \"brain\", \"study\", \"team\", \"individual\", \"government\", \"may\", \"sound\", \"airspace\", \"technology\", \"surveillance\", \"agency\", \"law\", \"house\", \"time\", \"vehicle\", \"california\", \"member\", \"drone\", \"public\", \"law_enforcement\", \"like\", \"point\", \"official\", \"american\", \"industry\", \"one\", \"music\", \"system\", \"defense\", \"year\", \"aircraft\", \"song\", \"department\", \"company\", \"border\", \"pelham\", \"baghdad\", \"newton\", \"accomplishment\", \"recognition\", \"outline\", \"sight\", \"jamming\", \"affiliate\", \"blow\", \"cleric\", \"chemical\", \"prototype\", \"inspector\", \"malice\", \"iraqi\", \"aura\", \"box\", \"memo\", \"farce\", \"col\", \"march\", \"iraq\", \"cutter\", \"humility\", \"united_nations\", \"reporter\", \"hijack\", \"inability\", \"wright\", \"resolution\", \"justice\", \"weapon\", \"report\", \"technical\", \"department\", \"air_force\", \"force\", \"plane\", \"troop\", \"aircraft\", \"say\", \"section\", \"day\", \"drone\", \"official\", \"yesterday\", \"vehicle\", \"issue\", \"october\", \"border\", \"foot\", \"defense\", \"bomb\", \"president\", \"system\", \"one\", \"pilot\", \"agency\", \"time\", \"two\", \"airspace\", \"surveillance\", \"year\", \"province\", \"nan\", \"sadat\", \"hancock\", \"democracy\", \"helicopter\", \"rebel\", \"pad\", \"questioning\", \"helen\", \"torture\", \"africa\", \"criterion\", \"determination\", \"gunman\", \"ramadan\", \"vegetable\", \"kandahar\", \"passenger\", \"father\", \"chopper\", \"rogue\", \"metropolitan\", \"syracuse\", \"front\", \"plurality\", \"caption\", \"outside\", \"export\", \"poll\", \"france\", \"corner\", \"august\", \"june\", \"leo\", \"drone\", \"market\", \"say\", \"briefing\", \"opinion\", \"resident\", \"asia\", \"result\", \"tuesday\", \"northrop\", \"aircraft\", \"blue\", \"landing\", \"company\", \"public\", \"navy\", \"one\", \"police\", \"year\", \"afghanistan\", \"law\", \"united_states\", \"air\", \"system\", \"people\", \"time\", \"control\", \"pilot\", \"section\", \"industry\", \"surveillance\", \"official\", \"world\", \"like\", \"vehicle\", \"two\", \"government\", \"air_force\", \"gunrunner\", \"liberal\", \"cuba\", \"innocent\", \"democrat\", \"shop\", \"terrorism\", \"gun\", \"guantanamo\", \"conservative\", \"respondent\", \"liberalism\", \"collateral\", \"combatant\", \"legality\", \"engagement\", \"behavior\", \"proof\", \"punishment\", \"debate\", \"iran\", \"kill\", \"stanton\", \"transgression\", \"breakaway\", \"annex\", \"fixture\", \"fork\", \"attempt\", \"envy\", \"accusation\", \"wedding\", \"killing\", \"dakota\", \"hive\", \"northern\", \"november\", \"february\", \"army\", \"united_states\", \"drone\", \"plane\", \"bee\", \"aircraft\", \"ability\", \"country\", \"system\", \"industry\", \"border\", \"pound\", \"may\", \"section\", \"mission\", \"world\", \"one\", \"president\", \"official\", \"afghanistan\", \"air_force\", \"air\", \"technology\", \"agency\", \"government\", \"surveillance\", \"two\", \"time\", \"privacy\", \"people\", \"set\", \"practice\", \"marc\", \"perception\", \"militant\", \"boot\", \"voter\", \"launching\", \"southwest\", \"rover\", \"somalia\", \"investigation\", \"crime\", \"impact\", \"libya\", \"expense\", \"dead\", \"west\", \"shave\", \"fell\", \"curiosity\", \"preliminary\", \"confidence\", \"crater\", \"contrary\", \"reconciliation\", \"purge\", \"rate\", \"ladder\", \"subpoena\", \"dateline\", \"opposition\", \"region\", \"trial\", \"pakistan\", \"january\", \"guard\", \"fence\", \"friday\", \"legislation\", \"security\", \"number\", \"border\", \"wife\", \"two\", \"song\", \"year\", \"august\", \"national\", \"missile\", \"texas\", \"federal\", \"landing\", \"business\", \"one\", \"drone\", \"government\", \"official\", \"june\", \"rodeo\", \"part\", \"time\", \"music\", \"united_states\", \"agency\", \"area\", \"section\", \"like\", \"surveillance\", \"technology\", \"ground\", \"system\", \"bluegrass\", \"kentucky\", \"thunder\", \"lineup\", \"ziegler\", \"celtic\", \"trading\", \"idiom\", \"upbeat\", \"novelty\", \"pause\", \"jazz\", \"barn\", \"prey\", \"bruce\", \"strategist\", \"mill\", \"remake\", \"dish\", \"monroe\", \"ballad\", \"pen\", \"auditorium\", \"americana\", \"forth\", \"fishing\", \"dovetail\", \"dissonance\", \"centre\", \"reminiscence\", \"convolution\", \"harmony\", \"modern\", \"elizabeth\", \"mandolin\", \"runway\", \"blade\", \"terror\", \"song\", \"solo\", \"like\", \"band\", \"appalachian\", \"morgan\", \"covert\", \"custom\", \"music\", \"december\", \"land\", \"drone\", \"ground\", \"control\", \"camera\", \"navy\", \"back\", \"album\", \"pilot\", \"year\", \"system\", \"aircraft\", \"official\", \"predator\", \"set\", \"time\", \"one\", \"right\", \"foot\", \"surveillance\", \"sound\", \"air\", \"night\", \"company\", \"area\", \"technology\", \"air_force\", \"section\", \"border\", \"say\", \"industry\", \"grandchild\", \"museum\", \"gibbon\", \"chance\", \"conflict\", \"club\", \"harrier\", \"ignatius\", \"caveman\", \"mod\", \"gallery\", \"tree\", \"leather\", \"thales\", \"advancement\", \"pincus\", \"royal\", \"mean\", \"knight\", \"investigation\", \"carrier\", \"preparation\", \"longbow\", \"crecy\", \"poitier\", \"ready\", \"april\", \"walter\", \"coward\", \"due\", \"wing\", \"rodeo\", \"france\", \"contract\", \"air_force\", \"chair\", \"low\", \"cowboy\", \"park\", \"pilot\", \"air\", \"intelligence\", \"year\", \"part\", \"like\", \"one\", \"drone\", \"today\", \"going\", \"first\", \"war\", \"pound\", \"decision\", \"song\", \"california\", \"aircraft\", \"day\", \"section\", \"plane\", \"june\", \"project\", \"predator\", \"people\", \"music\", \"time\", \"show\", \"president\", \"world\", \"take\", \"official\", \"ground\"], \"Freq\": [41.0, 247.0, 47.0, 19.0, 34.0, 21.0, 46.0, 34.0, 31.0, 44.0, 72.0, 29.0, 30.0, 6.0, 21.0, 28.0, 11.0, 23.0, 37.0, 41.0, 13.0, 21.0, 23.0, 13.0, 36.0, 11.0, 5.0, 9.0, 10.0, 13.0, 6.554545832740061, 1.5852369727991245, 1.492290901946181, 2.955347833128022, 2.9832557415264462, 1.4200582502475319, 1.411466605173906, 1.4197411226189203, 0.9177962177627209, 2.820726435384263, 2.232610497484129, 4.1814517736295596, 2.3274046598498463, 0.9087262152412935, 0.8815716436515885, 0.8767693648218448, 2.1482765533931287, 3.436841856834718, 1.3214359587732667, 9.856466175852622, 0.8765132590828059, 1.5987122310102324, 0.8484029035833301, 1.2608502783806632, 0.824013444551503, 0.8226125647786772, 1.6299275088964826, 2.5667193076822117, 0.8254066225324412, 2.931281341545029, 3.3627753323160117, 8.86359923839813, 2.8267378955403943, 16.949786712986278, 9.12909202295196, 5.292488235004676, 4.407276436747647, 2.753311212193906, 3.040451787137653, 4.021857781182468, 5.267456903558813, 2.6977279725850543, 14.598761080591872, 9.458397623334466, 7.898453335094937, 9.283372963887519, 12.067427528785625, 13.304184316994151, 12.701527057469514, 8.751864688552391, 5.9707879241573725, 14.62080276262405, 11.681549812569902, 6.049604169123819, 5.946998697082341, 45.150329349117584, 9.249166174615919, 5.733284297674628, 12.504608996642997, 6.112895632886242, 13.58508203948483, 8.848107634143776, 10.09561781652921, 12.73644816677994, 8.055936190214009, 10.506598973275283, 7.393344432569131, 8.900604401812354, 10.32225700761574, 7.840256902889071, 7.489074828142134, 7.391234649402323, 7.380512400933269, 1.9452745486792897, 6.422315191223252, 1.0375772954975304, 1.0374354744857104, 1.0373815208399093, 1.037375932783737, 1.037362187450164, 1.0373369448515928, 1.0373431109825415, 1.0372291017905213, 1.0372012257401906, 4.300122013363928, 1.978723239854746, 7.6669101848994545, 0.9059774164913182, 2.754184603315147, 0.8992718133151403, 0.89511153761016, 1.3409166390700555, 0.8825518996340314, 2.2580687548342127, 11.526640445932196, 16.383674046632112, 0.8655925987649455, 0.8590023536219327, 4.19577026702001, 2.14025107772577, 0.8381533802737714, 1.2616887932766074, 0.8239185458260492, 2.5215922347214437, 2.5999041531468876, 8.624014461535085, 7.839112237747981, 1.7153582809173211, 11.863592782377749, 13.792415065997423, 7.865477585996121, 12.185933443851871, 5.907136491992295, 19.61647476187367, 12.311337132021011, 13.114374974616725, 9.006304303469427, 45.51814435031043, 14.527279137135842, 5.327378361802891, 10.604695961810288, 6.3662090518768055, 5.301361913797598, 11.029996622488781, 7.177215077190975, 7.391546705902233, 5.270513788349755, 7.622088065189125, 10.213573137291935, 11.247223249680452, 7.731141743303548, 8.42905989933011, 8.849508842640468, 7.53748309628629, 6.214553061193586, 6.80465127913971, 6.883394312887317, 2.8934970524601793, 1.9776719593471705, 1.969665751096037, 1.8309357799724935, 2.4049839386183502, 7.6092784064772445, 1.6172231734856, 2.169909277171021, 1.0593773998749876, 1.0593719188156756, 1.0593572196111567, 1.0593747839148615, 1.0593181047787927, 1.0591243991599208, 1.0528144541963615, 1.0527049575796488, 1.0457849956285554, 1.0446518489005376, 2.472854152107033, 1.510103094262757, 1.4823556052036904, 1.4218838252301436, 0.9516952629335917, 0.9448547140577592, 2.258420412612005, 0.9219532288477942, 0.9136321711100377, 3.2089898161350736, 2.0930543617744592, 4.931700211446621, 2.294342278787464, 2.500011804442397, 6.121878856441567, 11.875217264072973, 3.8403931496878823, 66.01938333195051, 5.1952728933701895, 13.251407615499899, 3.3995602690803874, 2.445440883096477, 3.1603675881162316, 2.8615439715048216, 2.7280786824201084, 7.352141484742356, 2.449850395313085, 15.889582973413743, 4.685796969911001, 3.967166065352485, 8.022510914640392, 7.5666357650288765, 4.889817942408281, 11.46352792324525, 5.791423299122679, 9.446851873846256, 6.459741816281739, 6.347063195499218, 6.564503296026949, 6.787792683396962, 8.787644870376432, 6.642511226991536, 8.427982741095683, 6.115064903160352, 6.79057257702445, 7.749279111374493, 7.0124991737382185, 7.255017612009539, 7.710370067873924, 6.216865614320773, 7.075454122719219, 6.556086382035995, 6.442959809224237, 6.572461794148161, 6.112553083161038, 2.1165502395458495, 1.4599893410835263, 1.4594392929862239, 1.3456773345336543, 2.167612913233078, 1.587174097499444, 1.1908923892990544, 2.4674232170618997, 0.778719987135511, 0.7787028348682453, 1.5865071361286915, 0.7784397800029821, 0.7741217902280655, 0.7725688421173316, 0.7715980558504008, 0.7707801438409384, 0.7701112588514272, 0.7091559482263378, 0.7012983930675574, 2.1147104050707854, 4.75641155805938, 1.602736707596517, 1.6171576499602542, 0.6828367826332943, 0.6596304062289374, 0.6556518282972366, 0.9544907580867285, 1.5716324334732998, 0.6494755693674842, 0.9406586567985955, 0.9968207369476408, 1.5385107107429579, 3.56023659104559, 1.4902816343551206, 2.1181361563447547, 3.3080647057779515, 4.4530620094498214, 6.213227035058629, 6.107360462933762, 7.543281165504308, 41.73560545775778, 8.938698151489985, 5.602184834153022, 13.99276876639962, 2.6541683398996647, 6.042673438784348, 10.058211781316377, 7.635194234623821, 8.443141471444816, 3.837384314806391, 5.6750361237855325, 7.792054657631436, 4.273833747515115, 6.009992438485185, 8.8712492382738, 5.937855452618435, 8.326897617322585, 5.293193097988544, 6.801726561465512, 5.692137522021921, 6.343972409797048, 6.451104295594356, 6.606321948181973, 6.564073723118309, 5.945316101106654, 6.561367832730959, 5.284684718483043, 4.968142137484102, 4.532389482236891, 1.4027022509866198, 0.7371576308339644, 0.7347406915124649, 3.3793744174890796, 0.7310839693409337, 1.6276580596345491, 0.7066373573383474, 1.653497602147415, 1.2027010285453013, 0.6293006163843926, 2.1499563175118723, 2.4046196493691925, 0.561119142998593, 0.5834220675672812, 0.551018698206251, 1.5491941282685735, 1.051022893738268, 0.5472823004264123, 0.519071691148313, 1.5797502304672906, 0.5355561862573626, 0.537435315222786, 0.5260619597453904, 1.1914522506080136, 0.49802040792856234, 0.7608798615777586, 1.0710552322744453, 0.5144198256931479, 0.8202109278797324, 1.8388473748835226, 1.3739277932961278, 4.403279920504972, 1.3264456040575716, 5.136269858687857, 3.8170419869608256, 1.591511498122421, 1.666233545570274, 6.55463410605158, 1.3163195432195502, 5.24908072940459, 4.676080763137342, 10.05220289955431, 1.9007396237427985, 7.809693741150668, 7.211585830011243, 8.242515278073064, 3.2106484877744323, 4.909245691504774, 3.554807953075993, 2.3509793965101613, 3.9629729277037833, 2.6229276088510862, 2.9894649478105055, 7.847813793206703, 18.299805937869724, 5.79381374797367, 6.6358782434955765, 4.534087688052432, 3.7640350876661377, 3.945656312020259, 5.75094556983612, 4.255704826319397, 4.090984621573264, 4.662762782643626, 3.819278643338104, 4.652779361400985, 4.593362626939656, 4.3916216234453245, 4.135749484318745, 3.8637332438631, 3.8677362679635356, 3.858573132770979, 1.4585853697330358, 1.4394078811814288, 1.072729585623196, 1.006947334740473, 1.2954174528318165, 0.9753897946224487, 0.9815749876600769, 0.93699673259884, 0.5879746566270818, 0.5545564733953301, 1.7214698507636654, 0.5749879872945252, 0.5495306704485511, 1.4384838890786646, 0.5397169149811338, 0.5589939076003256, 0.5509873825883926, 0.5549933319566408, 0.5576897154683914, 0.5543865338641738, 0.5509805301879428, 0.5450943903320523, 0.5480155325785581, 0.5451964910987551, 0.5448472350674058, 0.5478270555009216, 0.5472870142149424, 0.514281093033413, 0.545444295538181, 0.5443380656487165, 2.0131029647721292, 1.0411605767507348, 0.8092643816870742, 0.9809719042899591, 1.7395288833007947, 1.5821054418924818, 0.7945884153173017, 7.534030506017507, 1.1930094100667665, 9.631851789336539, 3.848468222414974, 1.537480590508186, 0.7909932853886549, 0.9523768372127329, 2.798728079648371, 5.439232357515887, 3.7006528562647865, 2.3502237555773218, 22.457361896020696, 5.0214967540752875, 4.44229118643441, 3.853937736323514, 2.9453890687796176, 2.7882662674247256, 3.011235876487632, 4.795765411239499, 5.704636935040379, 5.518816569123637, 6.354591878323748, 5.443921419078454, 3.3177268700651785, 3.3848449062524364, 4.871379269896074, 5.086028189419054, 2.8821816614638243, 3.244003119844265, 3.8924978526570366, 3.048559098474691, 3.361903358068461, 2.6432772640032427, 3.2699672258014036, 3.1013771126200145, 3.152016496205472, 3.18262176905256, 3.2203477679250083, 3.1728238462367084, 3.117035208300578, 3.1008629661946827, 1.0987890489480645, 1.0986378570655997, 0.586057302230759, 0.5860417465548912, 0.5859900645631272, 0.5859909468253406, 0.5859778057618462, 0.5859423759687502, 0.5858947802440798, 1.5509352458179946, 0.7376865081445041, 0.6238845268046158, 0.6645927554189085, 1.134155133425358, 0.5963943506715046, 0.5943918940562032, 0.5270933038967621, 0.5860026948432349, 0.3681242800206098, 1.2899277213023563, 0.3446363935488879, 0.3425034549957098, 0.3607662363782678, 0.3597594591056434, 0.3571604539295225, 0.3368410032403922, 4.590088967143004, 0.7041876155547419, 0.3495040895719175, 0.9661522552673607, 0.823512744089937, 4.006274700502685, 0.966164978417175, 2.16640229458396, 5.768010807232543, 0.8023037176980046, 1.3246832803279758, 1.6165189039739964, 1.4024657459344136, 3.915550655531833, 3.2952348793804265, 1.9215061782609268, 4.249703661199684, 2.6976445061915224, 4.142361139437789, 4.020725226861135, 8.345159655105954, 1.6808592224970489, 1.6679330595039432, 2.1718045254211775, 1.9656347053023104, 1.644737364346844, 1.4001635987756758, 2.410856165363812, 1.7357247878058224, 3.172797315495764, 2.045581963771316, 2.402295435802617, 2.1754195716231632, 1.964049976627628, 1.732856971263734, 1.7922135298478414, 1.9079914070669224, 1.8802034906542149, 2.036554471064378, 1.7988808318293699, 1.839849188492056, 1.8016557786647844, 1.7628414419786913, 1.8176265821214854, 1.7543694958570766], \"Total\": [41.0, 247.0, 47.0, 19.0, 34.0, 21.0, 46.0, 34.0, 31.0, 44.0, 72.0, 29.0, 30.0, 6.0, 21.0, 28.0, 11.0, 23.0, 37.0, 41.0, 13.0, 21.0, 23.0, 13.0, 36.0, 11.0, 5.0, 9.0, 10.0, 13.0, 10.378561480607393, 2.765173365009124, 2.7136634215942532, 5.464544616771882, 5.547541907015916, 2.691230292119552, 2.6806475754484165, 2.7484340676070174, 1.7865345631080276, 5.493745219606001, 4.389611376487156, 8.242198810982257, 4.593886798038848, 1.8094471610148477, 1.7727743733865362, 1.7727063645387435, 4.357801818561978, 7.047599304598383, 2.715541780048905, 20.283647331974255, 1.8038334564546168, 3.3667417079821127, 1.7870073157124995, 2.6560985536769017, 1.7470361817158402, 1.7441370853852898, 3.4624200304935813, 5.453334779429029, 1.755182256160185, 6.2345697986594635, 7.213210470829931, 19.396118122837706, 6.111449094264072, 38.130311129522596, 21.095046706622433, 11.984171512289667, 10.020902356571586, 6.074519550740865, 6.81851366997459, 9.528168631581956, 13.008837568933094, 6.1049662753292155, 43.61242114271367, 26.943989445465345, 22.42176477233511, 27.406014081164514, 37.93389948634643, 43.31965668540055, 41.100955990502165, 25.774171194408435, 15.990994511388212, 51.11854148988773, 38.77589754385835, 16.45933378079892, 16.09338490716172, 247.52578997813268, 29.418355900322496, 15.653555038403722, 47.89926071008039, 17.248844895989834, 58.0470551065127, 30.245376331143692, 37.26723404963235, 61.273015787466335, 28.862403293956902, 50.529250112187455, 25.787728496063338, 46.96554507828366, 72.44773435287422, 34.985924879265774, 32.803865278007, 31.73507367383965, 44.4730434836108, 2.6052261146156126, 9.945774412043908, 1.6974174558808448, 1.6973014117834713, 1.6972447412693803, 1.6972726107832732, 1.6972562147631642, 1.6972233101958718, 1.6972611148563015, 1.6971785803429058, 1.697135815726447, 7.073255279757832, 3.4316728076120255, 13.350907731720481, 1.6689270764522162, 5.08859921200199, 1.6710173953029404, 1.6680616199940774, 2.5010663697679805, 1.660944253592393, 4.259322449831758, 21.815318230714578, 31.292692082521082, 1.6609336434802544, 1.6557136915876214, 8.16491895136297, 4.169407748956828, 1.654830624307464, 2.5093667577078422, 1.650398273408304, 5.155859285226053, 5.442196196388513, 20.751868940407867, 19.033353806227115, 3.5222186800282413, 32.803865278007, 41.621404111008346, 21.7996258646449, 37.71318536737401, 16.0926057415419, 72.44773435287422, 41.09403940969957, 46.15487246628186, 28.418064737755486, 247.52578997813268, 58.0470551065127, 15.148136570223187, 38.77589754385835, 19.47517595937693, 15.435223453109801, 44.4730434836108, 24.533455155763907, 25.787728496063338, 15.719251629477867, 30.913562354058612, 50.529250112187455, 61.273015787466335, 34.03554307792085, 41.100955990502165, 51.11854148988773, 36.81887549856, 27.406014081164514, 43.31965668540055, 46.96554507828366, 3.5701799836003607, 2.6413957834821513, 2.6432212684038583, 2.602437944969926, 3.4392119921013466, 11.799666703490711, 2.518179412569811, 3.3840315343754988, 1.7165114310947494, 1.7165085956413328, 1.7164979806092966, 1.7165295575499078, 1.716469820168751, 1.7163069564041726, 1.7164094623508948, 1.7163764324119695, 1.7160302174291102, 1.7159395752275048, 4.139266018310944, 2.5587506136132285, 2.518479811757333, 2.500774182339798, 1.6879670959772066, 1.6862400719797939, 4.043923684952637, 1.6810838141115354, 1.6779024819959496, 5.92307619316684, 3.9569721587072024, 9.496252621197687, 4.5229853265165385, 4.969349302781176, 13.255897216322108, 29.346187105059492, 8.16565278945378, 247.52578997813268, 12.513308899312818, 41.09403940969957, 7.538446588235013, 4.975183995775635, 7.001895570621111, 6.197084775348335, 6.027542477268565, 23.107718525392375, 5.271366874712752, 72.44773435287422, 13.212162053819016, 10.705451025050106, 31.73507367383965, 29.418355900322496, 14.979247173990139, 61.273015787466335, 20.656764401738872, 46.96554507828366, 25.859111582355553, 25.774171194408435, 27.477495480652074, 30.013849195513625, 50.529250112187455, 30.985875558324963, 51.11854148988773, 26.553423805595784, 34.03554307792085, 46.15487246628186, 37.26723404963235, 43.31965668540055, 58.0470551065127, 31.513427346064127, 47.89926071008039, 38.77589754385835, 36.81887549856, 43.61242114271367, 41.621404111008346, 2.8416312580058554, 2.1522825930573024, 2.151849487803483, 2.2383353754952213, 3.7618552277048276, 2.886392700413636, 2.1750749403844427, 4.547020932169399, 1.4709343359542544, 1.470929858346743, 2.997017318443025, 1.4706952139672633, 1.4725055935520954, 1.472870706326494, 1.4730630948345422, 1.4734274118355712, 1.4735838726850936, 1.5233514010070504, 1.5288715612612374, 4.625116362452475, 10.637124866608032, 3.596625707854327, 3.6333515232457785, 1.5430164216319664, 1.5104473133263678, 1.5117429503435784, 2.2008280996684357, 3.6340938570653547, 1.5138313764143243, 2.1964124255645543, 2.3730566527335837, 3.7965350173660273, 9.52439509209663, 3.6808759465861542, 5.434475018956684, 9.891536031679156, 14.201799880384062, 21.456432848647452, 21.095046706622433, 27.477495480652074, 247.52578997813268, 37.71318536737401, 20.283647331974255, 72.44773435287422, 7.7509059262679205, 24.691529667310334, 50.529250112187455, 37.26723404963235, 44.4730434836108, 14.2978741491519, 26.943989445465345, 46.15487246628186, 17.654892020311813, 31.513427346064127, 61.273015787466335, 30.913562354058612, 58.0470551065127, 25.859111582355553, 41.621404111008346, 30.013849195513625, 37.93389948634643, 41.100955990502165, 43.61242114271367, 43.31965668540055, 36.81887549856, 51.11854148988773, 38.130311129522596, 30.985875558324963, 23.59868564590081, 2.852892744474979, 1.511411265738092, 1.5140284861156859, 7.004927234714099, 1.5159533071188405, 3.488205342451203, 1.5337212128688549, 3.901642837260433, 2.8434119675452036, 1.488501637809681, 5.1701682108904645, 5.9425264860886875, 1.4203061826913344, 1.4922901445617187, 1.41771754086148, 4.0660296063106385, 2.845482682656127, 1.4817028413647317, 1.409538361453917, 4.3069131990782, 1.4765984925132938, 1.4825085414799064, 1.478431254736344, 3.3499992535463767, 1.4040766806000486, 2.14629095379635, 3.065786109161776, 1.4763784267232287, 2.3601047128121695, 5.367582777266595, 4.020294539610184, 13.512354081060973, 3.8893734041637527, 16.24451554689374, 12.115939143798432, 4.748378934055025, 5.059416460526095, 23.984929263760176, 3.983360592742433, 19.91745881241719, 17.619409366345256, 44.4730434836108, 6.193693553398629, 36.81887549856, 34.985924879265774, 46.96554507828366, 13.255897216322108, 23.964119792199853, 15.739423217911732, 8.933529061087638, 19.8522918811161, 10.705451025050106, 13.361790112877317, 61.273015787466335, 247.52578997813268, 43.61242114271367, 58.0470551065127, 29.346187105059492, 21.481813006731656, 23.790675527262916, 51.11854148988773, 28.862403293956902, 27.477495480652074, 41.100955990502165, 27.042313171756, 46.15487246628186, 47.89926071008039, 43.31965668540055, 37.93389948634643, 30.52956574561221, 50.529250112187455, 6.71442307674281, 2.795563242500704, 2.7855610710208625, 2.0867081972097656, 1.964800243211855, 2.792507935443586, 2.115551688704526, 2.138987560218865, 2.135991554688753, 1.4399661572527183, 1.3783607626689967, 4.283904886929893, 1.4358711887537685, 1.3774948115299919, 3.621967452777156, 1.3759349476048315, 1.4468587031383742, 1.436445096631255, 1.4477440428866366, 1.4551775896378283, 1.455742887010372, 1.4518214462016352, 1.438757641664494, 1.4466647643576533, 1.4407521078058292, 1.4436395126386385, 1.4546303992534981, 1.4574924095509632, 1.3717681940861843, 1.4579397402161738, 1.458446097059199, 6.065675964822248, 2.9762982596741594, 2.250894592374652, 2.8087158462289112, 5.439310650847444, 5.171408403033766, 2.2566157454679656, 34.985924879265774, 3.700131086910737, 47.89926071008039, 15.5505106753459, 5.089195900414541, 2.259560160305834, 2.8880177828776796, 11.716066834098907, 28.862403293956902, 17.276681046692936, 9.61225369931396, 247.52578997813268, 30.52956574561221, 26.553423805595784, 21.759748433664097, 14.979247173990139, 13.966962441301455, 15.785774697745317, 34.03554307792085, 46.96554507828366, 50.529250112187455, 72.44773435287422, 58.0470551065127, 22.465096204705166, 23.59868564590081, 51.11854148988773, 61.273015787466335, 18.43184276767683, 24.533455155763907, 43.31965668540055, 22.42176477233511, 30.013849195513625, 15.051943291315498, 31.73507367383965, 27.042313171756, 37.93389948634643, 41.621404111008346, 46.15487246628186, 44.4730434836108, 41.09403940969957, 37.26723404963235, 1.815158989028716, 1.8150472352627385, 1.3023558190789961, 1.302350205576981, 1.3023040562077286, 1.3023094844521919, 1.3022962820100261, 1.3022643464644925, 1.3022302339616687, 3.792063654793819, 1.9626470200791135, 1.966348831207849, 2.1590324349521537, 4.0050076568459465, 2.2138667268663244, 2.2132616133144603, 2.035343844076729, 2.2781628118117436, 1.4751210837960915, 5.1701682108904645, 1.397685290263743, 1.4045101874200037, 1.481534754155141, 1.4825889301445094, 1.4846818939699744, 1.4015300971516624, 19.20561094271833, 2.962161797928356, 1.4906259674651576, 4.20249395253532, 3.7303978403416194, 21.481813006731656, 4.5229853265165385, 11.600856632426908, 41.621404111008346, 3.916266455168727, 7.265844344614244, 9.703941585973812, 8.200590606439523, 34.03554307792085, 30.013849195513625, 13.771225262086563, 46.96554507828366, 23.790675527262916, 47.89926071008039, 61.273015787466335, 247.52578997813268, 13.031597596533851, 14.354962455195444, 26.794035899056784, 21.414679443096833, 14.2978741491519, 9.835678677145532, 34.985924879265774, 16.45933378079892, 72.44773435287422, 28.418064737755486, 46.15487246628186, 37.71318536737401, 29.346187105059492, 18.586149992108933, 22.465096204705166, 30.985875558324963, 28.862403293956902, 51.11854148988773, 25.15082387050288, 30.913562354058612, 31.513427346064127, 26.938985363631822, 58.0470551065127, 30.52956574561221], \"Category\": [\"Default\", \"Default\", \"Default\", \"Default\", \"Default\", \"Default\", \"Default\", \"Default\", \"Default\", \"Default\", \"Default\", \"Default\", \"Default\", \"Default\", \"Default\", \"Default\", \"Default\", \"Default\", \"Default\", \"Default\", \"Default\", \"Default\", \"Default\", \"Default\", \"Default\", \"Default\", \"Default\", \"Default\", \"Default\", \"Default\", \"Topic1\", \"Topic1\", \"Topic1\", \"Topic1\", \"Topic1\", \"Topic1\", \"Topic1\", \"Topic1\", \"Topic1\", \"Topic1\", \"Topic1\", \"Topic1\", \"Topic1\", \"Topic1\", \"Topic1\", \"Topic1\", \"Topic1\", \"Topic1\", \"Topic1\", \"Topic1\", \"Topic1\", \"Topic1\", \"Topic1\", \"Topic1\", \"Topic1\", \"Topic1\", \"Topic1\", \"Topic1\", \"Topic1\", \"Topic1\", \"Topic1\", \"Topic1\", \"Topic1\", \"Topic1\", \"Topic1\", \"Topic1\", \"Topic1\", \"Topic1\", \"Topic1\", \"Topic1\", \"Topic1\", \"Topic1\", \"Topic1\", \"Topic1\", \"Topic1\", \"Topic1\", \"Topic1\", \"Topic1\", \"Topic1\", \"Topic1\", \"Topic1\", \"Topic1\", \"Topic1\", \"Topic1\", \"Topic1\", \"Topic1\", \"Topic1\", \"Topic1\", \"Topic1\", \"Topic1\", \"Topic1\", \"Topic1\", \"Topic1\", \"Topic1\", \"Topic1\", \"Topic1\", \"Topic1\", \"Topic1\", \"Topic1\", \"Topic1\", \"Topic1\", \"Topic1\", \"Topic1\", \"Topic2\", \"Topic2\", \"Topic2\", \"Topic2\", \"Topic2\", \"Topic2\", \"Topic2\", \"Topic2\", \"Topic2\", \"Topic2\", \"Topic2\", \"Topic2\", \"Topic2\", \"Topic2\", \"Topic2\", \"Topic2\", \"Topic2\", \"Topic2\", \"Topic2\", \"Topic2\", \"Topic2\", \"Topic2\", \"Topic2\", \"Topic2\", \"Topic2\", \"Topic2\", \"Topic2\", \"Topic2\", \"Topic2\", \"Topic2\", \"Topic2\", \"Topic2\", \"Topic2\", \"Topic2\", \"Topic2\", \"Topic2\", \"Topic2\", \"Topic2\", \"Topic2\", \"Topic2\", \"Topic2\", \"Topic2\", \"Topic2\", \"Topic2\", \"Topic2\", \"Topic2\", \"Topic2\", \"Topic2\", \"Topic2\", \"Topic2\", \"Topic2\", \"Topic2\", \"Topic2\", \"Topic2\", \"Topic2\", \"Topic2\", \"Topic2\", \"Topic2\", \"Topic2\", \"Topic2\", \"Topic2\", \"Topic2\", \"Topic2\", \"Topic2\", \"Topic3\", \"Topic3\", \"Topic3\", \"Topic3\", \"Topic3\", \"Topic3\", \"Topic3\", \"Topic3\", \"Topic3\", \"Topic3\", \"Topic3\", \"Topic3\", \"Topic3\", \"Topic3\", \"Topic3\", \"Topic3\", \"Topic3\", \"Topic3\", \"Topic3\", \"Topic3\", \"Topic3\", \"Topic3\", \"Topic3\", \"Topic3\", \"Topic3\", \"Topic3\", \"Topic3\", \"Topic3\", \"Topic3\", \"Topic3\", \"Topic3\", \"Topic3\", \"Topic3\", \"Topic3\", \"Topic3\", \"Topic3\", \"Topic3\", \"Topic3\", \"Topic3\", \"Topic3\", \"Topic3\", \"Topic3\", \"Topic3\", \"Topic3\", \"Topic3\", \"Topic3\", \"Topic3\", \"Topic3\", \"Topic3\", \"Topic3\", \"Topic3\", \"Topic3\", \"Topic3\", \"Topic3\", \"Topic3\", \"Topic3\", \"Topic3\", \"Topic3\", \"Topic3\", \"Topic3\", \"Topic3\", \"Topic3\", \"Topic3\", \"Topic3\", \"Topic3\", \"Topic3\", \"Topic3\", \"Topic3\", \"Topic3\", \"Topic3\", \"Topic3\", \"Topic3\", \"Topic3\", \"Topic4\", \"Topic4\", \"Topic4\", \"Topic4\", \"Topic4\", \"Topic4\", \"Topic4\", \"Topic4\", \"Topic4\", \"Topic4\", \"Topic4\", \"Topic4\", \"Topic4\", \"Topic4\", \"Topic4\", \"Topic4\", \"Topic4\", \"Topic4\", \"Topic4\", \"Topic4\", \"Topic4\", \"Topic4\", \"Topic4\", \"Topic4\", \"Topic4\", \"Topic4\", \"Topic4\", \"Topic4\", \"Topic4\", \"Topic4\", \"Topic4\", \"Topic4\", \"Topic4\", \"Topic4\", \"Topic4\", \"Topic4\", \"Topic4\", \"Topic4\", \"Topic4\", \"Topic4\", \"Topic4\", \"Topic4\", \"Topic4\", \"Topic4\", \"Topic4\", \"Topic4\", \"Topic4\", \"Topic4\", \"Topic4\", \"Topic4\", \"Topic4\", \"Topic4\", \"Topic4\", \"Topic4\", \"Topic4\", \"Topic4\", \"Topic4\", \"Topic4\", \"Topic4\", \"Topic4\", \"Topic4\", \"Topic4\", \"Topic4\", \"Topic4\", \"Topic4\", \"Topic4\", \"Topic4\", \"Topic4\", \"Topic4\", \"Topic5\", \"Topic5\", \"Topic5\", \"Topic5\", \"Topic5\", \"Topic5\", \"Topic5\", \"Topic5\", \"Topic5\", \"Topic5\", \"Topic5\", \"Topic5\", \"Topic5\", \"Topic5\", \"Topic5\", \"Topic5\", \"Topic5\", \"Topic5\", \"Topic5\", \"Topic5\", \"Topic5\", \"Topic5\", \"Topic5\", \"Topic5\", \"Topic5\", \"Topic5\", \"Topic5\", \"Topic5\", \"Topic5\", \"Topic5\", \"Topic5\", \"Topic5\", \"Topic5\", \"Topic5\", \"Topic5\", \"Topic5\", \"Topic5\", \"Topic5\", \"Topic5\", \"Topic5\", \"Topic5\", \"Topic5\", \"Topic5\", \"Topic5\", \"Topic5\", \"Topic5\", \"Topic5\", \"Topic5\", \"Topic5\", \"Topic5\", \"Topic5\", \"Topic5\", \"Topic5\", \"Topic5\", \"Topic5\", \"Topic5\", \"Topic5\", \"Topic5\", \"Topic5\", \"Topic5\", \"Topic5\", \"Topic5\", \"Topic5\", \"Topic5\", \"Topic5\", \"Topic5\", \"Topic5\", \"Topic5\", \"Topic5\", \"Topic5\", \"Topic5\", \"Topic6\", \"Topic6\", \"Topic6\", \"Topic6\", \"Topic6\", \"Topic6\", \"Topic6\", \"Topic6\", \"Topic6\", \"Topic6\", \"Topic6\", \"Topic6\", \"Topic6\", \"Topic6\", \"Topic6\", \"Topic6\", \"Topic6\", \"Topic6\", \"Topic6\", \"Topic6\", \"Topic6\", \"Topic6\", \"Topic6\", \"Topic6\", \"Topic6\", \"Topic6\", \"Topic6\", \"Topic6\", \"Topic6\", \"Topic6\", \"Topic6\", \"Topic6\", \"Topic6\", \"Topic6\", \"Topic6\", \"Topic6\", \"Topic6\", \"Topic6\", \"Topic6\", \"Topic6\", \"Topic6\", \"Topic6\", \"Topic6\", \"Topic6\", \"Topic6\", \"Topic6\", \"Topic6\", \"Topic6\", \"Topic6\", \"Topic6\", \"Topic6\", \"Topic6\", \"Topic6\", \"Topic6\", \"Topic6\", \"Topic6\", \"Topic6\", \"Topic6\", \"Topic6\", \"Topic6\", \"Topic6\", \"Topic6\", \"Topic6\", \"Topic6\", \"Topic6\", \"Topic6\", \"Topic6\", \"Topic6\", \"Topic6\", \"Topic6\", \"Topic6\", \"Topic6\", \"Topic6\", \"Topic6\", \"Topic6\", \"Topic6\", \"Topic6\", \"Topic6\", \"Topic6\", \"Topic7\", \"Topic7\", \"Topic7\", \"Topic7\", \"Topic7\", \"Topic7\", \"Topic7\", \"Topic7\", \"Topic7\", \"Topic7\", \"Topic7\", \"Topic7\", \"Topic7\", \"Topic7\", \"Topic7\", \"Topic7\", \"Topic7\", \"Topic7\", \"Topic7\", \"Topic7\", \"Topic7\", \"Topic7\", \"Topic7\", \"Topic7\", \"Topic7\", \"Topic7\", \"Topic7\", \"Topic7\", \"Topic7\", \"Topic7\", \"Topic7\", \"Topic7\", \"Topic7\", \"Topic7\", \"Topic7\", \"Topic7\", \"Topic7\", \"Topic7\", \"Topic7\", \"Topic7\", \"Topic7\", \"Topic7\", \"Topic7\", \"Topic7\", \"Topic7\", \"Topic7\", \"Topic7\", \"Topic7\", \"Topic7\", \"Topic7\", \"Topic7\", \"Topic7\", \"Topic7\", \"Topic7\", \"Topic7\", \"Topic7\", \"Topic7\", \"Topic7\", \"Topic7\", \"Topic7\", \"Topic7\", \"Topic7\", \"Topic7\", \"Topic7\", \"Topic7\", \"Topic7\", \"Topic7\", \"Topic7\", \"Topic7\", \"Topic7\", \"Topic7\"], \"logprob\": [30.0, 29.0, 28.0, 27.0, 26.0, 25.0, 24.0, 23.0, 22.0, 21.0, 20.0, 19.0, 18.0, 17.0, 16.0, 15.0, 14.0, 13.0, 12.0, 11.0, 10.0, 9.0, 8.0, 7.0, 6.0, 5.0, 4.0, 3.0, 2.0, 1.0, -6.095099925994873, -7.514500141143799, -7.574900150299072, -6.891600131988525, -6.882199764251709, -7.624499797821045, -7.6305999755859375, -7.624800205230713, -8.060999870300293, -6.938199996948242, -7.172100067138672, -6.544600009918213, -7.130499839782715, -8.070899963378906, -8.101300239562988, -8.10669994354248, -7.210599899291992, -6.740699768066406, -7.696499824523926, -5.687099933624268, -8.107000350952148, -7.50600004196167, -8.139599800109863, -7.7434000968933105, -8.168800354003906, -8.170499801635742, -7.486700057983398, -7.032599925994873, -8.167099952697754, -6.899799823760986, -6.762499809265137, -5.793300151824951, -6.936100006103516, -5.144999980926514, -5.763800144195557, -6.308899879455566, -6.492000102996826, -6.962399959564209, -6.8632001876831055, -6.583499908447266, -6.313700199127197, -6.982800006866455, -5.294300079345703, -5.728300094604492, -5.908599853515625, -5.747000217437744, -5.4847002029418945, -5.387199878692627, -5.433499813079834, -5.806000232696533, -6.188399791717529, -5.292799949645996, -5.517199993133545, -6.17519998550415, -6.192299842834473, -4.165200233459473, -5.750699996948242, -6.228899955749512, -5.449100017547607, -6.16480016708374, -5.366300106048584, -5.795000076293945, -5.663099765777588, -5.430799961090088, -5.888800144195557, -5.623199939727783, -5.974699974060059, -5.789100170135498, -5.640900135040283, -5.915999889373779, -5.9618000984191895, -5.974899768829346, -5.976399898529053, -7.033999919891357, -5.839600086212158, -7.662499904632568, -7.662600040435791, -7.662700176239014, -7.662700176239014, -7.662700176239014, -7.662700176239014, -7.662700176239014, -7.662799835205078, -7.662799835205078, -6.240699768066406, -7.016900062561035, -5.662499904632568, -7.798099994659424, -6.686200141906738, -7.805500030517578, -7.810200214385986, -7.406000137329102, -7.8242998123168945, -6.884900093078613, -5.254700183868408, -4.90310001373291, -7.843699932098389, -7.85129976272583, -6.2652997970581055, -6.938399791717529, -7.875899791717529, -7.466899871826172, -7.89300012588501, -6.774499893188477, -6.743899822235107, -5.5447998046875, -5.640200138092041, -7.1596999168396, -5.225900173187256, -5.075200080871582, -5.636899948120117, -5.199100017547607, -5.9232001304626465, -4.7230000495910645, -5.188799858093262, -5.125699996948242, -5.501399993896484, -3.8812999725341797, -5.0233001708984375, -6.026500225067139, -5.338099956512451, -5.848400115966797, -6.031400203704834, -5.298699855804443, -5.728499889373779, -5.698999881744385, -6.037199974060059, -5.668300151824951, -5.3755998611450195, -5.279200077056885, -5.654099941253662, -5.567699909210205, -5.519000053405762, -5.679500102996826, -5.872499942779541, -5.781799793243408, -5.770299911499023, -6.606100082397461, -6.986700057983398, -6.990699768066406, -7.063799858093262, -6.791100025177002, -5.639200210571289, -7.187900066375732, -6.893899917602539, -7.610899925231934, -7.610899925231934, -7.610899925231934, -7.610899925231934, -7.611000061035156, -7.611199855804443, -7.617099761962891, -7.617199897766113, -7.623799800872803, -7.624899864196777, -6.763199806213379, -7.256400108337402, -7.275000095367432, -7.3165998458862305, -7.718100070953369, -7.725299835205078, -6.853899955749512, -7.749899864196777, -7.758900165557861, -6.502600193023682, -6.929999828338623, -6.07289981842041, -6.838200092315674, -6.752299785614014, -5.8566999435424805, -5.1940999031066895, -6.322999954223633, -3.4786999225616455, -6.020899772644043, -5.084499835968018, -6.445000171661377, -6.774400234222412, -6.517899990081787, -6.617199897766113, -6.664999961853027, -5.673600196838379, -6.772600173950195, -4.902900218963623, -6.124100208282471, -6.290599822998047, -5.586400032043457, -5.644899845123291, -6.081399917602539, -5.229400157928467, -5.912199974060059, -5.422900199890137, -5.802999973297119, -5.8206000328063965, -5.786900043487549, -5.753499984741211, -5.495299816131592, -5.775100231170654, -5.5370001792907715, -5.857800006866455, -5.7530999183654785, -5.620999813079834, -5.720900058746338, -5.6869001388549805, -5.625999927520752, -5.841300010681152, -5.711999893188477, -5.7881999015808105, -5.805600166320801, -5.785699844360352, -5.85830020904541, -6.765500068664551, -7.136899948120117, -7.13730001449585, -7.218400001525879, -6.741700172424316, -7.053400039672852, -7.34060001373291, -6.612199783325195, -7.765399932861328, -7.765500068664551, -7.053800106048584, -7.7657999992370605, -7.771399974822998, -7.773399829864502, -7.774600028991699, -7.775700092315674, -7.776599884033203, -7.859000205993652, -7.870200157165527, -6.76639986038208, -5.9558000564575195, -7.043600082397461, -7.0346999168396, -7.8968000411987305, -7.931399822235107, -7.9375, -7.5619001388549805, -7.063199996948242, -7.946899890899658, -7.576499938964844, -7.518499851226807, -7.084499835968018, -6.245500087738037, -7.116399765014648, -6.764800071716309, -6.318999767303467, -6.021699905395508, -5.688600063323975, -5.7058000564575195, -5.494699954986572, -3.7839999198913574, -5.324900150299072, -5.792200088500977, -4.876800060272217, -6.5391998291015625, -5.7164998054504395, -5.206900119781494, -5.482600212097168, -5.381999969482422, -6.170499801635742, -5.779300212860107, -5.462200164794922, -6.06279993057251, -5.72189998626709, -5.332499980926514, -5.734000205993652, -5.3958001136779785, -5.848899841308594, -5.598199844360352, -5.776199817657471, -5.667799949645996, -5.651100158691406, -5.627299785614014, -5.633699893951416, -5.732699871063232, -5.634099960327148, -5.850500106811523, -5.912300109863281, -6.0040998458862305, -6.940899848937988, -7.5843000411987305, -7.587600231170654, -6.061600208282471, -7.592599868774414, -6.792200088500977, -7.6265997886657715, -6.776400089263916, -7.094799995422363, -7.742499828338623, -6.513899803161621, -6.401899814605713, -7.8572001457214355, -7.81820011138916, -7.87529993057251, -6.841599941253662, -7.229599952697754, -7.8821001052856445, -7.934999942779541, -6.8221001625061035, -7.903800010681152, -7.900300025939941, -7.9217000007629395, -7.1041998863220215, -7.976399898529053, -7.552599906921387, -7.210700035095215, -7.943999767303467, -7.477499961853027, -6.670199871063232, -6.961699962615967, -5.796999931335449, -6.996799945831299, -5.64300012588501, -5.939899921417236, -6.814599990844727, -6.768799781799316, -5.399199962615967, -7.004499912261963, -5.621300220489502, -5.7368998527526855, -4.971499919891357, -6.6371002197265625, -5.223999977111816, -5.303599834442139, -5.170000076293945, -6.1128997802734375, -5.688199996948242, -6.011000156402588, -6.424499988555908, -5.902299880981445, -6.315000057220459, -6.184199810028076, -5.219099998474121, -4.372399806976318, -5.522500038146973, -5.3867998123168945, -5.7677001953125, -5.953800201416016, -5.906700134277344, -5.53000020980835, -5.831099987030029, -5.870500087738037, -5.739699840545654, -5.939300060272217, -5.7418999671936035, -5.754700183868408, -5.799600124359131, -5.8597002029418945, -5.927700042724609, -5.926700115203857, -5.771900177001953, -6.744699954986572, -6.757999897003174, -7.052000045776367, -7.115300178527832, -6.863399982452393, -7.14709997177124, -7.1407999992370605, -7.187300205230713, -7.653299808502197, -7.7118000984191895, -6.578999996185303, -7.675600051879883, -7.720900058746338, -6.758600234985352, -7.738900184631348, -7.703800201416016, -7.718299865722656, -7.710999965667725, -7.706200122833252, -7.712100028991699, -7.718299865722656, -7.729000091552734, -7.723700046539307, -7.728799819946289, -7.729499816894531, -7.723999977111816, -7.724999904632568, -7.787199974060059, -7.728400230407715, -7.730400085449219, -6.422500133514404, -7.081900119781494, -7.333799839019775, -7.14139986038208, -6.568600177764893, -6.66349983215332, -7.352099895477295, -5.102799892425537, -6.945700168609619, -4.857100009918213, -5.774499893188477, -6.6921000480651855, -7.3566999435424805, -7.171000003814697, -6.093100070953369, -5.428599834442139, -5.813700199127197, -6.2677001953125, -4.0106000900268555, -5.508500099182129, -5.63100004196167, -5.773099899291992, -6.041999816894531, -6.096799850463867, -6.019899845123291, -5.554500102996826, -5.380899906158447, -5.414100170135498, -5.2729997634887695, -5.427700042724609, -5.922900199890137, -5.902900218963623, -5.53879976272583, -5.495699882507324, -6.063700199127197, -5.945400238037109, -5.763199806213379, -6.007500171661377, -5.9096999168396, -6.150199890136719, -5.937399864196777, -5.9903998374938965, -5.9741997718811035, -5.9644999504089355, -5.952700138092041, -5.967599868774414, -5.985300064086914, -5.990499973297119, -6.587600231170654, -6.587699890136719, -7.216100215911865, -7.21619987487793, -7.21619987487793, -7.21619987487793, -7.216300010681152, -7.216300010681152, -7.216400146484375, -6.2428998947143555, -6.986000061035156, -7.153600215911865, -7.090400218963623, -6.5559000968933105, -7.198599815368652, -7.202000141143799, -7.322199821472168, -7.21619987487793, -7.681099891662598, -6.427199840545654, -7.747099876403809, -7.753300189971924, -7.701300144195557, -7.704100131988525, -7.711400032043457, -7.769899845123291, -5.157899856567383, -7.03249979019165, -7.732999801635742, -6.71619987487793, -6.875999927520752, -5.293900012969971, -6.71619987487793, -5.908699989318848, -4.929500102996826, -6.902100086212158, -6.400599956512451, -6.201499938964844, -6.343599796295166, -5.316800117492676, -5.489299774169922, -6.02869987487793, -5.234899997711182, -5.6894001960754395, -5.260499954223633, -5.290299892425537, -4.560100078582764, -6.162499904632568, -6.170199871063232, -5.906199932098389, -6.00600004196167, -6.184199810028076, -6.345200061798096, -5.801799774169922, -6.13040018081665, -5.527200222015381, -5.966100215911865, -5.8053998947143555, -5.904600143432617, -6.006800174713135, -6.131999969482422, -6.098299980163574, -6.035699844360352, -6.0503997802734375, -5.9704999923706055, -6.094600200653076, -6.0721001625061035, -6.093100070953369, -6.1149001121521, -6.0843000411987305, -6.119699954986572], \"loglift\": [30.0, 29.0, 28.0, 27.0, 26.0, 25.0, 24.0, 23.0, 22.0, 21.0, 20.0, 19.0, 18.0, 17.0, 16.0, 15.0, 14.0, 13.0, 12.0, 11.0, 10.0, 9.0, 8.0, 7.0, 6.0, 5.0, 4.0, 3.0, 2.0, 1.0, 1.0049, 0.9081, 0.8665, 0.8498, 0.8441, 0.8252, 0.823, 0.8039, 0.7984, 0.7979, 0.7884, 0.7859, 0.7845, 0.7757, 0.7659, 0.7605, 0.7572, 0.7463, 0.7442, 0.7428, 0.7428, 0.7197, 0.7195, 0.7194, 0.713, 0.7129, 0.711, 0.7109, 0.71, 0.7098, 0.7013, 0.6814, 0.6934, 0.6537, 0.6269, 0.6472, 0.6431, 0.6732, 0.6568, 0.602, 0.5604, 0.6478, 0.3701, 0.4176, 0.4211, 0.3819, 0.3191, 0.2839, 0.2902, 0.3844, 0.4793, 0.2128, 0.2647, 0.4636, 0.4689, -0.237, 0.3074, 0.4601, 0.1215, 0.4271, 0.0122, 0.2353, 0.1585, -0.1064, 0.1883, -0.1061, 0.2152, -0.1988, -0.4841, -0.0312, -0.0126, 0.0073, -0.3316, 1.4482, 1.303, 1.2481, 1.2481, 1.248, 1.248, 1.248, 1.248, 1.248, 1.2479, 1.2479, 1.2427, 1.1897, 1.1857, 1.1294, 1.1265, 1.1207, 1.1179, 1.117, 1.108, 1.1057, 1.1024, 1.0932, 1.0886, 1.0841, 1.0746, 1.0735, 1.0601, 1.0528, 1.0456, 1.0251, 1.0016, 0.8623, 0.8533, 1.0209, 0.7233, 0.6358, 0.7209, 0.6106, 0.7381, 0.4338, 0.535, 0.482, 0.5912, 0.0469, 0.3551, 0.6953, 0.4438, 0.6222, 0.6717, 0.3461, 0.5112, 0.4908, 0.6476, 0.3402, 0.1415, 0.0451, 0.2582, 0.156, -0.0134, 0.1542, 0.2565, -0.1107, -0.18, 1.561, 1.4817, 1.477, 1.4195, 1.4134, 1.3324, 1.3283, 1.3267, 1.2885, 1.2885, 1.2885, 1.2885, 1.2885, 1.2884, 1.2823, 1.2822, 1.2759, 1.2748, 1.256, 1.2438, 1.2411, 1.2065, 1.1981, 1.1919, 1.1886, 1.1704, 1.1632, 1.1582, 1.1342, 1.1159, 1.0924, 1.0841, 0.9985, 0.8664, 1.0167, 0.4495, 0.8921, 0.6393, 0.9747, 1.0609, 0.9756, 0.9984, 0.9784, 0.6259, 1.0048, 0.2539, 0.7345, 0.7784, 0.3959, 0.4132, 0.6516, 0.0949, 0.4994, 0.1674, 0.384, 0.3697, 0.3394, 0.2846, 0.0219, 0.2311, -0.0315, 0.3027, 0.1592, -0.0133, 0.1007, -0.0158, -0.2476, 0.148, -0.1414, -0.0063, 0.0281, -0.1214, -0.1472, 1.6298, 1.5363, 1.5361, 1.4155, 1.3731, 1.3263, 1.322, 1.3131, 1.2884, 1.2884, 1.2883, 1.2882, 1.2814, 1.2791, 1.2777, 1.2764, 1.2755, 1.1598, 1.145, 1.1418, 1.1195, 1.1161, 1.1149, 1.1091, 1.0959, 1.089, 1.089, 1.0861, 1.0781, 1.0764, 1.057, 1.0211, 0.9403, 1.0202, 0.9821, 0.8291, 0.7646, 0.685, 0.6848, 0.6317, 0.1442, 0.4848, 0.6377, 0.28, 0.8527, 0.5168, 0.3102, 0.339, 0.2628, 0.6091, 0.3667, 0.1455, 0.5059, 0.2674, -0.0081, 0.2745, -0.0174, 0.3381, 0.1129, 0.2618, 0.136, 0.0726, 0.0371, 0.0374, 0.101, -0.1286, -0.0518, 0.0939, 0.2744, 1.4504, 1.4424, 1.4374, 1.4315, 1.4311, 1.3981, 1.3854, 1.3019, 1.2999, 1.2995, 1.2829, 1.2556, 1.2317, 1.2212, 1.2153, 1.1954, 1.1644, 1.1644, 1.1614, 1.1574, 1.1462, 1.1457, 1.1271, 1.1266, 1.1239, 1.1234, 1.1087, 1.1061, 1.1035, 1.0891, 1.0867, 1.0391, 1.0846, 1.0089, 1.0053, 1.0673, 1.0497, 0.8631, 1.0531, 0.8268, 0.8338, 0.6733, 0.9791, 0.6097, 0.5811, 0.4203, 0.7424, 0.5749, 0.6725, 0.8254, 0.549, 0.7539, 0.6631, 0.1053, -0.4443, 0.1418, -0.0084, 0.2928, 0.4187, 0.3637, -0.0244, 0.2461, 0.2558, -0.016, 0.203, -0.1342, -0.1841, -0.1285, -0.0558, 0.0933, -0.4095, 1.7635, 1.6669, 1.6573, 1.6521, 1.649, 1.5494, 1.5433, 1.5386, 1.4935, 1.4218, 1.407, 1.4058, 1.4023, 1.3985, 1.3941, 1.3816, 1.3665, 1.3593, 1.3587, 1.3584, 1.3521, 1.3486, 1.3469, 1.3468, 1.3457, 1.3431, 1.3409, 1.338, 1.3364, 1.3343, 1.3319, 1.2145, 1.2671, 1.2945, 1.2655, 1.1775, 1.1331, 1.2737, 0.782, 1.1856, 0.7135, 0.9211, 1.1205, 1.2679, 1.2081, 0.8857, 0.6486, 0.7766, 0.909, -0.0824, 0.5125, 0.5295, 0.5865, 0.6911, 0.7062, 0.6607, 0.3578, 0.2094, 0.1031, -0.1162, -0.0493, 0.4048, 0.3756, -0.0333, -0.1714, 0.462, 0.2943, -0.0921, 0.3221, 0.1283, 0.578, 0.0448, 0.1519, -0.1703, -0.2534, -0.345, -0.3228, -0.2615, -0.1689, 2.256, 2.2559, 1.9594, 1.9594, 1.9593, 1.9593, 1.9593, 1.9593, 1.9592, 1.8639, 1.7794, 1.6099, 1.5797, 1.4963, 1.4463, 1.4432, 1.4069, 1.4001, 1.3698, 1.3696, 1.3578, 1.3468, 1.3453, 1.3418, 1.3331, 1.3322, 1.3266, 1.3213, 1.3075, 1.2878, 1.2472, 1.0786, 1.2143, 1.0799, 0.7816, 1.1725, 1.0559, 0.9657, 0.9919, 0.5955, 0.5487, 0.7884, 0.3554, 0.581, 0.3101, 0.034, -0.6319, 0.7098, 0.6054, 0.2453, 0.3697, 0.5954, 0.8085, 0.083, 0.5084, -0.3703, 0.1266, -0.1977, -0.0949, 0.0538, 0.3853, 0.2294, -0.0296, 0.0268, -0.465, 0.1202, -0.0636, -0.1038, 0.0313, -0.7058, -0.0987]}, \"token.table\": {\"Topic\": [1, 2, 3, 4, 5, 2, 2, 4, 3, 7, 1, 2, 5, 2, 1, 2, 3, 4, 5, 6, 7, 3, 1, 2, 3, 4, 5, 6, 7, 1, 2, 3, 4, 5, 6, 7, 1, 2, 3, 4, 5, 6, 7, 1, 2, 3, 4, 5, 6, 7, 1, 2, 3, 4, 5, 6, 7, 1, 2, 3, 4, 5, 6, 7, 1, 2, 3, 4, 5, 6, 7, 6, 1, 2, 3, 4, 6, 4, 1, 5, 6, 7, 1, 2, 3, 4, 5, 6, 7, 1, 2, 3, 4, 5, 6, 7, 1, 1, 2, 3, 4, 6, 7, 1, 2, 3, 4, 6, 1, 3, 4, 5, 2, 1, 2, 3, 4, 5, 6, 7, 1, 2, 3, 5, 6, 1, 2, 3, 4, 5, 6, 7, 6, 1, 2, 3, 4, 5, 6, 4, 1, 1, 3, 4, 5, 1, 2, 3, 5, 6, 2, 1, 2, 3, 4, 5, 6, 7, 1, 5, 6, 7, 1, 2, 3, 4, 7, 5, 1, 2, 3, 4, 5, 6, 7, 2, 1, 2, 4, 5, 6, 4, 1, 3, 5, 6, 1, 6, 1, 2, 3, 4, 5, 6, 7, 1, 2, 3, 4, 5, 6, 7, 1, 2, 3, 4, 5, 6, 7, 1, 3, 1, 7, 1, 6, 6, 1, 3, 7, 7, 1, 2, 5, 3, 2, 7, 1, 2, 4, 1, 2, 4, 6, 4, 1, 2, 3, 4, 5, 6, 7, 1, 2, 3, 4, 5, 6, 7, 1, 2, 3, 4, 5, 7, 4, 1, 2, 3, 4, 5, 6, 7, 1, 5, 1, 2, 3, 4, 5, 6, 7, 6, 1, 3, 5, 1, 1, 2, 3, 4, 5, 6, 7, 2, 6, 3, 1, 2, 3, 4, 5, 6, 7, 5, 2, 5, 6, 3, 4, 2, 5, 1, 2, 3, 4, 5, 6, 7, 2, 4, 6, 2, 3, 4, 5, 1, 2, 3, 4, 5, 6, 7, 1, 3, 5, 1, 4, 5, 1, 2, 3, 4, 5, 6, 7, 1, 2, 3, 4, 5, 6, 7, 1, 2, 3, 4, 5, 6, 7, 3, 1, 4, 1, 2, 3, 4, 5, 6, 7, 1, 2, 3, 4, 5, 6, 7, 3, 6, 6, 6, 1, 2, 3, 4, 5, 6, 7, 1, 4, 5, 7, 2, 6, 1, 3, 4, 4, 4, 5, 5, 3, 6, 2, 3, 1, 2, 3, 4, 5, 6, 7, 1, 2, 3, 4, 5, 6, 7, 5, 1, 5, 6, 7, 1, 2, 3, 4, 5, 6, 7, 6, 4, 5, 1, 2, 3, 4, 5, 6, 7, 1, 2, 3, 4, 5, 6, 7, 4, 6, 6, 3, 7, 1, 2, 3, 4, 5, 6, 7, 3, 5, 7, 7, 1, 2, 3, 4, 5, 6, 7, 1, 2, 3, 4, 5, 6, 7, 7, 1, 2, 3, 4, 5, 6, 7, 4, 1, 2, 5, 1, 4, 3, 4, 3, 1, 3, 4, 6, 7, 3, 2, 3, 5, 6, 2, 1, 4, 6, 1, 1, 2, 3, 4, 5, 6, 7, 2, 6, 7, 5, 2, 1, 3, 4, 5, 1, 2, 3, 4, 5, 6, 7, 4, 1, 2, 3, 4, 5, 1, 3, 5, 1, 1, 2, 3, 4, 5, 6, 7, 5, 6, 7, 1, 2, 3, 4, 1, 2, 3, 4, 5, 6, 7, 1, 2, 3, 1, 2, 3, 4, 5, 6, 7, 2, 1, 2, 3, 4, 5, 6, 7, 1, 6, 1, 2, 3, 4, 5, 6, 7, 2, 5, 7, 3, 1, 6, 2, 4, 1, 2, 3, 4, 6, 5, 1, 2, 3, 4, 5, 6, 7, 2, 3, 5, 6, 7, 5, 1, 2, 3, 4, 5, 6, 1, 2, 3, 4, 5, 6, 3, 7, 4, 1, 4, 5, 1, 3, 5, 6, 4, 4, 5, 1, 2, 3, 4, 5, 6, 7, 6, 1, 2, 4, 5, 6, 7, 1, 4, 2, 5, 6, 5, 1, 2, 3, 4, 5, 6, 7, 1, 2, 3, 4, 5, 6, 1, 2, 3, 4, 5, 6, 7, 1, 7, 1, 2, 3, 4, 5, 6, 7, 2, 3, 1, 2, 3, 4, 1, 3, 5, 6, 6, 1, 2, 3, 4, 5, 6, 1, 2, 3, 4, 5, 6, 7, 1, 4, 7, 1, 3, 6, 6, 2, 6, 7, 1, 2, 3, 4, 5, 6, 7, 3, 1, 1, 2, 3, 4, 5, 6, 7, 1, 2, 3, 4, 5, 6, 7, 1, 2, 4, 2, 1, 2, 3, 4, 5, 6, 7, 1, 2, 3, 4, 5, 6, 3, 6, 6, 1, 2, 3, 4, 6, 1, 2, 3, 4, 5, 6, 7, 1, 2, 3, 4, 5, 6, 7, 1, 2, 3, 4, 5, 6, 7, 1, 2, 3, 4, 5, 6, 7, 1, 3, 5, 1, 2, 3, 5, 2, 1, 3, 5, 1, 4, 3, 1, 2, 3, 4, 5, 6, 1, 2, 3, 4, 5, 6, 7, 1, 2, 3, 4, 5, 6, 7, 3, 4, 6, 1, 2, 6, 1, 2, 3, 4, 5, 6, 7, 5, 1, 2, 3, 4, 5, 6, 7, 2, 7, 1, 2, 3, 4, 5, 6, 7, 3, 1, 2, 3, 4, 5, 6, 7, 3, 1, 2, 3, 4, 5, 6, 1, 2, 3, 4, 5, 1, 2, 3, 4, 5, 6, 7, 2, 5, 1, 2, 3, 4, 5, 6, 7, 5, 1, 2, 3, 4, 5, 6, 7, 6, 1, 2, 3, 4, 5, 6, 7, 1, 7, 1, 2, 3, 4, 5, 6, 7, 4, 2, 3, 1, 2, 3, 4, 5, 6, 7, 1, 4, 5, 1, 3, 3, 1, 5, 3, 2, 1, 2, 4, 5, 6, 6, 1, 2, 3, 4, 5, 6, 7, 1, 2, 1, 3, 4, 5, 1, 2, 3, 4, 1, 2, 3, 5, 1, 1, 1, 2, 3, 4, 5, 6, 7, 1, 3, 4, 1, 2, 3, 4, 5, 6, 7, 3, 5, 4, 7, 2, 5, 6, 7, 3, 1, 2, 3, 4, 5, 6, 7, 1, 2, 3, 4, 5, 6, 7, 1, 2, 3, 4, 5, 6, 1, 1, 2, 3, 4, 5, 6, 7, 5, 4, 1, 2, 3, 4, 5, 6, 7, 2, 1, 6, 5, 1, 2, 3, 4, 5, 6, 7, 1, 2, 3, 4, 5, 6, 7, 2, 3, 5, 1, 5, 6, 4, 6, 6, 1, 2, 3, 4, 5, 6, 5, 1, 2, 7, 1, 2, 3, 4, 5, 6, 7, 3, 1, 2, 3, 4, 5, 6, 7, 1, 2, 3, 4, 5, 6, 7, 1, 5, 6, 1, 2, 3, 4, 5, 6, 1, 2, 1, 2, 3, 4, 5, 6, 7, 2, 6, 4, 1, 2, 3, 4, 5, 4, 7, 6, 1, 2, 3, 4, 5, 6, 7, 1, 2, 3, 4, 5, 6, 7, 3, 6, 4, 1, 2, 3, 4, 6, 7, 1, 3, 4, 5, 1, 2, 3, 4, 5, 7, 1, 2, 3, 4, 5, 6, 7, 1, 2, 3, 4, 5, 6, 7, 1, 2, 1, 2, 3, 4, 5, 6, 7, 6, 3, 1, 2, 3, 4, 5, 6, 7, 5, 6, 2, 7, 1, 2, 3, 4, 5, 6, 7, 1, 2, 3, 4, 5, 6, 7, 1, 4, 5, 1, 3, 4, 5, 2, 3, 7, 1, 2, 3, 4, 5, 6, 7, 2, 1, 2, 3, 4, 5, 6, 7, 1, 2, 3, 4, 5, 6], \"Freq\": [0.1290171767678133, 0.2580343535356266, 0.1290171767678133, 0.3870515303034399, 0.1290171767678133, 0.5891705462904383, 0.42139744065868584, 0.42139744065868584, 0.4516983736484789, 0.4516983736484789, 0.4353611849673374, 0.2176805924836687, 0.2176805924836687, 0.5891845345697824, 0.11601326636631205, 0.2320265327326241, 0.2320265327326241, 0.19335544394385343, 0.07734217757754137, 0.03867108878877069, 0.03867108878877069, 0.5825708014182711, 0.3162943461218788, 0.1946426745365408, 0.121651671585338, 0.1459820059024056, 0.121651671585338, 0.0486606686341352, 0.0243303343170676, 0.09995385731625621, 0.13327180975500827, 0.2332256670712645, 0.19990771463251242, 0.13327180975500827, 0.09995385731625621, 0.09995385731625621, 0.12013049792036117, 0.3363653941770113, 0.1441565975044334, 0.16818269708850564, 0.024026099584072234, 0.0720782987522167, 0.1441565975044334, 0.13803054145617005, 0.2760610829123401, 0.22084886632987208, 0.19324275803863805, 0.04140916243685101, 0.08281832487370203, 0.04140916243685101, 0.3283950731888984, 0.21893004879259892, 0.1459533658617326, 0.1459533658617326, 0.0729766829308663, 0.03648834146543315, 0.03648834146543315, 0.25339269542288095, 0.06334817385572024, 0.12669634771144048, 0.12669634771144048, 0.12669634771144048, 0.19004452156716073, 0.06334817385572024, 0.2975661437127728, 0.16531452428487375, 0.16531452428487375, 0.132251619427899, 0.09918871457092426, 0.0661258097139495, 0.03306290485697475, 0.6912451485911589, 0.42567686815602224, 0.14189228938534076, 0.14189228938534076, 0.14189228938534076, 0.14189228938534076, 0.6614881185804287, 0.1964946957374042, 0.1964946957374042, 0.3929893914748084, 0.1964946957374042, 0.15620435137146357, 0.15620435137146357, 0.10413623424764239, 0.15620435137146357, 0.10413623424764239, 0.10413623424764239, 0.26034058561910595, 0.14791634038828266, 0.221874510582424, 0.18489542548535332, 0.110937255291212, 0.14791634038828266, 0.110937255291212, 0.036979085097070666, 0.5733494278513631, 0.4266404395859717, 0.09480898657466039, 0.04740449328733019, 0.28442695972398113, 0.04740449328733019, 0.04740449328733019, 0.16136619656680273, 0.16136619656680273, 0.4840985897004082, 0.6605755539091875, 0.6950440929322212, 0.15087624529385923, 0.45262873588157765, 0.07543812264692962, 0.22631436794078882, 0.5984378156749882, 0.2863901164487757, 0.07159752911219393, 0.07159752911219393, 0.14319505822438786, 0.07159752911219393, 0.21479258733658177, 0.07159752911219393, 0.20109042465090354, 0.6032712739527106, 0.10054521232545177, 0.10054521232545177, 0.6869344916077033, 0.2572262791563291, 0.06430656978908228, 0.12861313957816456, 0.06430656978908228, 0.12861313957816456, 0.2572262791563291, 0.06430656978908228, 0.696441301860738, 0.4930079800902689, 0.0493007980090269, 0.0493007980090269, 0.2958047880541614, 0.0493007980090269, 0.0493007980090269, 0.6786176331977956, 0.5543749044135546, 0.4853073908712599, 0.12132684771781498, 0.12132684771781498, 0.12132684771781498, 0.5640875765197897, 0.1933709198858396, 0.1933709198858396, 0.1933709198858396, 0.3867418397716792, 0.5892131868633149, 0.22706351827805812, 0.07568783942601937, 0.3784391971300969, 0.07568783942601937, 0.07568783942601937, 0.07568783942601937, 0.07568783942601937, 0.14893312330344, 0.14893312330344, 0.59573249321376, 0.14893312330344, 0.1908487802545374, 0.31808130042422894, 0.12723252016969158, 0.1908487802545374, 0.06361626008484579, 0.6596509241439366, 0.15739871732816393, 0.2473408415156862, 0.08994212418752225, 0.1798842483750445, 0.22485531046880564, 0.06745659314064169, 0.02248553104688056, 0.5994982367639096, 0.43997858553991576, 0.14665952851330524, 0.14665952851330524, 0.14665952851330524, 0.14665952851330524, 0.6620555322765677, 0.1326533243016757, 0.3979599729050271, 0.1326533243016757, 0.1326533243016757, 0.27609303866970053, 0.27609303866970053, 0.22452081455079692, 0.22452081455079692, 0.1496805430338646, 0.0748402715169323, 0.22452081455079692, 0.0748402715169323, 0.0748402715169323, 0.3645348031643578, 0.12151160105478594, 0.12151160105478594, 0.12151160105478594, 0.12151160105478594, 0.06075580052739297, 0.12151160105478594, 0.2297820682643828, 0.18382565461150624, 0.18382565461150624, 0.09191282730575312, 0.04595641365287656, 0.18382565461150624, 0.04595641365287656, 0.5641092174113106, 0.5959821924874023, 0.7232819559555539, 0.7679133642580096, 0.35810104147158, 0.35810104147158, 0.7289861394301819, 0.25534524053647834, 0.5106904810729567, 0.25534524053647834, 0.7678426246010914, 0.14137762040934526, 0.565510481637381, 0.14137762040934526, 0.3970649259650903, 0.589228033922528, 0.7678666338060524, 0.23477912550140453, 0.46955825100280907, 0.6791145679709917, 0.4908819420283912, 0.16362731400946373, 0.16362731400946373, 0.16362731400946373, 0.6789462209443441, 0.22057613831129527, 0.15755438450806805, 0.2520870152129089, 0.12604350760645444, 0.06302175380322722, 0.09453263070484083, 0.03151087690161361, 0.41721699283697183, 0.08344339856739437, 0.08344339856739437, 0.08344339856739437, 0.08344339856739437, 0.16688679713478874, 0.08344339856739437, 0.5460755604926203, 0.18202518683087343, 0.18202518683087343, 0.18202518683087343, 0.6745323699799768, 0.7678698344163734, 0.6798420701881419, 0.3448021233896757, 0.17240106169483785, 0.08620053084741892, 0.17240106169483785, 0.08620053084741892, 0.08620053084741892, 0.17240106169483785, 0.29850752920060497, 0.29850752920060497, 0.225959561521237, 0.1129797807606185, 0.225959561521237, 0.15063970768082469, 0.07531985384041234, 0.15063970768082469, 0.03765992692020617, 0.6856612678496609, 0.20123358996726873, 0.6037007699018062, 0.20123358996726873, 0.5597428791191723, 0.2024985923257566, 0.1619988738606053, 0.1619988738606053, 0.24299831079090792, 0.12149915539545396, 0.08099943693030265, 0.040499718465151324, 0.346258255724305, 0.346258255724305, 0.6708591033742167, 0.20610181772846023, 0.10305090886423011, 0.10305090886423011, 0.10305090886423011, 0.20610181772846023, 0.10305090886423011, 0.20610181772846023, 0.6763926268444148, 0.33655718736499574, 0.33655718736499574, 0.16827859368249787, 0.582591076318305, 0.46471651742741443, 0.23218485113979728, 0.46436970227959457, 0.2560586280771872, 0.08535287602572907, 0.08535287602572907, 0.17070575205145813, 0.08535287602572907, 0.2560586280771872, 0.08535287602572907, 0.6020710122438364, 0.27167446404366186, 0.27167446404366186, 0.186303600986894, 0.186303600986894, 0.186303600986894, 0.372607201973788, 0.17594442289228557, 0.31669996120611404, 0.14075553831382848, 0.10556665373537134, 0.10556665373537134, 0.07037776915691424, 0.07037776915691424, 0.24594016690089038, 0.24594016690089038, 0.49188033380178076, 0.21621077647217257, 0.43242155294434514, 0.21621077647217257, 0.17364446283936308, 0.2315259504524841, 0.05788148761312103, 0.17364446283936308, 0.17364446283936308, 0.2315259504524841, 0.05788148761312103, 0.20334133166095167, 0.20334133166095167, 0.20334133166095167, 0.20334133166095167, 0.10167066583047583, 0.10167066583047583, 0.10167066583047583, 0.27144694039525796, 0.27144694039525796, 0.15511253736871883, 0.11633440302653912, 0.03877813434217971, 0.07755626868435941, 0.03877813434217971, 0.5815285607846485, 0.26582628502961214, 0.5316525700592243, 0.2133894875093599, 0.3658105500160455, 0.15242106250668563, 0.060968425002674256, 0.060968425002674256, 0.060968425002674256, 0.030484212501337128, 0.4640103727458263, 0.15467012424860876, 0.15467012424860876, 0.10311341616573917, 0.051556708082869586, 0.051556708082869586, 0.051556708082869586, 0.5826463595387947, 0.6907298323301085, 0.6861099196448568, 0.6874598526974206, 0.18179923798637493, 0.1858392210527388, 0.26663888238001654, 0.16967928878728325, 0.07271969519454997, 0.08887962746000552, 0.0323198645309111, 0.2379539414677112, 0.2379539414677112, 0.2379539414677112, 0.2379539414677112, 0.4442678050707912, 0.4442678050707912, 0.5501221035093143, 0.18337403450310477, 0.18337403450310477, 0.6786896944955142, 0.4552878996497961, 0.4552878996497961, 0.705359122094481, 0.5054369653824978, 0.2527184826912489, 0.6020671662141207, 0.7816314686392148, 0.23303034736807077, 0.09321213894722831, 0.13981820842084247, 0.27963641684168494, 0.13981820842084247, 0.046606069473614155, 0.046606069473614155, 0.25186008899839424, 0.2014880711987154, 0.1007440355993577, 0.1007440355993577, 0.2014880711987154, 0.05037201779967885, 0.05037201779967885, 0.7094521350724471, 0.1976512524323836, 0.3953025048647672, 0.1976512524323836, 0.1976512524323836, 0.2239304307348194, 0.2239304307348194, 0.14928695382321294, 0.14928695382321294, 0.1119652153674097, 0.07464347691160647, 0.07464347691160647, 0.6926937031338466, 0.4543744239500824, 0.4543744239500824, 0.20380333582264692, 0.2853246701517057, 0.12228200149358816, 0.16304266865811753, 0.040760667164529384, 0.12228200149358816, 0.040760667164529384, 0.22936173451073338, 0.3669787752171734, 0.09174469380429336, 0.13761704070644004, 0.04587234690214668, 0.09174469380429336, 0.04587234690214668, 0.5503435185394642, 0.2751717592697321, 0.69408192747532, 0.4421858254270167, 0.22109291271350834, 0.16677139031815974, 0.16677139031815974, 0.12507854273861982, 0.12507854273861982, 0.29184993305677953, 0.08338569515907987, 0.08338569515907987, 0.49456917484421425, 0.24728458742210713, 0.5095159698964566, 0.7678393149939492, 0.27864928330427596, 0.13932464165213798, 0.13932464165213798, 0.13932464165213798, 0.06966232082606899, 0.13932464165213798, 0.13932464165213798, 0.3439387130312083, 0.13757548521248333, 0.16050473274789723, 0.16050473274789723, 0.13757548521248333, 0.04585849507082777, 0.022929247535413887, 0.5509159286014366, 0.16377566722247314, 0.19653080066696776, 0.16377566722247314, 0.1310205337779785, 0.1310205337779785, 0.16377566722247314, 0.06551026688898925, 0.6798400007103375, 0.21059818811596384, 0.21059818811596384, 0.4211963762319277, 0.2199242129995862, 0.4398484259991724, 0.5826115632282414, 0.703821086696351, 0.7685101594317217, 0.3297241744529308, 0.1648620872264654, 0.1648620872264654, 0.3297241744529308, 0.7678744182979256, 0.5825779157408609, 0.08474815646311168, 0.6779852517048934, 0.08474815646311168, 0.08474815646311168, 0.604291451530572, 0.18401041434761825, 0.3680208286952365, 0.18401041434761825, 0.5697414023474129, 0.3752111850033477, 0.12507039500111589, 0.12507039500111589, 0.12507039500111589, 0.12507039500111589, 0.12507039500111589, 0.06253519750055794, 0.6039691554649921, 0.4675109002960626, 0.7678932489512535, 0.7040735386401703, 0.3985069129207086, 0.491403205964184, 0.16380106865472802, 0.16380106865472802, 0.16380106865472802, 0.2683322295043963, 0.13416611475219814, 0.1878325606530774, 0.21466578360351704, 0.08049966885131889, 0.08049966885131889, 0.05366644590087926, 0.4467605752684647, 0.14980254827529002, 0.5992101931011601, 0.07490127413764501, 0.07490127413764501, 0.07490127413764501, 0.5407800518290691, 0.18026001727635635, 0.18026001727635635, 0.3730441887097825, 0.14523035982180774, 0.2178455397327116, 0.14523035982180774, 0.14523035982180774, 0.07261517991090387, 0.07261517991090387, 0.14523035982180774, 0.3868346093241592, 0.1934173046620796, 0.1934173046620796, 0.1880207316432265, 0.1880207316432265, 0.09401036582161325, 0.4700518291080662, 0.12782537179772555, 0.5113014871909022, 0.09586902884829417, 0.09586902884829417, 0.09586902884829417, 0.06391268589886277, 0.031956342949431386, 0.19651773667719716, 0.5895532100315916, 0.19651773667719716, 0.20538967187477838, 0.30808450781216756, 0.15404225390608378, 0.15404225390608378, 0.10269483593738919, 0.051347417968694596, 0.051347417968694596, 0.5891976583120301, 0.08253590482186039, 0.24760771446558116, 0.08253590482186039, 0.08253590482186039, 0.33014361928744157, 0.08253590482186039, 0.08253590482186039, 0.23343188665345485, 0.4668637733069097, 0.06815195421606188, 0.10222793132409282, 0.40891172529637126, 0.10222793132409282, 0.1703798855401547, 0.10222793132409282, 0.06815195421606188, 0.5512480424705793, 0.18374934749019312, 0.18374934749019312, 0.5827711036196696, 0.3577096682332516, 0.3577096682332516, 0.2780383840932337, 0.5560767681864675, 0.10499354450654855, 0.31498063351964567, 0.10499354450654855, 0.4199741780261942, 0.10499354450654855, 0.6773331158864639, 0.20806775003688704, 0.10403387501844352, 0.10403387501844352, 0.10403387501844352, 0.10403387501844352, 0.20806775003688704, 0.10403387501844352, 0.0934103568042169, 0.3736414272168676, 0.2802310704126507, 0.1868207136084338, 0.0934103568042169, 0.6520089776482134, 0.3491867859538584, 0.11639559531795278, 0.23279119063590556, 0.1551941270906037, 0.07759706354530185, 0.03879853177265093, 0.38329951153459213, 0.12776650384486404, 0.12776650384486404, 0.12776650384486404, 0.19164975576729606, 0.06388325192243202, 0.4631704386702097, 0.4631704386702097, 0.6788575475868006, 0.2510443071164511, 0.2510443071164511, 0.2510443071164511, 0.12246418330345055, 0.4898567332138022, 0.2449283666069011, 0.12246418330345055, 0.4646230022143639, 0.6799505366597728, 0.6701109724836366, 0.27140293623079137, 0.12526289364498064, 0.14614004258581076, 0.08350859576332043, 0.10438574470415053, 0.20877148940830106, 0.08350859576332043, 0.4792236889360699, 0.13763025363201498, 0.27526050726402995, 0.13763025363201498, 0.13763025363201498, 0.13763025363201498, 0.13763025363201498, 0.36384354705320304, 0.36384354705320304, 0.5991873546241381, 0.3560345918732356, 0.3560345918732356, 0.6616332845128382, 0.0916786992904888, 0.5500721957429329, 0.13751804893573322, 0.0916786992904888, 0.0458393496452444, 0.0458393496452444, 0.0458393496452444, 0.07991491363686515, 0.1598298272737303, 0.39957456818432574, 0.1598298272737303, 0.07991491363686515, 0.07991491363686515, 0.3340262591111835, 0.14845611516052598, 0.11134208637039449, 0.22268417274078897, 0.07422805758026299, 0.07422805758026299, 0.037114028790131495, 0.43895019039694305, 0.43895019039694305, 0.37282399163459634, 0.12427466387819877, 0.12427466387819877, 0.12427466387819877, 0.12427466387819877, 0.12427466387819877, 0.062137331939099386, 0.3998294535833402, 0.5924286097656867, 0.4159035719437185, 0.13863452398123952, 0.13863452398123952, 0.27726904796247903, 0.14275665777716165, 0.14275665777716165, 0.428269973331485, 0.14275665777716165, 0.6911524932122984, 0.1270694594274564, 0.1270694594274564, 0.2541389188549128, 0.1906041891411846, 0.2541389188549128, 0.0635347297137282, 0.16992457368464922, 0.22656609824619894, 0.16992457368464922, 0.22656609824619894, 0.11328304912309947, 0.056641524561549736, 0.056641524561549736, 0.368505538322254, 0.26370865339663496, 0.5274173067932699, 0.335987832116489, 0.335987832116489, 0.335987832116489, 0.6872013471901288, 0.4425640076184778, 0.4425640076184778, 0.5509498488920836, 0.27717719548583153, 0.06929429887145788, 0.10394144830718682, 0.13858859774291576, 0.13858859774291576, 0.1732357471786447, 0.06929429887145788, 0.757175434483128, 0.3764920539622582, 0.2086452598032607, 0.12518715588195642, 0.12518715588195642, 0.16691620784260855, 0.2086452598032607, 0.08345810392130427, 0.04172905196065214, 0.13351805846910558, 0.13351805846910558, 0.33379514617276396, 0.13351805846910558, 0.06675902923455279, 0.20027708770365837, 0.06675902923455279, 0.5489935960614805, 0.1829978653538268, 0.1829978653538268, 0.5891302675929344, 0.2657464170960487, 0.13287320854802434, 0.13287320854802434, 0.13287320854802434, 0.13287320854802434, 0.1993098128220365, 0.06643660427401217, 0.10109653311652984, 0.2021930662330597, 0.10109653311652984, 0.30328959934958954, 0.10109653311652984, 0.10109653311652984, 0.3794082346258596, 0.1897041173129298, 0.6944607655973523, 0.211240830406552, 0.28165444054206934, 0.14082722027103467, 0.28165444054206934, 0.07041361013551733, 0.17026677442038918, 0.11351118294692612, 0.11351118294692612, 0.22702236589385225, 0.2837779573673153, 0.05675559147346306, 0.05675559147346306, 0.1943606459027697, 0.32393440983794947, 0.1943606459027697, 0.0647868819675899, 0.0647868819675899, 0.1295737639351798, 0.0647868819675899, 0.24118363927870035, 0.2584110420843218, 0.13781922244497163, 0.13781922244497163, 0.12059181963935017, 0.08613701402810726, 0.03445480561124291, 0.21216517308520022, 0.17952437722593864, 0.17952437722593864, 0.14688358136667706, 0.1305631834370463, 0.08160198964815393, 0.06528159171852314, 0.200997591415531, 0.401995182831062, 0.200997591415531, 0.24873799423088092, 0.24873799423088092, 0.24873799423088092, 0.24873799423088092, 0.5891805439189352, 0.16883118963650182, 0.5064935689095055, 0.16883118963650182, 0.5776306694121373, 0.2888153347060686, 0.5910110410271596, 0.30779619038599737, 0.12311847615439894, 0.06155923807719947, 0.12311847615439894, 0.30779619038599737, 0.06155923807719947, 0.24388487317358556, 0.12194243658679278, 0.12194243658679278, 0.12194243658679278, 0.12194243658679278, 0.12194243658679278, 0.12194243658679278, 0.2521996482665783, 0.12609982413328916, 0.042033274711096386, 0.16813309884438554, 0.16813309884438554, 0.12609982413328916, 0.12609982413328916, 0.48317745009684443, 0.24158872504842221, 0.725499467979373, 0.572397990645996, 0.7676876831457256, 0.6887899353024957, 0.2259093820609924, 0.16136384432928028, 0.2259093820609924, 0.16136384432928028, 0.09681830659756817, 0.06454553773171211, 0.06454553773171211, 0.6604895543052488, 0.14690525103574867, 0.23504840165719787, 0.20566735145004814, 0.0881431506214492, 0.0881431506214492, 0.14690525103574867, 0.11752420082859893, 0.45182186958118087, 0.45182186958118087, 0.15909555084123575, 0.3181911016824715, 0.10606370056082383, 0.23864332626185364, 0.053031850280411914, 0.053031850280411914, 0.053031850280411914, 0.5948543383772373, 0.3478493798384687, 0.11594979327948957, 0.11594979327948957, 0.11594979327948957, 0.11594979327948957, 0.17392468991923435, 0.05797489663974478, 0.6735449553614773, 0.29046175302725163, 0.24205146085604304, 0.29046175302725163, 0.09682058434241722, 0.04841029217120861, 0.04841029217120861, 0.10530469648288251, 0.21060939296576503, 0.5265234824144126, 0.10530469648288251, 0.10530469648288251, 0.13988093468556884, 0.20982140202835325, 0.13988093468556884, 0.2797618693711377, 0.06994046734278442, 0.06994046734278442, 0.13988093468556884, 0.35052141442633555, 0.35052141442633555, 0.17805398933311609, 0.17805398933311609, 0.17805398933311609, 0.17805398933311609, 0.08902699466655804, 0.13354049199983706, 0.08902699466655804, 0.6772321691172233, 0.22643783074327495, 0.2587860922780285, 0.12939304613901426, 0.19408956920852138, 0.06469652306950713, 0.09704478460426069, 0.06469652306950713, 0.7259555474399892, 0.44583953019039646, 0.10490341886832859, 0.15735512830249287, 0.13112927358541074, 0.07867756415124644, 0.052451709434164294, 0.026225854717082147, 0.5940461649488158, 0.2970230824744079, 0.21521401698029277, 0.16141051273521956, 0.16141051273521956, 0.21521401698029277, 0.05380350424507319, 0.10760700849014639, 0.10760700849014639, 0.6564473563610631, 0.5828061450274818, 0.8402937705607322, 0.3059314405772533, 0.1699619114318074, 0.2719390582908918, 0.10197714685908443, 0.10197714685908443, 0.06798476457272296, 0.03399238228636148, 0.3682506405708811, 0.6540771804107949, 0.46592005535465936, 0.4589469836560801, 0.5825769533979883, 0.5826227750020616, 0.3261806154746433, 0.3261806154746433, 0.7942245854353137, 0.5891902185256402, 0.14801269919378568, 0.29602539838757136, 0.14801269919378568, 0.29602539838757136, 0.6961630502587226, 0.6858994047667063, 0.2101573921612977, 0.4203147843225954, 0.052539348040324424, 0.10507869608064885, 0.10507869608064885, 0.10507869608064885, 0.052539348040324424, 0.23984221745886972, 0.47968443491773943, 0.285636936430714, 0.42845540464607096, 0.142818468215357, 0.142818468215357, 0.19395409080799925, 0.5818622724239978, 0.3336650722190382, 0.6673301444380764, 0.16590509378760265, 0.16590509378760265, 0.49771528136280796, 0.16590509378760265, 0.37157726818407005, 0.5595947991971645, 0.32552361017976755, 0.10850787005992252, 0.05425393502996126, 0.16276180508988378, 0.16276180508988378, 0.16276180508988378, 0.05425393502996126, 0.4811879723674038, 0.16039599078913458, 0.16039599078913458, 0.2327550285645431, 0.13965301713872585, 0.09310201142581724, 0.13965301713872585, 0.18620402285163448, 0.09310201142581724, 0.18620402285163448, 0.39987616917268815, 0.3516901565492558, 0.4913174758703334, 0.4913174758703334, 0.18384682622313547, 0.18384682622313547, 0.36769365244627095, 0.18384682622313547, 0.7566525072672877, 0.09733771752445115, 0.2920131525733535, 0.3163475819544662, 0.09733771752445115, 0.07300328814333837, 0.07300328814333837, 0.02433442938111279, 0.15166329416496177, 0.2816604034492147, 0.1733294790456706, 0.1733294790456706, 0.10833092440354412, 0.06499855464212648, 0.04333236976141765, 0.25103604064605056, 0.20082883251684044, 0.10041441625842022, 0.10041441625842022, 0.25103604064605056, 0.05020720812921011, 0.5526549885209908, 0.2118762067949543, 0.1271257240769726, 0.16950096543596344, 0.2118762067949543, 0.1271257240769726, 0.1271257240769726, 0.04237524135899086, 0.6748991579708005, 0.6929064086509743, 0.19880064469236122, 0.15904051575388897, 0.19880064469236122, 0.15904051575388897, 0.11928038681541672, 0.07952025787694449, 0.07952025787694449, 0.5891862355852622, 0.270260695232532, 0.270260695232532, 0.671816526498078, 0.22866338470706424, 0.11433169235353212, 0.0857487692651491, 0.0857487692651491, 0.20008046161868123, 0.22866338470706424, 0.05716584617676606, 0.3567961791246123, 0.17839808956230616, 0.04459952239057654, 0.08919904478115308, 0.1337985671717296, 0.1337985671717296, 0.04459952239057654, 0.25630229155013, 0.25630229155013, 0.51260458310026, 0.49386621854466034, 0.1646220728482201, 0.1646220728482201, 0.5504559597947577, 0.27522797989737885, 0.726778545556065, 0.4198078512949117, 0.10495196282372793, 0.10495196282372793, 0.10495196282372793, 0.10495196282372793, 0.10495196282372793, 0.42371001361564825, 0.45562119934191675, 0.22781059967095837, 0.22781059967095837, 0.3000947143789627, 0.1615894615886722, 0.1615894615886722, 0.1615894615886722, 0.09233683519352698, 0.09233683519352698, 0.023084208798381745, 0.5930353670375726, 0.21769569062626645, 0.19790517329660587, 0.17811465596694528, 0.19790517329660587, 0.07916206931864235, 0.11874310397796352, 0.039581034659321175, 0.1856046147435865, 0.2227255376923038, 0.2227255376923038, 0.1484836917948692, 0.1113627688461519, 0.0742418458974346, 0.0742418458974346, 0.6744672672681737, 0.1927049335051925, 0.09635246675259625, 0.3843540957064982, 0.1537416382825993, 0.07687081914129965, 0.1537416382825993, 0.1537416382825993, 0.07687081914129965, 0.2839119574460896, 0.5678239148921792, 0.31633974261779146, 0.15816987130889573, 0.13180822609074644, 0.15816987130889573, 0.10544658087259715, 0.07908493565444787, 0.026361645218149286, 0.4431414617257423, 0.4431414617257423, 0.4597542739484879, 0.2238756919380866, 0.33581353790712987, 0.1119378459690433, 0.1119378459690433, 0.2238756919380866, 0.249687412779512, 0.249687412779512, 0.35899410370260393, 0.2934356020890639, 0.17606136125343833, 0.15649898778083407, 0.13693661430822981, 0.11737424083562556, 0.0978118673630213, 0.03912474694520852, 0.3069462489437152, 0.1534731244718576, 0.1534731244718576, 0.0767365622359288, 0.0767365622359288, 0.0767365622359288, 0.1534731244718576, 0.5825815184734648, 0.47268993962154504, 0.6480812426755337, 0.3991656497258302, 0.1995828248629151, 0.09979141243145755, 0.09979141243145755, 0.09979141243145755, 0.5085567647657614, 0.2571108237973382, 0.2571108237973382, 0.2571108237973382, 0.2571108237973382, 0.310701702403164, 0.37284204288379685, 0.06214034048063281, 0.12428068096126561, 0.06214034048063281, 0.06214034048063281, 0.17310233356030025, 0.12982675017022519, 0.3029290837305254, 0.08655116678015012, 0.12982675017022519, 0.08655116678015012, 0.04327558339007506, 0.1357999105702061, 0.21727985691232976, 0.16295989268424732, 0.16295989268424732, 0.21727985691232976, 0.08147994634212366, 0.02715998211404122, 0.24495038002381392, 0.48990076004762784, 0.14557367511229502, 0.07278683755614751, 0.2547539314465163, 0.29114735022459004, 0.14557367511229502, 0.07278683755614751, 0.036393418778073755, 0.4681666450435547, 0.5827403211454872, 0.3094705928193443, 0.2836813767510656, 0.18052451247795084, 0.10315686427311477, 0.051578432136557384, 0.07736764820483608, 0.025789216068278692, 0.5733607410263801, 0.28668037051319006, 0.3375912823868598, 0.3375912823868598, 0.09339387989973921, 0.28018163969921767, 0.14009081984960883, 0.18678775979947843, 0.09339387989973921, 0.14009081984960883, 0.09339387989973921, 0.14456529234137677, 0.4336958770241303, 0.14456529234137677, 0.09637686156091785, 0.048188430780458924, 0.048188430780458924, 0.09637686156091785, 0.26339807098467993, 0.5267961419693599, 0.3514342245325303, 0.161454549111697, 0.161454549111697, 0.161454549111697, 0.322909098223394, 0.2680679227254814, 0.2680679227254814, 0.2680679227254814, 0.1903950317466618, 0.1903950317466618, 0.1903950317466618, 0.1903950317466618, 0.0951975158733309, 0.0951975158733309, 0.06346501058222061, 0.6059143517733205, 0.19162984236632438, 0.14904543295158562, 0.19162984236632438, 0.08516881882947751, 0.17033763765895502, 0.12775322824421625, 0.08516881882947751, 0.1980441611476572, 0.33007360191276197, 0.0660147203825524, 0.1980441611476572, 0.1320294407651048, 0.508957591722048], \"Term\": [\"ability\", \"ability\", \"ability\", \"ability\", \"ability\", \"accomplishment\", \"accusation\", \"accusation\", \"advancement\", \"advancement\", \"advocate\", \"advocate\", \"advocate\", \"affiliate\", \"afghanistan\", \"afghanistan\", \"afghanistan\", \"afghanistan\", \"afghanistan\", \"afghanistan\", \"afghanistan\", \"africa\", \"agency\", \"agency\", \"agency\", \"agency\", \"agency\", \"agency\", \"agency\", \"air\", \"air\", \"air\", \"air\", \"air\", \"air\", \"air\", \"air_force\", \"air_force\", \"air_force\", \"air_force\", \"air_force\", \"air_force\", \"air_force\", \"aircraft\", \"aircraft\", \"aircraft\", \"aircraft\", \"aircraft\", \"aircraft\", \"aircraft\", \"airspace\", \"airspace\", \"airspace\", \"airspace\", \"airspace\", \"airspace\", \"airspace\", \"album\", \"album\", \"album\", \"album\", \"album\", \"album\", \"album\", \"american\", \"american\", \"american\", \"american\", \"american\", \"american\", \"american\", \"americana\", \"animal\", \"animal\", \"animal\", \"animal\", \"animal\", \"annex\", \"appalachian\", \"appalachian\", \"appalachian\", \"appalachian\", \"april\", \"april\", \"april\", \"april\", \"april\", \"april\", \"april\", \"area\", \"area\", \"area\", \"area\", \"area\", \"area\", \"area\", \"armor\", \"army\", \"army\", \"army\", \"army\", \"army\", \"army\", \"asia\", \"asia\", \"asia\", \"attempt\", \"auditorium\", \"august\", \"august\", \"august\", \"august\", \"aura\", \"back\", \"back\", \"back\", \"back\", \"back\", \"back\", \"back\", \"baghdad\", \"baghdad\", \"baghdad\", \"baghdad\", \"ballad\", \"band\", \"band\", \"band\", \"band\", \"band\", \"band\", \"band\", \"barn\", \"bee\", \"bee\", \"bee\", \"bee\", \"bee\", \"bee\", \"behavior\", \"belonging\", \"benefit\", \"benefit\", \"benefit\", \"benefit\", \"bidder\", \"blade\", \"blade\", \"blade\", \"blade\", \"blow\", \"blue\", \"blue\", \"blue\", \"blue\", \"blue\", \"blue\", \"blue\", \"bluegrass\", \"bluegrass\", \"bluegrass\", \"bluegrass\", \"bomb\", \"bomb\", \"bomb\", \"bomb\", \"bomb\", \"boot\", \"border\", \"border\", \"border\", \"border\", \"border\", \"border\", \"border\", \"box\", \"brain\", \"brain\", \"brain\", \"brain\", \"brain\", \"breakaway\", \"briefing\", \"briefing\", \"briefing\", \"briefing\", \"bruce\", \"bruce\", \"business\", \"business\", \"business\", \"business\", \"business\", \"business\", \"business\", \"california\", \"california\", \"california\", \"california\", \"california\", \"california\", \"california\", \"camera\", \"camera\", \"camera\", \"camera\", \"camera\", \"camera\", \"camera\", \"cannon\", \"caption\", \"carter\", \"caveman\", \"celtic\", \"celtic\", \"centre\", \"chair\", \"chair\", \"chair\", \"chance\", \"chemical\", \"chemical\", \"chemical\", \"chopper\", \"cleric\", \"club\", \"col\", \"col\", \"collateral\", \"collective\", \"collective\", \"collective\", \"collective\", \"combatant\", \"company\", \"company\", \"company\", \"company\", \"company\", \"company\", \"company\", \"computer\", \"computer\", \"computer\", \"computer\", \"computer\", \"computer\", \"computer\", \"concept\", \"concept\", \"concept\", \"concept\", \"confidence\", \"conflict\", \"conservative\", \"contract\", \"contract\", \"contract\", \"contract\", \"contract\", \"contract\", \"contract\", \"contrary\", \"contrary\", \"control\", \"control\", \"control\", \"control\", \"control\", \"control\", \"control\", \"convolution\", \"corner\", \"corner\", \"corner\", \"counter\", \"country\", \"country\", \"country\", \"country\", \"country\", \"country\", \"country\", \"covert\", \"covert\", \"coward\", \"cowboy\", \"cowboy\", \"cowboy\", \"cowboy\", \"cowboy\", \"cowboy\", \"cowboy\", \"crater\", \"crime\", \"crime\", \"crime\", \"criterion\", \"cuba\", \"curiosity\", \"curiosity\", \"custom\", \"custom\", \"custom\", \"custom\", \"custom\", \"custom\", \"custom\", \"cutter\", \"dakota\", \"dakota\", \"dateline\", \"dateline\", \"dateline\", \"dateline\", \"day\", \"day\", \"day\", \"day\", \"day\", \"day\", \"day\", \"dead\", \"dead\", \"dead\", \"debate\", \"debate\", \"debate\", \"december\", \"december\", \"december\", \"december\", \"december\", \"december\", \"december\", \"decision\", \"decision\", \"decision\", \"decision\", \"decision\", \"decision\", \"decision\", \"defense\", \"defense\", \"defense\", \"defense\", \"defense\", \"defense\", \"defense\", \"democracy\", \"democrat\", \"democrat\", \"department\", \"department\", \"department\", \"department\", \"department\", \"department\", \"department\", \"design\", \"design\", \"design\", \"design\", \"design\", \"design\", \"design\", \"determination\", \"dish\", \"dissonance\", \"dovetail\", \"drone\", \"drone\", \"drone\", \"drone\", \"drone\", \"drone\", \"drone\", \"due\", \"due\", \"due\", \"due\", \"elizabeth\", \"elizabeth\", \"energy\", \"energy\", \"energy\", \"engagement\", \"envy\", \"envy\", \"expense\", \"export\", \"export\", \"farce\", \"father\", \"february\", \"february\", \"february\", \"february\", \"february\", \"february\", \"february\", \"federal\", \"federal\", \"federal\", \"federal\", \"federal\", \"federal\", \"federal\", \"fell\", \"fence\", \"fence\", \"fence\", \"fence\", \"first\", \"first\", \"first\", \"first\", \"first\", \"first\", \"first\", \"fishing\", \"fixture\", \"fixture\", \"foot\", \"foot\", \"foot\", \"foot\", \"foot\", \"foot\", \"foot\", \"force\", \"force\", \"force\", \"force\", \"force\", \"force\", \"force\", \"fork\", \"fork\", \"forth\", \"france\", \"france\", \"friday\", \"friday\", \"friday\", \"friday\", \"friday\", \"friday\", \"friday\", \"front\", \"front\", \"gallery\", \"gibbon\", \"going\", \"going\", \"going\", \"going\", \"going\", \"going\", \"going\", \"government\", \"government\", \"government\", \"government\", \"government\", \"government\", \"government\", \"grandchild\", \"ground\", \"ground\", \"ground\", \"ground\", \"ground\", \"ground\", \"ground\", \"guantanamo\", \"guard\", \"guard\", \"guard\", \"gun\", \"gun\", \"gunman\", \"gunrunner\", \"hancock\", \"harmony\", \"harmony\", \"harmony\", \"harmony\", \"harrier\", \"helen\", \"helicopter\", \"helicopter\", \"helicopter\", \"helicopter\", \"hijack\", \"hive\", \"hive\", \"hive\", \"horney\", \"house\", \"house\", \"house\", \"house\", \"house\", \"house\", \"house\", \"humility\", \"idiom\", \"ignatius\", \"impact\", \"inability\", \"individual\", \"individual\", \"individual\", \"individual\", \"industry\", \"industry\", \"industry\", \"industry\", \"industry\", \"industry\", \"industry\", \"innocent\", \"inspector\", \"inspector\", \"inspector\", \"inspector\", \"inspector\", \"integration\", \"integration\", \"integration\", \"integrator\", \"intelligence\", \"intelligence\", \"intelligence\", \"intelligence\", \"intelligence\", \"intelligence\", \"intelligence\", \"investigation\", \"investigation\", \"investigation\", \"iran\", \"iran\", \"iran\", \"iran\", \"iraq\", \"iraq\", \"iraq\", \"iraq\", \"iraq\", \"iraq\", \"iraq\", \"iraqi\", \"iraqi\", \"iraqi\", \"issue\", \"issue\", \"issue\", \"issue\", \"issue\", \"issue\", \"issue\", \"jamming\", \"january\", \"january\", \"january\", \"january\", \"january\", \"january\", \"january\", \"jazz\", \"jazz\", \"june\", \"june\", \"june\", \"june\", \"june\", \"june\", \"june\", \"justice\", \"justice\", \"justice\", \"kandahar\", \"kentucky\", \"kentucky\", \"kill\", \"kill\", \"killing\", \"killing\", \"killing\", \"killing\", \"killing\", \"ladder\", \"land\", \"land\", \"land\", \"land\", \"land\", \"land\", \"land\", \"landing\", \"landing\", \"landing\", \"landing\", \"landing\", \"launching\", \"law\", \"law\", \"law\", \"law\", \"law\", \"law\", \"law_enforcement\", \"law_enforcement\", \"law_enforcement\", \"law_enforcement\", \"law_enforcement\", \"law_enforcement\", \"leather\", \"leather\", \"legality\", \"legislation\", \"legislation\", \"legislation\", \"leo\", \"leo\", \"leo\", \"leo\", \"liberal\", \"liberalism\", \"libya\", \"like\", \"like\", \"like\", \"like\", \"like\", \"like\", \"like\", \"lineup\", \"low\", \"low\", \"low\", \"low\", \"low\", \"low\", \"malfunction\", \"malfunction\", \"malice\", \"mandolin\", \"mandolin\", \"marc\", \"march\", \"march\", \"march\", \"march\", \"march\", \"march\", \"march\", \"market\", \"market\", \"market\", \"market\", \"market\", \"market\", \"may\", \"may\", \"may\", \"may\", \"may\", \"may\", \"may\", \"mean\", \"mean\", \"member\", \"member\", \"member\", \"member\", \"member\", \"member\", \"member\", \"memo\", \"metropolitan\", \"mexican\", \"mexican\", \"mexican\", \"mexican\", \"militant\", \"militant\", \"militant\", \"militant\", \"mill\", \"missile\", \"missile\", \"missile\", \"missile\", \"missile\", \"missile\", \"mission\", \"mission\", \"mission\", \"mission\", \"mission\", \"mission\", \"mission\", \"mitchell\", \"mod\", \"mod\", \"modern\", \"modern\", \"modern\", \"monroe\", \"morgan\", \"morgan\", \"museum\", \"music\", \"music\", \"music\", \"music\", \"music\", \"music\", \"music\", \"nan\", \"nancy\", \"national\", \"national\", \"national\", \"national\", \"national\", \"national\", \"national\", \"navy\", \"navy\", \"navy\", \"navy\", \"navy\", \"navy\", \"navy\", \"network\", \"network\", \"network\", \"newton\", \"night\", \"night\", \"night\", \"night\", \"night\", \"night\", \"night\", \"northern\", \"northern\", \"northern\", \"northern\", \"northern\", \"northern\", \"northrop\", \"northrop\", \"novelty\", \"november\", \"november\", \"november\", \"november\", \"november\", \"number\", \"number\", \"number\", \"number\", \"number\", \"number\", \"number\", \"october\", \"october\", \"october\", \"october\", \"october\", \"october\", \"october\", \"official\", \"official\", \"official\", \"official\", \"official\", \"official\", \"official\", \"one\", \"one\", \"one\", \"one\", \"one\", \"one\", \"one\", \"opinion\", \"opinion\", \"opinion\", \"opposition\", \"opposition\", \"opposition\", \"opposition\", \"outline\", \"outside\", \"outside\", \"outside\", \"package\", \"package\", \"pad\", \"pakistan\", \"pakistan\", \"pakistan\", \"pakistan\", \"pakistan\", \"pakistan\", \"park\", \"park\", \"park\", \"park\", \"park\", \"park\", \"park\", \"part\", \"part\", \"part\", \"part\", \"part\", \"part\", \"part\", \"passenger\", \"passenger\", \"pause\", \"pea\", \"pelham\", \"pen\", \"people\", \"people\", \"people\", \"people\", \"people\", \"people\", \"people\", \"perception\", \"pilot\", \"pilot\", \"pilot\", \"pilot\", \"pilot\", \"pilot\", \"pilot\", \"pincus\", \"pincus\", \"plane\", \"plane\", \"plane\", \"plane\", \"plane\", \"plane\", \"plane\", \"plurality\", \"point\", \"point\", \"point\", \"point\", \"point\", \"point\", \"point\", \"poitier\", \"police\", \"police\", \"police\", \"police\", \"police\", \"police\", \"poll\", \"poll\", \"poll\", \"poll\", \"poll\", \"pound\", \"pound\", \"pound\", \"pound\", \"pound\", \"pound\", \"pound\", \"practice\", \"practice\", \"predator\", \"predator\", \"predator\", \"predator\", \"predator\", \"predator\", \"predator\", \"preliminary\", \"president\", \"president\", \"president\", \"president\", \"president\", \"president\", \"president\", \"prey\", \"privacy\", \"privacy\", \"privacy\", \"privacy\", \"privacy\", \"privacy\", \"privacy\", \"progress\", \"progress\", \"project\", \"project\", \"project\", \"project\", \"project\", \"project\", \"project\", \"proof\", \"prototype\", \"province\", \"public\", \"public\", \"public\", \"public\", \"public\", \"public\", \"public\", \"pull\", \"punishment\", \"purge\", \"quarter\", \"questioning\", \"ramadan\", \"rate\", \"rate\", \"rebel\", \"recognition\", \"region\", \"region\", \"region\", \"region\", \"remake\", \"reminiscence\", \"report\", \"report\", \"report\", \"report\", \"report\", \"report\", \"report\", \"reporter\", \"reporter\", \"resident\", \"resident\", \"resident\", \"resident\", \"resolution\", \"resolution\", \"respondent\", \"respondent\", \"result\", \"result\", \"result\", \"result\", \"retirement\", \"ricardo\", \"right\", \"right\", \"right\", \"right\", \"right\", \"right\", \"right\", \"robotics\", \"robotics\", \"robotics\", \"rodeo\", \"rodeo\", \"rodeo\", \"rodeo\", \"rodeo\", \"rodeo\", \"rodeo\", \"rogue\", \"rover\", \"royal\", \"royal\", \"runway\", \"runway\", \"runway\", \"runway\", \"sadat\", \"say\", \"say\", \"say\", \"say\", \"say\", \"say\", \"say\", \"section\", \"section\", \"section\", \"section\", \"section\", \"section\", \"section\", \"security\", \"security\", \"security\", \"security\", \"security\", \"security\", \"sensitivity\", \"set\", \"set\", \"set\", \"set\", \"set\", \"set\", \"set\", \"shave\", \"shop\", \"show\", \"show\", \"show\", \"show\", \"show\", \"show\", \"show\", \"sight\", \"solo\", \"solo\", \"somalia\", \"song\", \"song\", \"song\", \"song\", \"song\", \"song\", \"song\", \"sound\", \"sound\", \"sound\", \"sound\", \"sound\", \"sound\", \"sound\", \"southwest\", \"southwest\", \"southwest\", \"spending\", \"spending\", \"spending\", \"stanton\", \"stanton\", \"strategist\", \"study\", \"study\", \"study\", \"study\", \"study\", \"study\", \"subpoena\", \"supply\", \"supply\", \"supply\", \"surveillance\", \"surveillance\", \"surveillance\", \"surveillance\", \"surveillance\", \"surveillance\", \"surveillance\", \"syracuse\", \"system\", \"system\", \"system\", \"system\", \"system\", \"system\", \"system\", \"take\", \"take\", \"take\", \"take\", \"take\", \"take\", \"take\", \"tax\", \"tax\", \"tax\", \"team\", \"team\", \"team\", \"team\", \"team\", \"team\", \"technical\", \"technical\", \"technology\", \"technology\", \"technology\", \"technology\", \"technology\", \"technology\", \"technology\", \"terror\", \"terror\", \"terrorism\", \"texas\", \"texas\", \"texas\", \"texas\", \"texas\", \"thales\", \"thales\", \"thunder\", \"time\", \"time\", \"time\", \"time\", \"time\", \"time\", \"time\", \"today\", \"today\", \"today\", \"today\", \"today\", \"today\", \"today\", \"torture\", \"trading\", \"transgression\", \"transportation\", \"transportation\", \"transportation\", \"transportation\", \"transportation\", \"tree\", \"trial\", \"trial\", \"trial\", \"trial\", \"troop\", \"troop\", \"troop\", \"troop\", \"troop\", \"troop\", \"tuesday\", \"tuesday\", \"tuesday\", \"tuesday\", \"tuesday\", \"tuesday\", \"tuesday\", \"two\", \"two\", \"two\", \"two\", \"two\", \"two\", \"two\", \"united_nations\", \"united_nations\", \"united_states\", \"united_states\", \"united_states\", \"united_states\", \"united_states\", \"united_states\", \"united_states\", \"upbeat\", \"vegetable\", \"vehicle\", \"vehicle\", \"vehicle\", \"vehicle\", \"vehicle\", \"vehicle\", \"vehicle\", \"voter\", \"voter\", \"walter\", \"walter\", \"war\", \"war\", \"war\", \"war\", \"war\", \"war\", \"war\", \"weapon\", \"weapon\", \"weapon\", \"weapon\", \"weapon\", \"weapon\", \"weapon\", \"wedding\", \"wedding\", \"west\", \"wife\", \"wife\", \"wife\", \"wife\", \"wing\", \"wing\", \"wing\", \"world\", \"world\", \"world\", \"world\", \"world\", \"world\", \"world\", \"wright\", \"year\", \"year\", \"year\", \"year\", \"year\", \"year\", \"year\", \"yesterday\", \"yesterday\", \"yesterday\", \"yesterday\", \"yesterday\", \"ziegler\"]}, \"R\": 30, \"lambda.step\": 0.01, \"plot.opts\": {\"xlab\": \"PC1\", \"ylab\": \"PC2\"}, \"topic.order\": [4, 5, 3, 6, 7, 1, 2]};\n",
       "\n",
       "function LDAvis_load_lib(url, callback){\n",
       "  var s = document.createElement('script');\n",
       "  s.src = url;\n",
       "  s.async = true;\n",
       "  s.onreadystatechange = s.onload = callback;\n",
       "  s.onerror = function(){console.warn(\"failed to load library \" + url);};\n",
       "  document.getElementsByTagName(\"head\")[0].appendChild(s);\n",
       "}\n",
       "\n",
       "if(typeof(LDAvis) !== \"undefined\"){\n",
       "   // already loaded: just create the visualization\n",
       "   !function(LDAvis){\n",
       "       new LDAvis(\"#\" + \"ldavis_el3962961761192645170548838\", ldavis_el3962961761192645170548838_data);\n",
       "   }(LDAvis);\n",
       "}else if(typeof define === \"function\" && define.amd){\n",
       "   // require.js is available: use it to load d3/LDAvis\n",
       "   require.config({paths: {d3: \"https://cdnjs.cloudflare.com/ajax/libs/d3/3.5.5/d3.min\"}});\n",
       "   require([\"d3\"], function(d3){\n",
       "      window.d3 = d3;\n",
       "      LDAvis_load_lib(\"https://cdn.rawgit.com/bmabey/pyLDAvis/files/ldavis.v1.0.0.js\", function(){\n",
       "        new LDAvis(\"#\" + \"ldavis_el3962961761192645170548838\", ldavis_el3962961761192645170548838_data);\n",
       "      });\n",
       "    });\n",
       "}else{\n",
       "    // require.js not available: dynamically load d3 & LDAvis\n",
       "    LDAvis_load_lib(\"https://cdnjs.cloudflare.com/ajax/libs/d3/3.5.5/d3.min.js\", function(){\n",
       "         LDAvis_load_lib(\"https://cdn.rawgit.com/bmabey/pyLDAvis/files/ldavis.v1.0.0.js\", function(){\n",
       "                 new LDAvis(\"#\" + \"ldavis_el3962961761192645170548838\", ldavis_el3962961761192645170548838_data);\n",
       "            })\n",
       "         });\n",
       "}\n",
       "</script>"
      ],
      "text/plain": [
       "PreparedData(topic_coordinates=              x         y  topics  cluster       Freq\n",
       "topic                                                \n",
       "3     -0.003718  0.023331       1        1  23.120043\n",
       "4     -0.028974  0.015203       2        1  17.546066\n",
       "2     -0.025772 -0.040297       3        1  17.014535\n",
       "5     -0.015934  0.012281       4        1  14.596703\n",
       "6      0.018303  0.002922       5        1  11.528204\n",
       "0      0.024384 -0.007800       6        1   9.852068\n",
       "1      0.031711 -0.005641       7        1   6.342381, topic_info=          Term        Freq       Total Category  logprob  loglift\n",
       "234  air_force   41.000000   41.000000  Default  30.0000  30.0000\n",
       "150      drone  247.000000  247.000000  Default  29.0000  29.0000\n",
       "66        like   47.000000   47.000000  Default  28.0000  28.0000\n",
       "238      april   19.000000   19.000000  Default  27.0000  27.0000\n",
       "205       song   34.000000   34.000000  Default  26.0000  26.0000\n",
       "..         ...         ...         ...      ...      ...      ...\n",
       "814  president    1.839849   30.913562   Topic7  -6.0721  -0.0636\n",
       "226      world    1.801656   31.513427   Topic7  -6.0931  -0.1038\n",
       "351       take    1.762841   26.938985   Topic7  -6.1149   0.0313\n",
       "308   official    1.817627   58.047055   Topic7  -6.0843  -0.7058\n",
       "280     ground    1.754369   30.529566   Topic7  -6.1197  -0.0987\n",
       "\n",
       "[530 rows x 6 columns], token_table=      Topic      Freq       Term\n",
       "term                            \n",
       "558       1  0.129017    ability\n",
       "558       2  0.258034    ability\n",
       "558       3  0.129017    ability\n",
       "558       4  0.387052    ability\n",
       "558       5  0.129017    ability\n",
       "...     ...       ...        ...\n",
       "919       2  0.330074  yesterday\n",
       "919       3  0.066015  yesterday\n",
       "919       4  0.198044  yesterday\n",
       "919       5  0.132029  yesterday\n",
       "2493      6  0.508958    ziegler\n",
       "\n",
       "[1230 rows x 3 columns], R=30, lambda_step=0.01, plot_opts={'xlab': 'PC1', 'ylab': 'PC2'}, topic_order=[4, 5, 3, 6, 7, 1, 2])"
      ]
     },
     "execution_count": 25,
     "metadata": {},
     "output_type": "execute_result"
    }
   ],
   "source": [
    "import pyLDAvis.gensim\n",
    "import pickle \n",
    "import pyLDAvis\n",
    "# Visualize the topics\n",
    "pyLDAvis.enable_notebook()\n",
    "LDAvis_data_filepath = os.path.join('/Users/Mihir/ldavis_prepared_'+str(num_topics))\n",
    "# # this is a bit time consuming - make the if statement True\n",
    "# # if you want to execute visualization prep yourself\n",
    "if 1 == 1:\n",
    "    LDAvis_prepared = pyLDAvis.gensim.prepare(lda_model, corpus, id2word)\n",
    "    with open(LDAvis_data_filepath, 'wb') as f:\n",
    "        pickle.dump(LDAvis_prepared, f)\n",
    "# load the pre-prepared pyLDAvis data from disk\n",
    "with open(LDAvis_data_filepath, 'rb') as f:\n",
    "    LDAvis_prepared = pickle.load(f)\n",
    "pyLDAvis.save_html(LDAvis_prepared, '/Users/Mihir/ldavis_prepared_'+ str(num_topics) +'.html')\n",
    "LDAvis_prepared"
   ]
  },
  {
   "cell_type": "code",
   "execution_count": 44,
   "id": "composite-lotus",
   "metadata": {},
   "outputs": [
    {
     "name": "stdout",
     "output_type": "stream",
     "text": [
      "           Term Category\n",
      "143     company  Default\n",
      "356    delivery  Default\n",
      "341        year  Default\n",
      "353  commercial  Default\n",
      "419    aircraft  Default\n",
      "..          ...      ...\n",
      "113        time   Topic7\n",
      "407  technology   Topic7\n",
      "395        rule   Topic7\n",
      "387       pilot   Topic7\n",
      "609       small   Topic7\n",
      "\n",
      "[580 rows x 2 columns]\n"
     ]
    },
    {
     "name": "stderr",
     "output_type": "stream",
     "text": [
      "/usr/local/lib/python3.9/site-packages/ipykernel/ipkernel.py:283: DeprecationWarning: `should_run_async` will not call `transform_cell` automatically in the future. Please pass the result to `transformed_cell` argument and any exception that happen during thetransform in `preprocessing_exc_tuple` in IPython 7.17 and above.\n",
      "  and should_run_async(code)\n"
     ]
    }
   ],
   "source": [
    "#Save LDA in file\n",
    "df = LDAvis_prepared[1]\n",
    "df = df.drop(columns = [\"Freq\", \"Total\", \"logprob\", \"loglift\"])\n",
    "print(df)\n",
    "compression_opts = dict(method='zip',\n",
    "                         archive_name='fin.csv')  \n",
    "df.to_csv('fin.zip', index=False,\n",
    "           compression=compression_opts)  "
   ]
  },
  {
   "cell_type": "code",
   "execution_count": 48,
   "id": "union-highway",
   "metadata": {},
   "outputs": [
    {
     "name": "stdout",
     "output_type": "stream",
     "text": [
      "           Term         Freq        Total Category  logprob  loglift\n",
      "143     company  1102.000000  1102.000000  Default  30.0000  30.0000\n",
      "356    delivery   389.000000   389.000000  Default  29.0000  29.0000\n",
      "341        year   527.000000   527.000000  Default  28.0000  28.0000\n",
      "353  commercial   400.000000   400.000000  Default  27.0000  27.0000\n",
      "419    aircraft   480.000000   480.000000  Default  26.0000  26.0000\n",
      "..          ...          ...          ...      ...      ...      ...\n",
      "113        time    18.128053   443.182400   Topic7  -5.6544  -0.1972\n",
      "407  technology    19.196894   641.863016   Topic7  -5.5971  -0.5104\n",
      "395        rule    16.218605   411.177824   Topic7  -5.7657  -0.2336\n",
      "387       pilot    16.805261   480.458013   Topic7  -5.7302  -0.3538\n",
      "609       small    14.669851   313.587303   Topic7  -5.8661  -0.0630\n",
      "\n",
      "[581 rows x 6 columns]\n"
     ]
    },
    {
     "name": "stderr",
     "output_type": "stream",
     "text": [
      "/usr/local/lib/python3.9/site-packages/ipykernel/ipkernel.py:283: DeprecationWarning: `should_run_async` will not call `transform_cell` automatically in the future. Please pass the result to `transformed_cell` argument and any exception that happen during thetransform in `preprocessing_exc_tuple` in IPython 7.17 and above.\n",
      "  and should_run_async(code)\n"
     ]
    }
   ],
   "source": [
    "df = LDAvis_prepared[1]\n",
    "print(df)"
   ]
  },
  {
   "cell_type": "code",
   "execution_count": null,
   "id": "further-germany",
   "metadata": {},
   "outputs": [],
   "source": []
  }
 ],
 "metadata": {
  "kernelspec": {
   "display_name": "Python 3",
   "language": "python",
   "name": "python3"
  },
  "language_info": {
   "codemirror_mode": {
    "name": "ipython",
    "version": 3
   },
   "file_extension": ".py",
   "mimetype": "text/x-python",
   "name": "python",
   "nbconvert_exporter": "python",
   "pygments_lexer": "ipython3",
   "version": "3.9.0"
  }
 },
 "nbformat": 4,
 "nbformat_minor": 5
}
